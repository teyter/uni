{
 "cells": [
  {
   "cell_type": "markdown",
   "metadata": {},
   "source": [
    "# Kynning á *NumPy:* Python fyrir fylkjareikninga"
   ]
  },
  {
   "cell_type": "code",
   "execution_count": 12,
   "metadata": {},
   "outputs": [
    {
     "name": "stdout",
     "output_type": "stream",
     "text": [
      "v = [0. 2.]\n",
      "A =\n",
      "[[2. 3.]\n",
      " [4. 5.]]\n",
      "ndim=2, shape=(2, 2), size=4, dtype=float64\n",
      "XXA = [[2. 3.]\n",
      " [4. 5.]]\n",
      "YA =\n",
      "[[2. 3.]\n",
      " [4. 5.]]\n",
      "int64\n"
     ]
    }
   ],
   "source": [
    "# R1  vigrar og fylki\n",
    "import numpy as np\n",
    "v = np.array([0., 2.])\n",
    "A = np.array([[2., 3.], [4., 5.]])\n",
    "# aefing 2\n",
    "B = np.array([[2,3],[4,5]])\n",
    "# aefing 3\n",
    "x = np.array([3,4,5,6])\n",
    "print('v =', v)\n",
    "print('A ='); print(A)\n",
    "print(f'ndim={A.ndim}, shape={A.shape}, size={A.size}, dtype={A.dtype}')\n",
    "# aefing 1\n",
    "print('XXA =', A)\n",
    "print(f'YA =\\n{A}')\n",
    "# aefing 2\n",
    "print(B.dtype)"
   ]
  },
  {
   "cell_type": "markdown",
   "metadata": {},
   "source": [
    "**Ath.** Í stærðfræði væri vigurinn táknaður $(0, 2)$ eða $\\pmatrix{0 \\\\ 2}$ og fylkið væri táknað $\\pmatrix{2 & 3 \\\\ 4 & 5}$. Stundum eru notaðir hornklofar [...] í stað sviga."
   ]
  },
  {
   "cell_type": "markdown",
   "metadata": {},
   "source": [
    "***Æfing:***\n",
    "1. Prófið `print('A =', A)` og líka `print(f'A =\\n{A}')`\n",
    "2. Prófið að sleppa tugtölupunktunum: `B = np.array([2, 3], [4, 5]` og print(B.dtype)\n",
    "3. Búið til vigur x = (3,4,5,6)"
   ]
  },
  {
   "cell_type": "code",
   "execution_count": 3,
   "metadata": {},
   "outputs": [
    {
     "name": "stdout",
     "output_type": "stream",
     "text": [
      "Z\n",
      "[[0. 0.]\n",
      " [0. 0.]]\n",
      "B\n",
      "[[1. 0.]\n",
      " [0. 1.]]\n",
      "e = [[1. 1. 1. 1.]]\n",
      "[[3.14159 3.14159 3.14159 3.14159 3.14159]\n",
      " [3.14159 3.14159 3.14159 3.14159 3.14159]\n",
      " [3.14159 3.14159 3.14159 3.14159 3.14159]]\n",
      "k = [ 1  2  3  4  5  6  7  8  9 10], dtype=int64\n",
      "h = [0.  0.5 1.  1.5 2.  2.5 3.  3.5 4.  4.5 5. ], dtype=float64\n"
     ]
    }
   ],
   "source": [
    "import numpy as np\n",
    "# R2  Föll til að búa til fylki\n",
    "Z = np.zeros((2,2))\n",
    "B = np.eye(2)\n",
    "e = np.ones((1,4))  # Hefð að nota litla stafi til að tákna vigra og stóra til að tákna fylki\n",
    "F = np.full((3,5), 3.14159)\n",
    "k = np.arange(1,11)\n",
    "h = np.linspace(0,5,11)\n",
    "print(\"Z\")\n",
    "print(Z) \n",
    "print(\"B\")\n",
    "print(B)\n",
    "print(f'e = {e}'); print(F)\n",
    "print(f'k = {k}, dtype={k.dtype}')\n",
    "print(f'h = {h}, dtype={h.dtype}')"
   ]
  },
  {
   "cell_type": "markdown",
   "metadata": {},
   "source": [
    "***Æfing:***\n",
    "1. Stikinn verður að vera par: Prófið að kalla á `npr.zeros(2,2)`\n",
    "2. Prófið að breyta víddum fylkjanna. \n",
    "3. Prófið að skoða dtype af fleiri fylkjum."
   ]
  },
  {
   "cell_type": "code",
   "execution_count": 114,
   "metadata": {},
   "outputs": [
    {
     "name": "stdout",
     "output_type": "stream",
     "text": [
      "A = \n",
      "[[3.142 3.142 3.142 3.142 3.142]\n",
      " [3.142 3.142 3.142 3.142 3.142]\n",
      " [3.142 3.142 3.142 3.142 3.142]]\n"
     ]
    }
   ],
   "source": [
    "# R3  Hægt er að stilla fjölda aukastafa o.fl. í útskrift:\n",
    "np.set_printoptions(precision=3, floatmode = 'fixed', suppress=True)\n",
    "A = np.full((3,5), 3.14159)\n",
    "print('A = '); print(A)\n",
    "\n",
    "# Stillt aftur á sjálfgefna útskrift:\n",
    "# np.set_printoptions(precision=8, suppress=False) # reset to default"
   ]
  },
  {
   "cell_type": "markdown",
   "metadata": {},
   "source": [
    "***Æfing:***\n",
    "Keyrið reit R3 og svo reit R2 aftur"
   ]
  },
  {
   "cell_type": "code",
   "execution_count": 120,
   "metadata": {},
   "outputs": [
    {
     "name": "stdout",
     "output_type": "stream",
     "text": [
      "[[0.771 0.676]\n",
      " [0.168 0.944]]\n",
      "[[0.453 0.107]\n",
      " [0.837 0.543]]\n",
      "[[0.552 0.432]\n",
      " [0.889 0.325]]\n",
      "[[0.692 0.576]\n",
      " [0.988 0.670]]\n",
      "[[0.356 0.280]\n",
      " [0.965 0.295]]\n"
     ]
    }
   ],
   "source": [
    "# R4  Slembifylki\n",
    "import numpy.random as npr\n",
    "for i in range(5):\n",
    "    A = npr.random((2,2))  # tekur inn par, gefur 2 x 2 slembifylki\n",
    "    print(A)"
   ]
  },
  {
   "cell_type": "markdown",
   "metadata": {},
   "source": [
    "***Æfing:***\n",
    "Keyrið reit R4 aftur og aftur"
   ]
  },
  {
   "cell_type": "code",
   "execution_count": 8,
   "metadata": {},
   "outputs": [
    {
     "name": "stdout",
     "output_type": "stream",
     "text": [
      "[2. 3. 5.]\n",
      "[[ 4.  9.]\n",
      " [16. 25.]]\n",
      "[[1.41421356 1.73205081]\n",
      " [2.         2.23606798]]\n",
      "[[  7.3890561   20.08553692]\n",
      " [ 54.59815003 148.4131591 ]]\n"
     ]
    }
   ],
   "source": [
    "# R5  Fylkja og vigurreikningar\n",
    "A = np.array([[2., 3.], [4., 5.]])\n",
    "x = np.array([1, 2, 3], dtype=float)\n",
    "y = np.array([1.0, 1.0, 2.0])\n",
    "z = x + y       # tilsvarandi stök lögð saman\n",
    "B = A*A         # -- og margfölduð\n",
    "S = np.sqrt(A)  # tekur kvaðratrót af hverju staki\n",
    "E = np.exp(A)   # og exp (líka til np.sin, np.log o.s.frv.)\n",
    "print(z); print(B)\n",
    "print(S); print(E)"
   ]
  },
  {
   "cell_type": "markdown",
   "metadata": {},
   "source": [
    "***Æfing:***\n",
    "Prófið fleiri aðgerðir (mínus, deilingu, margföldun fylkis og tölu)"
   ]
  }
 ],
 "metadata": {
  "kernelspec": {
   "display_name": "Python 3",
   "language": "python",
   "name": "python3"
  },
  "language_info": {
   "codemirror_mode": {
    "name": "ipython",
    "version": 3
   },
   "file_extension": ".py",
   "mimetype": "text/x-python",
   "name": "python",
   "nbconvert_exporter": "python",
   "pygments_lexer": "ipython3",
   "version": "3.7.1"
  }
 },
 "nbformat": 4,
 "nbformat_minor": 2
}
