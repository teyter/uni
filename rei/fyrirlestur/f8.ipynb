{
 "cells": [
  {
   "cell_type": "markdown",
   "metadata": {},
   "source": [
    "# Stærðfræði og reiknifræði – Fyrirlestraræfing 8"
   ]
  },
  {
   "cell_type": "code",
   "execution_count": 10,
   "metadata": {},
   "outputs": [],
   "source": [
    "#BYRJA -- Keyrið til að frumstilla.\n",
    "import numpy as np, numpy.random as npr\n",
    "import scipy.stats as stat, statsmodels.api as sm\n",
    "import matplotlib.pyplot as plt\n",
    "import numpy.linalg as la\n",
    "plt.rc('axes', axisbelow=True)\n",
    "%matplotlib inline\n",
    "# disp(x,y...) skrifar x,y... með 3 aukastöfum\n",
    "def disp(*args): print(*(f'{a:.3f}' if isinstance(a,float) else a for a in args))\n",
    "np.set_printoptions(precision=4, floatmode='fixed', suppress=True)"
   ]
  },
  {
   "cell_type": "markdown",
   "metadata": {},
   "source": [
    "## 1. Ýmis vigurföll\n",
    "Við byrjum á að rifja upp/reikna aftur seinni hlutann af tímadæmum 7.\n",
    "\n",
    "**a**) Fjarlægð milli tveggja punkta, $a$ og $b$ er gefin með $\\|a - b\\|$. Hana má reikna $\\| x \\|$ með `la.norm(x)` (þar sem `numpy.linalg` er flutt inn sem `la`). Reiknið fjarlægðina milli $(1,2,3)$ og $(4,6,15)$.\n",
    "\n",
    "**b)** Meðaltal og staðalfrávik vigurs `x` má reikna með `np.mean(x)` og `np.std(x)`. Lesið inn upplýsingar um körfuboltamennina (úr skránni `karfa.txt`) með skipuninni `[aldur, hæð, þyngd] = np.loadtxt('karfa.txt').T` og reiknið meðaltal og staðalfrávik þyngdar þeirra og sömuleiðis hæðar.\n",
    "\n",
    "**c)** Dreifni vigurs er staðalfrávik hans í öðru veldi og hana má reikna með `np.var(x)`. Reiknið dreifni hæðar körfuboltamannanna og sannreynið að kvaðratrótin af henni sé jöfn staðalfrávikinu.\n",
    "\n",
    "**d)** Hornið milli $x$ og $y$ er $\\arccos \\frac{x^T y}{\\|x\\| \\|y\\|}$. Reiknið hornið milli $(1,1,1)$ og $(1,2,3)$. Munið að $x^Ty$ ($=x\\cdot y$) má reikna með `x @ y`. "
   ]
  },
  {
   "cell_type": "code",
   "execution_count": 29,
   "metadata": {},
   "outputs": [
    {
     "name": "stdout",
     "output_type": "stream",
     "text": [
      "12.901659590319298\n",
      "True\n",
      "22.207654298596477\n"
     ]
    }
   ],
   "source": [
    "# a\n",
    "a = np.array([1,2,3])\n",
    "b = np.array([4,6,15])\n",
    "anorm = la.norm(a)\n",
    "bnorm = la.norm(b)\n",
    "res = bnorm - anorm\n",
    "print(res)\n",
    "# b\n",
    "a, h, w = np.loadtxt('karfa.txt').T\n",
    "mw = np.mean(w)\n",
    "sw = np.std(w)\n",
    "mh = np.mean(h)\n",
    "sh = np.std(h)\n",
    "# c\n",
    "vh = np.var(h)\n",
    "print( np.sqrt(vh) == sh )\n",
    "# d\n",
    "x = np.array([1,1,1])\n",
    "y = np.array([1,2,3])\n",
    "z = x@y\n",
    "nx = la.norm(x)\n",
    "ny = la.norm(y)\n",
    "pez = z/(nx*ny)\n",
    "res = np.arccos(pez)\n",
    "print(np.degrees(res))"
   ]
  },
  {
   "cell_type": "markdown",
   "metadata": {},
   "source": [
    "## 2. Fjarlægð milli Reykjavíkur og London\n",
    "Þetta var líka á tímadæmunum en hér er það hálfreiknað og þarf bara að klára. Vigur með kúluhnit $(R, l, b)$ er\n",
    "\n",
    "$$\\pmatrix{R\\sin l \\cos b\\\\R\\cos l \\cos b\\\\R\\sin b}$$\n",
    "\n",
    "Hér getur $R$ verið radíus jarðar, $R \\approx 6370\\ \\text{km}$, og $l$ og $b$ hnattstaða (lengd og breidd). Lengd hringboga í hring með radíus $R$ sem spannar horn sem er $\\theta$ radíanar er $L = r\\theta.$ Reiknið fjarlægðina milli Reykjavíkur (64°N og 22°E) og London (51.5°N og 0°W) (Siri segir 1890 km), sbr. dæmi 1d. \n",
    "\n",
    "[*Á Wikipediu er [grein með myndum](https://en.wikipedia.org/wiki/Great-circle_distance) sem má skoða og hér er önnur [um boga](https://en.wikipedia.org/wiki/Arc_(geometry)), og svo er líka mynd á bls. 59 í kennslubók.*]"
   ]
  },
  {
   "cell_type": "code",
   "execution_count": 33,
   "metadata": {},
   "outputs": [
    {
     "name": "stdout",
     "output_type": "stream",
     "text": [
      "16.976\n"
     ]
    }
   ],
   "source": [
    "def sind(x): return np.sin(np.radians(x))  # sin(x°) \n",
    "def cosd(x): return np.cos(np.radians(x))  # cos(x°)\n",
    "R = 6370\n",
    "bRvk = 64\n",
    "lRvk = -22\n",
    "bLondon = 51.5\n",
    "lLondon = 0\n",
    "x = np.array([\n",
    "    R*sind(lRvk)*cosd(bRvk),\n",
    "    R*cosd(lRvk)*cosd(bRvk),\n",
    "    R*sind(bRvk)\n",
    "])\n",
    "y = np.array([\n",
    "    R*sind(lLondon)*cosd(bLondon),\n",
    "    R*cosd(lLondon)*cosd(bLondon),\n",
    "    R*sind(bLondon)\n",
    "])\n",
    "theta = np.arccos( (x@y)/(la.norm(x)*la.norm(y)) )\n",
    "D = np.degrees(theta)\n",
    "disp(D)"
   ]
  },
  {
   "cell_type": "markdown",
   "metadata": {},
   "source": [
    "## 3. Jafna besta plans\n",
    "Byrjum á að skoða (rifja upp) ákvörðun á jöfnu besta plans. Í þessu [stackoverflow-svari](\n",
    "https://stackoverflow.com/questions/47344850/scatterplot3d-regression-plane-with-residuals) eru myndir sem gæti verið gagnlegt að skoða.\n",
    "\n",
    "Í reitnum hér á eftir eru búin til gervigögn sem gætu t.d. lýst hæð 5–15 ára trjáa sem fall af aldri þeirra og hæð yfir sjó: trén hækka um einn metra á ári, en lækka um 1 m fyrir hverja 100 m sem þau standa hærra uppi í brekkunni:\n",
    "\n",
    "$$\n",
    "\\text{hæð}_i = a_0 + a_1 x_i + a_2 y_i + {\\varepsilon}_i\\ \\ (a_0 = 0.5, a_1 = 1, a_2 = -0.01)\n",
    "$$\n",
    "\n",
    "þar sem $x_i$ er aldur og $y_i$ er hys fyrir tré $i$."
   ]
  },
  {
   "cell_type": "code",
   "execution_count": null,
   "metadata": {},
   "outputs": [],
   "source": [
    "npr.seed(42)\n",
    "aldur = 5 + npr.rand(50)*10\n",
    "hys = npr.rand(50)*400\n",
    "eps = npr.randn(50)\n",
    "hæð = 0.5 + 1*aldur - 0.01*hys + eps\n",
    "plt.scatter(aldur, hæð, c=hys)\n",
    "plt.xlabel('aldur (ár)')\n",
    "plt.ylabel('hæð trjáa (m)')\n",
    "plt.colorbar(label='hæð yfir sjó')\n",
    "plt.grid()"
   ]
  },
  {
   "cell_type": "markdown",
   "metadata": {},
   "source": [
    "Nú skal meta stika líkansins með því að beita \"venjulegri aðferð minnstu kvaðrata\", þ.e.a.s. með því að lágmarka kvaðratsummu frávika milli hæðar trjánna og spár líkansins. Með öðrum orðum skal  lágmarka fallið:\n",
    "\n",
    "$$\n",
    "S(a_0, a_1, a_2) = \\sum_{i=1}^{50} (\\text{hæð}_i - (a_0 + a_1 x_i + a_2 y_i))^2\n",
    "$$\n",
    "\n",
    "Til þess má nota Python-fallið `sm.OLS` (þar sem `sm` er `statsmodels.api` sem flutt er inn að ofan). `OLS` stendur fyrir *ordinary least squares*. Hér er reitur sem sýnir hvernig:"
   ]
  },
  {
   "cell_type": "code",
   "execution_count": null,
   "metadata": {},
   "outputs": [],
   "source": [
    "X = np.c_[aldur, hys]   # Setjum aldur og hys inn í fylki\n",
    "X = sm.add_constant(X)  # Bætum við dálki af ásum\n",
    "model = sm.OLS(hæð, X)  # búum til líkan\n",
    "result = model.fit()    # finnum stika\n",
    "a = result.params       # Búum til vigur [a_0, a_1, a_2] með stikunum\n",
    "result.summary()        # Skrifum niðurstöðuna"
   ]
  },
  {
   "cell_type": "markdown",
   "metadata": {},
   "source": [
    "### Létt æfing:\n",
    "Næsti reitur skilgreinir punktasafn $(x_i, y_i, z_i), i=1,\\ldots,8$. Ákvarðið jöfnu besta plans í gegn um punktana\n",
    "\n",
    "**ATH.** Þið þurfið að búa til `X`, bæta við dálki með ásum, búa til `model`, kalla á `fit` og birta líkanið með `summary`."
   ]
  },
  {
   "cell_type": "code",
   "execution_count": 48,
   "metadata": {},
   "outputs": [
    {
     "data": {
      "image/png": "[encoded data removed]",
      "text/plain": [
       "<Figure size 432x288 with 2 Axes>"
      ]
     },
     "metadata": {
      "needs_background": "light"
     },
     "output_type": "display_data"
    }
   ],
   "source": [
    "x = np.array([3, 4, 8, 10, 9,  12, 14, 16])\n",
    "y = np.array([2, 3, 2,  4, 3,   2,  4,  3])\n",
    "z = np.array([5, 4, 9, 13, 14, 15, 18, 20])\n",
    "plt.scatter(x,z,c=y)\n",
    "plt.xlabel('x'); plt.ylabel('y')\n",
    "plt.colorbar(label='y');"
   ]
  },
  {
   "cell_type": "markdown",
   "metadata": {},
   "source": [
    "## 4. Fasteignamat\n",
    "Í skránni `íbúðasölur.txt` eru upplýsingar um söluverð á 100 íbúðum ásamt upplýsingum um þær, nánar tilekið:\n",
    "- flatarmál íbúðar\n",
    "- flatarmál bílskúrs (ef hann fylgir)\n",
    "- flatarmál svala (ef þær eru)\n",
    "- hvort íbúðin sé í kjallara ($K$ = 1)\n",
    "- hvort íbúðin sé á 3. hæð eða hærra án lyftu ($H$ = 1). \n",
    "\n",
    "Verkefnið snýst um að búa til fasteignamatslíkan sem er svona:\n",
    "\n",
    "$$\n",
    "\\log_{10}(\\text{söluverð}) \n",
    "= \\text{fasti} + a_1 \\log_{10}(\\text{flm})\n",
    "+ a_2 \\frac{\\text{bílskf}}{\\text{flm}} \n",
    "+ a_3 \\frac{\\text{svalf}}{\\text{flm}} + a_4 K +a_5 H\n",
    "$$\n",
    "\n",
    "Fastinn og stikarnir $a_1,\\ldots, a_5$ skulu valdir þannig að summa kvaðrata mismunarins milli $log_{10}(\\text{söluverð})$ og líkansins verði sem minnst, eins og í F7.1.\n",
    "\n",
    "a) Lesið inn skrána inn í sex vigra.<br>\n",
    "b) Búið til nokkur súlurit og/eða skatterplott af gögnunum.<br>\n",
    "c) Ákvarðið minnstu kvaðrata líkan útfrá gögnunum (eins og gert var í dæmi 3)<br>\n",
    "\n",
    "Að þessu loknu skulum við skoða [skýrslu á vef Þjóðskrár](https://www.skra.is/library/Samnyttar-skrar-/Um-okkur/Fasteigna-og-brunabotamatsskyrslur/Skýrsla%20um%20fasteignamat%202018.pdf), en á bls. 25 eru sýnd núgildandi fasteignamatslíkön. Það er reyndar líkan af söluverðinu sjálfu, en ekki logranum af því. Skoðum það betur í fyrirlestri."
   ]
  },
  {
   "cell_type": "code",
   "execution_count": 49,
   "metadata": {},
   "outputs": [
    {
     "data": {
      "text/plain": [
       "<matplotlib.colorbar.Colorbar at 0x7f9b7c919c18>"
      ]
     },
     "execution_count": 49,
     "metadata": {},
     "output_type": "execute_result"
    },
    {
     "data": {
      "image/png": "[encoded data removed]",
      "text/plain": [
       "<Figure size 720x360 with 2 Axes>"
      ]
     },
     "metadata": {
      "needs_background": "light"
     },
     "output_type": "display_data"
    }
   ],
   "source": [
    "v, fm, bilsk, sval, kj, h = np.loadtxt('ibudasolur.txt',skiprows=1).T\n",
    "X = [v,nplog10(flm), bilsk/flm, sval/flm, kj, h]\n",
    "X =\n",
    "plt.figure(figsize=(10,5));\n",
    "plt.hist(v)\n",
    "plt.hist(fm)\n",
    "plt.scatter(fm,v,c=kj)\n",
    "plt.grid()\n",
    "plt.colorbar()"
   ]
  }
 ],
 "metadata": {
  "kernelspec": {
   "display_name": "Python 3",
   "language": "python",
   "name": "python3"
  },
  "language_info": {
   "codemirror_mode": {
    "name": "ipython",
    "version": 3
   },
   "file_extension": ".py",
   "mimetype": "text/x-python",
   "name": "python",
   "nbconvert_exporter": "python",
   "pygments_lexer": "ipython3",
   "version": "3.7.1"
  }
 },
 "nbformat": 4,
 "nbformat_minor": 2
}
