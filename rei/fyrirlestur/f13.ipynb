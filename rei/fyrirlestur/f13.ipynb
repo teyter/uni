{
 "cells": [
  {
   "cell_type": "markdown",
   "metadata": {},
   "source": [
    "# Fyrirlestraræfing 13 – Um QR-þáttun"
   ]
  },
  {
   "cell_type": "code",
   "execution_count": 1,
   "metadata": {},
   "outputs": [],
   "source": [
    "#BYRJA -- Keyrið til að frumstilla numpy o.fl.\n",
    "import numpy as np, scipy.linalg as la\n",
    "# disp(x,y...) skrifar x,y... með 3 aukastöfum\n",
    "def disp(*args): print(*(f'{a:.3f}' if isinstance(a,float) else a for a in args))\n",
    "np.set_printoptions(precision=3, floatmode='fixed', suppress=True)"
   ]
  },
  {
   "cell_type": "markdown",
   "metadata": {},
   "source": [
    "Við förum ekki lengra í kennslubókinni en út 10. kafla sem endar á QR-þáttun. Hún kemur hinsvegar við sögu í mörgum seinni köflum bókarinnar. Í þessari fyrirlestraræfingu gefum við smá innsýn inn í sumt af því efni sem þar er á dagskrá.\n",
    "\n",
    "**QR-þáttun:** Ef $A$ er $m \\times n$ fylki með línulega óháða dálka og $m \\geq n$ þá má með Gram-Schmidt aðferðinni (reyndar eru til aðrar jafngóðar aðferðir) finna $m \\times n$ þverfylki $Q$ og $m \\times n$ efra þríhyrningsfylki $R$ þannig að:\n",
    "\n",
    "$$A = QR$$\n",
    "\n",
    "Rifum upp að þverstaðlað fylki $Q$ er þannig að $Q^TQ = I$ (einingafylkið), og efra þríhyrningsfylki er með eintóm 0 neðan hornalínu, t.d.:\n",
    "\n",
    "$$R = \\begin{pmatrix}2&1\\\\0&4\\\\0&0\\end{pmatrix}\\text{ eða }\n",
    "R = \\begin{pmatrix}2&1&3\\\\0&4&1\\\\0&0&5\\end{pmatrix}$$.\n",
    "\n",
    "Fyrra fylkið í dæminu fengist úr QR-þáttun $2 \\times 3$-fylkis og það seinna úr QR-þáttun $3\\times 3$ fylkis, og í báðum tilvikum væri $Q$ af stærð $3 \\times 3$.\n",
    "\n",
    "Í SciPy má finna QR-þáttun fylkis $A$ með `(Q,R) = la.qr(A)`.\n",
    "\n",
    "---\n",
    "> **ÆFING 1.** Finnið QR-þáttun fylkisins \n",
    ">    $$A = \\begin{pmatrix}2&1&3\\\\1&2&1\\\\1&0&2\\end{pmatrix}$$"
   ]
  },
  {
   "cell_type": "code",
   "execution_count": null,
   "metadata": {},
   "outputs": [],
   "source": [
    "#1"
   ]
  },
  {
   "cell_type": "markdown",
   "metadata": {},
   "source": [
    "Eitt af því sem hægt er að gera með QR-þáttun er að leysa jöfnuhneppi. Tökum sem dæmi $3\\times 3$ jöfnuhneppi \n",
    "\n",
    "$$Ax = b$$ \n",
    "\n",
    "Við QR-þáttum A og margföldum í gegnum jöfnurnar með $Q^T$ og fáum:\n",
    "\n",
    "$$Q^TQRx = Q^Tb$$\n",
    "\n",
    "og ef við látum $y = Q^Tb$ og af því að $Q^TQ = I$ þýðir þetta að:\n",
    "\n",
    "$$Rx = y$$\n",
    "\n",
    "Þetta er efra þríhyrningshneppi sem auðvelt er að leysa með svokallaðri endurinnsetningu: Fyrst setjum við\n",
    "\n",
    "$$x_3 = \\frac{y_3}{r_{33}}$$\n",
    "svo \n",
    "$$x_2 = \\frac{y_2 - r_{23}x_3}{r_{22}}$$\n",
    "og loks \n",
    "$$x_1 = \\frac{y_1 - r_{12}x_2 - r_{13}x_3}{r_{11}}$$ \n",
    "\n",
    "Í SciPy má leysa efra þríhyrningshneppi $Rx=y$ með `x = la.solve(R,y)`.\n",
    "\n",
    "---\n",
    "> **ÆFING 2.** Notið QR-þáttun til að leysa jöfnuhneppið $Ax=b$ þar sem $A$ er fylkið í æfingu 1 og $b=(7,1,5)$. Prófið svo að margfalda $A$ sinnum $x$."
   ]
  }
 ],
 "metadata": {
  "kernelspec": {
   "display_name": "Python 3",
   "language": "python",
   "name": "python3"
  },
  "language_info": {
   "codemirror_mode": {
    "name": "ipython",
    "version": 3
   },
   "file_extension": ".py",
   "mimetype": "text/x-python",
   "name": "python",
   "nbconvert_exporter": "python",
   "pygments_lexer": "ipython3",
   "version": "3.7.1"
  }
 },
 "nbformat": 4,
 "nbformat_minor": 2
}
