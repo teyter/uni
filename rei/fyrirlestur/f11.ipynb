{
 "cells": [
  {
   "cell_type": "markdown",
   "metadata": {},
   "source": [
    "# Stærðfræði og reiknifræði – Fyrirlestraræfing 11"
   ]
  },
  {
   "cell_type": "code",
   "execution_count": 1,
   "metadata": {},
   "outputs": [],
   "source": [
    "#BYRJA -- Keyrið til að frumstilla numpy o.fl.\n",
    "import numpy as np\n",
    "import numpy.random as npr\n",
    "import numpy.linalg as la\n",
    "import matplotlib.pyplot as plt\n",
    "plt.rc('axes', axisbelow=True)\n",
    "%matplotlib inline\n",
    "# disp(x,y...) skrifar x,y... með 3 aukastöfum\n",
    "def disp(*args): print(*(f'{a:.3f}' if isinstance(a,float) else a for a in args))\n",
    "np.set_printoptions(precision=3, floatmode='fixed', suppress=True)\n",
    "\n",
    "def ör(x,y,dx,dy):\n",
    "    \"\"\"Teiknar ör með örvaroddi frá (x,y) til (x+dx, y+dy)\"\"\"\n",
    "    plt.annotate('', (x+dx,y+dy), (x,y), arrowprops = {'width':0.5, 'headwidth':6, 'fc':'k'})"
   ]
  },
  {
   "cell_type": "markdown",
   "metadata": {},
   "source": [
    "1. Búið til eitthvað samhverft 2 sinnum 2 fylki $A$ og sannreynið með Numpy að $A^T = A$"
   ]
  },
  {
   "cell_type": "code",
   "execution_count": 6,
   "metadata": {},
   "outputs": [
    {
     "name": "stdout",
     "output_type": "stream",
     "text": [
      "[[5 7]\n",
      " [6 8]]\n"
     ]
    }
   ],
   "source": [
    "#1\n",
    "A = np.array([[5,6],[7,8]])\n",
    "print( A.T )"
   ]
  },
  {
   "cell_type": "markdown",
   "metadata": {},
   "source": [
    "2. Lát\n",
    "   $$A = \\pmatrix{1 & 2\\\\3 & 4}\\text{ og }x = \\pmatrix{2\\\\3}$$\n",
    "   og sannreynið bæði með blaði og blýanti og með Numpy að $Ax$ er línuleg samantekt af dálkum    fylkisins með samantektarstuðlum sem eru stök $x$ (sem sé $2$ og $3$)."
   ]
  },
  {
   "cell_type": "code",
   "execution_count": 14,
   "metadata": {},
   "outputs": [
    {
     "name": "stdout",
     "output_type": "stream",
     "text": [
      "[ 8 18]\n",
      "[[ 2  6]\n",
      " [ 6 12]]\n",
      "Kristján, þú verður að vanda þig betur þegar þú skrifar.\n",
      "Þetta dæmi t.d. er hrikalega illa skrifað.\n",
      "Ég skil ekki orð sem þú segir. Þú skrifar eins og afturgenginn halanegri.\n"
     ]
    }
   ],
   "source": [
    "#2\n",
    "A = np.array([[1,2],[3,4]])\n",
    "x = np.array([2,3])\n",
    "print(A@x)\n",
    "print(A*x)\n",
    "print('Kristján, þú verður að vanda þig betur þegar þú skrifar.')\n",
    "print('Þetta dæmi t.d. er hrikalega illa skrifað.')\n",
    "print('Ég skil ekki orð sem þú segir. Þú skrifar eins og afturgenginn halanegri.')"
   ]
  },
  {
   "cell_type": "markdown",
   "metadata": {},
   "source": [
    "3. Lát $A$ vera eins og í dæmi 2 og reiknið með Numpy $3*A$, $A + A$ og $A + A^T$ og $\\|A\\|$ (`la.norm` reiknar það síðastnefnda). Reiknið líka normið með blaði og blýanti."
   ]
  },
  {
   "cell_type": "code",
   "execution_count": 25,
   "metadata": {},
   "outputs": [
    {
     "name": "stdout",
     "output_type": "stream",
     "text": [
      "[[ 3  6]\n",
      " [ 9 12]]\n",
      "[[2 4]\n",
      " [6 8]]\n",
      "[[2 5]\n",
      " [5 8]]\n",
      "5.477\n",
      "5.477\n"
     ]
    }
   ],
   "source": [
    "#3\n",
    "print(3*A)\n",
    "print(A+A)\n",
    "print(A+A.T)\n",
    "disp(np.sqrt(1**2+2**2+3**2+4**2))\n",
    "disp(la.norm(A))"
   ]
  },
  {
   "cell_type": "markdown",
   "metadata": {},
   "source": [
    "4. Búið til 5 sinnum 5 fylki fyrir uppsafnaða summu (*running sum*) og beitið því á vigurinn $x = (2, 3, 4, 5, 6)$."
   ]
  },
  {
   "cell_type": "code",
   "execution_count": 23,
   "metadata": {},
   "outputs": [
    {
     "name": "stdout",
     "output_type": "stream",
     "text": [
      "[[0.689 0.936 0.759 0.167 0.748]\n",
      " [0.620 0.961 0.115 0.466 0.956]\n",
      " [0.828 0.586 0.904 0.461 0.555]\n",
      " [0.293 0.959 0.821 0.800 0.416]\n",
      " [0.738 0.059 0.646 0.652 0.113]]\n"
     ]
    }
   ],
   "source": [
    "#4\n",
    "F = np.random.random((5,5))\n",
    "disp(F)"
   ]
  },
  {
   "cell_type": "markdown",
   "metadata": {},
   "source": [
    "5. Látið $p = 2 - x + 3x^2$ og notið fylkjamargföldun með viðeigandi fylki $A$ til að reikna gildi $p$ í punktunum $t_i = 1$, $2$ og $3$."
   ]
  },
  {
   "cell_type": "code",
   "execution_count": 31,
   "metadata": {},
   "outputs": [
    {
     "name": "stdout",
     "output_type": "stream",
     "text": [
      "[[1.000 1.000 1.000]\n",
      " [1.000 2.000 4.000]\n",
      " [1.000 3.000 9.000]]\n",
      "[ 4.000 12.000 26.000]\n"
     ]
    }
   ],
   "source": [
    "#5\n",
    "A = np.zeros((3,3))\n",
    "c = np.array([2,-1,3])\n",
    "t = np.array([1,2,3])\n",
    "for i in range(3):\n",
    "    for j in range(3):\n",
    "        A[i,j] = t[i]**j\n",
    "        \n",
    "disp(A)\n",
    "disp(A@c)"
   ]
  },
  {
   "cell_type": "markdown",
   "metadata": {},
   "source": [
    "6. Búið snúningsfylki $A$ fyrir snúning um 60° rangsælis Teiknið vigurinn $a = (2,1)$ og reiknið og teiknið $b$ = snúning hans með $A$."
   ]
  },
  {
   "cell_type": "code",
   "execution_count": 7,
   "metadata": {},
   "outputs": [],
   "source": [
    "#6"
   ]
  },
  {
   "cell_type": "markdown",
   "metadata": {},
   "source": [
    "7. Látið $B$ spegla um línuna $y = x$, látið $a$ vera eins og í dæmi 1 og $c$ vera speglaða vigurinn. Reiknið og teiknið."
   ]
  },
  {
   "cell_type": "code",
   "execution_count": 8,
   "metadata": {},
   "outputs": [],
   "source": [
    "#7"
   ]
  },
  {
   "cell_type": "markdown",
   "metadata": {},
   "source": [
    "8. Búið til fylki fyrir netið á mynd 7.3 á bls. 134. Látið flæðið vera $x_j = j$ fyrir öll $j$ og reiknið inn/útstreymin $s_i, i = 1\\ldots 4$."
   ]
  },
  {
   "cell_type": "code",
   "execution_count": 9,
   "metadata": {},
   "outputs": [],
   "source": [
    "#8"
   ]
  }
 ],
 "metadata": {
  "kernelspec": {
   "display_name": "Python 3",
   "language": "python",
   "name": "python3"
  },
  "language_info": {
   "codemirror_mode": {
    "name": "ipython",
    "version": 3
   },
   "file_extension": ".py",
   "mimetype": "text/x-python",
   "name": "python",
   "nbconvert_exporter": "python",
   "pygments_lexer": "ipython3",
   "version": "3.7.1"
  }
 },
 "nbformat": 4,
 "nbformat_minor": 2
}
