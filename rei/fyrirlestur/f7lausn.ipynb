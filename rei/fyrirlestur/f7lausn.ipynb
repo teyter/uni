{
 "cells": [
  {
   "cell_type": "markdown",
   "metadata": {},
   "source": [
    "# Stærðfræði og reiknifræði – Fyrirlestraræfing 7 – Lausnir"
   ]
  },
  {
   "cell_type": "code",
   "execution_count": 1,
   "metadata": {},
   "outputs": [],
   "source": [
    "#BYRJA -- Keyrið til að frumstilla.\n",
    "import numpy as np, numpy.random as npr\n",
    "import scipy.stats as stat, statsmodels.api as sm\n",
    "import matplotlib.pyplot as plt\n",
    "plt.rc('axes', axisbelow=True)\n",
    "%matplotlib inline\n",
    "# disp(x,y...) skrifar x,y... með 3 aukastöfum\n",
    "def disp(*args): print(*(f'{a:.3f}' if isinstance(a,float) else a for a in args))\n",
    "np.set_printoptions(precision=3, floatmode='fixed', suppress=True)"
   ]
  },
  {
   "cell_type": "markdown",
   "metadata": {},
   "source": [
    "## F7.1  Línuföll\n",
    "**a)** Búið til línufallið (*affine function*) $g(x) = 2.3 - 2 x_1 + 1.3 x_2 - x_3$ í Python og reiknið $g(1, 2, 3)$\n",
    "\n",
    "**b)** Búið svo til línulega fallið (*linear function*) $f(x) = -2 x_1 + 1.3 x_2 - x_3$ og sannreynið formúluna:\n",
    "\n",
    "$$\n",
    "f(\\alpha x + \\beta y) = \\alpha f(x) + \\beta f(y)\n",
    "$$\n",
    "\n",
    "(með því að velja einhver $x, y, \\alpha$ og $\\beta$)."
   ]
  },
  {
   "cell_type": "code",
   "execution_count": null,
   "metadata": {},
   "outputs": [],
   "source": []
  },
  {
   "cell_type": "code",
   "execution_count": 2,
   "metadata": {},
   "outputs": [
    {
     "name": "stdout",
     "output_type": "stream",
     "text": [
      "g(1,2,3) = -0.100\n",
      "-23.600\n",
      "-23.600\n"
     ]
    }
   ],
   "source": [
    "#a\n",
    "def g(x):\n",
    "    return 2.3 - 2*x[0] + 1.3*x[1] - x[2]\n",
    "disp('g(1,2,3) =', g([1,2,3]))\n",
    "#b\n",
    "def f(x):\n",
    "    return -2*x[0] + 1.3*x[1] - x[2]\n",
    "x = np.array([1,2,3])\n",
    "y = np.array([3,4,5])\n",
    "alpha = 5; beta = 2\n",
    "disp(f(alpha*x + beta*y))\n",
    "disp(alpha*f(x) + beta*f(y))"
   ]
  },
  {
   "cell_type": "markdown",
   "metadata": {},
   "source": [
    "## F7.2 Taylor-nálganir\n",
    "**a)** Finnið einvíða Taylor-nálgun við $y = \\ln(x)$ í $x = 2$, forritið hana í Python, og athugið nákvæmnina í $x = 1.8, 1.9, 2.0, 2.1$ og $2.2$"
   ]
  },
  {
   "cell_type": "markdown",
   "metadata": {},
   "source": [
    "**Lausn:** Hér er $f(x) = ln(x)$ og Taylor-nálgunin er jafna snertils í x = 2:\n",
    "\n",
    "$$s(x) = f(x_0) + f'(x_0)(x - x_0)$$\n",
    "\n",
    "Hér er $x_0 = 2$, $f(x_0) = \\ln(x)$, $f'(x) = 1/x$ og $f'(2) = 1/2$ svo við fáum:\n",
    "\n",
    "$$s(x) = \\ln 2 - 1 + x/2$$"
   ]
  },
  {
   "cell_type": "code",
   "execution_count": 3,
   "metadata": {
    "scrolled": true
   },
   "outputs": [
    {
     "name": "stdout",
     "output_type": "stream",
     "text": [
      "1.800 0.588 0.593 0.005\n",
      "1.900 0.642 0.643 0.001\n",
      "2.000 0.693 0.693 0.000\n",
      "2.100 0.742 0.743 0.001\n",
      "2.200 0.788 0.793 0.005\n"
     ]
    }
   ],
   "source": [
    "def f(x): return np.log(x)\n",
    "def s(x): return np.log(2) - 1 + x/2\n",
    "for x in np.arange(1.8,2.3,0.1):\n",
    "    disp(x, f(x), s(x), s(x)-f(x))"
   ]
  },
  {
   "cell_type": "markdown",
   "metadata": {},
   "source": [
    "------\n",
    "**b)** Finnið tvívíða Taylornálgun við $z = x^3 - xy$ í $(x,y) = (1,2)$, forritið og athugið nákvæmnina í $(1.1, 2.1)$"
   ]
  },
  {
   "cell_type": "markdown",
   "metadata": {},
   "source": [
    "**Lausn:** Fallsgildið í $(1,2)$ er $1^3 - 1\\cdot 2 = -1$ og\n",
    "$$\\frac{\\partial z}{\\partial x} = 3x^2 - y, \\frac{\\partial z}{\\partial y} = -x$$ \n",
    "\n",
    "svo stigullinn í $(1,2)$ er $\\nabla f(1,2) = (3\\cdot 1^2 - 2, -1) = (1, -1)$. Taylornálgunin er þá\n",
    "\n",
    "$$\\hat{f}(x,y) = f(1,2) + \\nabla f(1,2)\\cdot ((x,y) - (1,2)) = -1 + (1, -1)\\cdot (x-1, y-2) = -1 + (x-1) - (y-2) = x-y$$"
   ]
  },
  {
   "cell_type": "code",
   "execution_count": 4,
   "metadata": {},
   "outputs": [
    {
     "name": "stdout",
     "output_type": "stream",
     "text": [
      "-0.979 -1.000\n"
     ]
    }
   ],
   "source": [
    "def f(x,y): return x**3 - x*y\n",
    "def s(x,y): return x - y\n",
    "disp(f(1.1,2.1), s(1.1,2.1))"
   ]
  },
  {
   "cell_type": "markdown",
   "metadata": {},
   "source": [
    "**Afgangurinn af dæmunum var geymdur og kom í tímadæmum 7 og/eða fyrirlestraræfingu 8**"
   ]
  }
 ],
 "metadata": {
  "kernelspec": {
   "display_name": "Python 3",
   "language": "python",
   "name": "python3"
  },
  "language_info": {
   "codemirror_mode": {
    "name": "ipython",
    "version": 3
   },
   "file_extension": ".py",
   "mimetype": "text/x-python",
   "name": "python",
   "nbconvert_exporter": "python",
   "pygments_lexer": "ipython3",
   "version": "3.7.1"
  }
 },
 "nbformat": 4,
 "nbformat_minor": 2
}
