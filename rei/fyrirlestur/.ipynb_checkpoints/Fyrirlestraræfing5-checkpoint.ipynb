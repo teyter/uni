{
 "cells": [
  {
   "cell_type": "markdown",
   "metadata": {},
   "source": [
    "# Fyrirlestraræfing 5, fim. 7. febrúar 2018\n",
    "Þessi æfing snýst um teikningu með Matplotlib. Byrjið á að nústilla með því að keyra næsta reit."
   ]
  },
  {
   "cell_type": "code",
   "execution_count": 1,
   "metadata": {},
   "outputs": [],
   "source": [
    "#BYRJA -- Keyrið til að frumstilla numpy o.fl.\n",
    "import numpy as np, numpy.random as npr\n",
    "import matplotlib.pyplot as plt\n",
    "import scipy.stats as st, scipy.optimize as opt\n",
    "\n",
    "plt.rc('axes', axisbelow=True)\n",
    "%matplotlib inline\n",
    "np.set_printoptions(precision=2, floatmode='fixed', suppress=True)"
   ]
  },
  {
   "cell_type": "markdown",
   "metadata": {},
   "source": [
    "## F1. Bestun\n",
    "Rifjum upp jöfnu bestu línu, þar sem summa frávika í öðru veldi er:\n",
    "\n",
    "$$ \\label{e1}\n",
    "S(a,b) = \\sum_{i=1}^{n}(aX_i + b - Y_i)^2\n",
    "$$\n",
    "\n",
    "(notum $X$ og $Y$ í stað $x$ og $y$ því við þurfum $x$ í annað). \n",
    "\n",
    "Hér er sá partur úr lausninni á Tímadæmum 4 sem þarf til að búa til punktasafn (X,Y) til að nota:"
   ]
  },
  {
   "cell_type": "code",
   "execution_count": 2,
   "metadata": {},
   "outputs": [],
   "source": [
    "npr.seed(10)\n",
    "\n",
    "def slembixy(n):\n",
    "    \"\"\"skilar (x,y), hermdum punktum til að finna jöfnu bestu línu\"\"\"\n",
    "    x = 1 + 5*npr.random(n)\n",
    "    e = 0.7*npr.normal(size=n)\n",
    "    y = 1.5*x + 0.3 + e\n",
    "    return x,y\n",
    "\n",
    "def d(a,b,x,y):\n",
    "    \"\"\"Kvaðratsumma frávika milli a*x + b og y\"\"\"\n",
    "    n = len(x)\n",
    "    return  sum((a*x + b - y)**2)\n",
    "\n",
    "n = 50\n",
    "X,Y = slembixy(n)"
   ]
  },
  {
   "cell_type": "markdown",
   "metadata": {},
   "source": [
    "Hér er svo sá partur sem þarf til skilgreina S og fylkið Z sem er notað í hæðarlínuteikningu þess (með smá breytingu, aðallega að nú verður $b$ á x-ás og $a$ á y-ás, en líka að `U` og `V` koma í stað `u` og `v`):\n",
    "\n",
    "    def S(a,b):\n",
    "        \"\"\"Kvaðratsumma frávika milli a*X + b og Y\"\"\"\n",
    "        return d(a, b, X, Y)\n",
    "        \n",
    "    U = np.linspace(-1, 2)\n",
    "    V = np.linspace(1, 2)\n",
    "\n",
    "    nu = len(U)\n",
    "    nv = len(V)\n",
    "    Z = np.zeros((nu,nv))\n",
    "    for i in range(nu):\n",
    "        for j in range(nv):\n",
    "            Z[i,j] = S(v[i], u[j])\n",
    "    \n",
    "### F5.1  Einföldun á skilgreiningu S\n",
    "Byrjum á að nota *comprehension* (*yfirgrip*) til að einfalda skilgreiningu Z. \n",
    "Hér er dæmi sem býr til fylki með $a_{ij} = i+j, i = 0,...,2, j = 0, 1$:"
   ]
  },
  {
   "cell_type": "code",
   "execution_count": null,
   "metadata": {},
   "outputs": [],
   "source": [
    "I = [0,1,2]; J = [0,1]\n",
    "A = np.array([[i + j for i in I] for j in J]); A"
   ]
  },
  {
   "cell_type": "markdown",
   "metadata": {},
   "source": [
    "Horfið eftir þessu dæmi til að einfalda útreikning Z, með því að breyta næsta reit \n",
    "(það er hægt að sleppa við að skilgreina `nu` og `nv` og reyndar þarf\n",
    "bara eina línu í stað síðustu 6):"
   ]
  },
  {
   "cell_type": "code",
   "execution_count": null,
   "metadata": {},
   "outputs": [],
   "source": [
    "def S(a,b):\n",
    "    \"\"\"Kvaðratsumma frávika milli a*X + b og Y\"\"\"\n",
    "    return d(a, b, X, Y)\n",
    "\n",
    "U = np.linspace(-1, 2)\n",
    "V = np.linspace(1, 2)\n",
    "\n",
    "nu = len(U)\n",
    "nv = len(V)\n",
    "Z = np.zeros((nu,nv))\n",
    "for i in range(nu):\n",
    "    for j in range(nv):\n",
    "        Z[i,j] = S(V[i], U[j])"
   ]
  },
  {
   "cell_type": "markdown",
   "metadata": {},
   "source": [
    "Hér er svo reitur sem teiknar:"
   ]
  },
  {
   "cell_type": "code",
   "execution_count": null,
   "metadata": {},
   "outputs": [],
   "source": [
    "plt.figure(figsize = (12,3))\n",
    "plt.contour(U, V, Z.T, 40)\n",
    "plt.grid();\n",
    "plt.title('Kvaðratsumma frávika fyrir jöfnu bestu línu, y = ax + b')\n",
    "plt.xlabel('skurðpunktur við y-ás, a')\n",
    "plt.ylabel('hallatala, b')"
   ]
  },
  {
   "cell_type": "markdown",
   "metadata": {},
   "source": [
    "### F5.2  Lágmörkun\n",
    "Næst ætlum við að prófa bestunarpakkann í Scipy sem er fluttur inn sem `opt` í byrjunarreitnum. \n",
    "Skoðum fall Rosenbrocks:\n",
    "\n",
    "$$\n",
    "f(x_0, x_1) = (1 - x_0)^2 + 100(x_1 - x_0^2)^2\n",
    "$$\n",
    "\n",
    "a) Skrifið Python-fall sem tekur inn tveggja staka vigur `x` og skilar fallsgildi Rosenbrock-fallsins þar.\n",
    "\n",
    "Eitt aðalfallið í bestunarpakkanum er `opt.minimize`. Það tekur inn tvo skyldustika `fall` til að lágmarka\n",
    "og byrjunarpunkt `x0` fyrir lágmörkunarreikniritið. Það skilar `result` sem hægt er að prenta út\n",
    "til að fá upplýsingar um hvernig til tókst, og inniheldur m.a. `result.x` með lausninni ef hún fannst.\n",
    "\n",
    "b) Lágmarkið fall Rosenbrocks.\n",
    "\n",
    "c) Lágmarkið fallið S (það þarf að breyta því þannig að það taki inn vigur x = [b, a], skoðum það betur í fyrirlestri)"
   ]
  }
 ],
 "metadata": {
  "kernelspec": {
   "display_name": "Python 3",
   "language": "python",
   "name": "python3"
  },
  "language_info": {
   "codemirror_mode": {
    "name": "ipython",
    "version": 3
   },
   "file_extension": ".py",
   "mimetype": "text/x-python",
   "name": "python",
   "nbconvert_exporter": "python",
   "pygments_lexer": "ipython3",
   "version": "3.7.1"
  }
 },
 "nbformat": 4,
 "nbformat_minor": 2
}
