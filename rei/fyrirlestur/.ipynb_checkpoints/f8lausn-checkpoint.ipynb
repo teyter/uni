{
 "cells": [
  {
   "cell_type": "markdown",
   "metadata": {},
   "source": [
    "# Stæ & rei – Fyrirlestraræfing 8 – Lausnir"
   ]
  },
  {
   "cell_type": "code",
   "execution_count": 1,
   "metadata": {},
   "outputs": [],
   "source": [
    "#BYRJA -- Keyrið til að frumstilla.\n",
    "import numpy as np, numpy.random as npr, numpy.linalg as la\n",
    "import scipy.stats as stat, statsmodels.api as sm\n",
    "import matplotlib.pyplot as plt\n",
    "plt.rc('axes', axisbelow=True)\n",
    "%matplotlib inline\n",
    "# disp(x,y...) skrifar x,y... með 3 aukastöfum\n",
    "def disp(*args): print(*(f'{a:.3f}' if isinstance(a,float) else a for a in args))\n",
    "np.set_printoptions(precision=4, floatmode='fixed', suppress=True)"
   ]
  },
  {
   "cell_type": "markdown",
   "metadata": {},
   "source": [
    "## 1. Ýmis vigurföll\n",
    "Við byrjum á að rifja upp/reikna aftur seinni hlutann af tímadæmum 7.\n",
    "\n",
    "**a**) Fjarlægð milli tveggja punkta, $a$ og $b$ er gefin með $\\|a - b\\|$. Hana má reikna $\\| x \\|$ með `la.norm(x)` (þar sem `numpy.linalg` er flutt inn sem `la`). Reiknið fjarlægðina milli $(1,2,3)$ og $(4,6,15)$.\n",
    "\n",
    "**b)** Meðaltal og staðalfrávik vigurs `x` má reikna með `np.mean(x)` og `np.std(x)`. Lesið inn upplýsingar um körfuboltamennina (úr skránni `karfa.txt`) með skipuninni `[aldur, hæð, þyngd] = np.loadtxt('karfa.txt').T` og reiknið meðaltal og staðalfrávik þyngdar þeirra og sömuleiðis hæðar.\n",
    "\n",
    "**c)** Dreifni vigurs er staðalfrávik hans í öðru veldi og hana má reikna með `np.var(x)`. Reiknið dreifni hæðar körfuboltamannanna og sannreynið að kvaðratrótin af henni sé jöfn staðalfrávikinu.\n",
    "\n",
    "**d)** Hornið milli $x$ og $y$ er $\\arccos \\frac{x^T y}{\\|x\\| \\|y\\|}$. Reiknið hornið milli $(1,1,1)$ og $(1,2,3)$. Munið að $x^Ty$ ($=x\\cdot y$) má reikna með `x @ y`. "
   ]
  },
  {
   "cell_type": "markdown",
   "metadata": {},
   "source": [
    "**Sjá lausn á Tímadæmum 7**"
   ]
  },
  {
   "cell_type": "markdown",
   "metadata": {},
   "source": [
    "## 2. Fjarlægð milli Reykjavíkur og London\n",
    "Þetta var líka á tímadæmunum en hér er það hálfreiknað og þarf bara að klára. Vigur með kúluhnit $(R, l, b)$ er\n",
    "\n",
    "$$\\pmatrix{R\\sin l \\cos b\\\\R\\cos l \\cos b\\\\R\\sin b}$$\n",
    "\n",
    "Hér getur $R$ verið radíus jarðar, $R \\approx 6370\\ \\text{km}$, og $l$ og $b$ hnattstaða (lengd og breidd). Lengd hringboga í hring með radíus $R$ sem spannar horn sem er $\\theta$ radíanar er $L = r\\theta.$ Reiknið fjarlægðina milli Reykjavíkur (64°N og 22°E) og London (51.5°N og 0°W) (Siri segir 1890 km), sbr. dæmi 1d. \n",
    "\n",
    "[*Á Wikipediu er [grein með myndum](https://en.wikipedia.org/wiki/Great-circle_distance) sem má skoða og hér er önnur [um boga](https://en.wikipedia.org/wiki/Arc_(geometry)), og svo er líka mynd á bls. 59 í kennslubók.*]"
   ]
  },
  {
   "cell_type": "code",
   "execution_count": 2,
   "metadata": {},
   "outputs": [
    {
     "name": "stdout",
     "output_type": "stream",
     "text": [
      "1887.395\n"
     ]
    }
   ],
   "source": [
    "def sind(x): return np.sin(np.radians(x))  # sin(x°) \n",
    "def cosd(x): return np.cos(np.radians(x))  # cos(x°)\n",
    "R = 6370\n",
    "bRvk = 64\n",
    "lRvk = -22\n",
    "bLondon = 51.5\n",
    "lLondon = 0\n",
    "x = np.array([\n",
    "    R*sind(lRvk)*cosd(bRvk),\n",
    "    R*cosd(lRvk)*cosd(bRvk),\n",
    "    R*sind(bRvk)\n",
    "])\n",
    "y = np.array([\n",
    "    R*sind(lLondon)*cosd(bLondon),\n",
    "    R*cosd(lLondon)*cosd(bLondon),\n",
    "    R*sind(bLondon)\n",
    "])\n",
    "theta = np.arccos((x@y)/(la.norm(x)*la.norm(y)))\n",
    "D = R*theta\n",
    "disp(D)"
   ]
  },
  {
   "cell_type": "markdown",
   "metadata": {},
   "source": [
    "## 3. Jafna besta plans\n",
    "Byrjum á að skoða (rifja upp) ákvörðun á jöfnu besta plans. Í þessu [stackoverflow-svari](\n",
    "https://stackoverflow.com/questions/47344850/scatterplot3d-regression-plane-with-residuals) eru myndir sem gæti verið gagnlegt að skoða.\n",
    "\n",
    "Í reitnum hér á eftir eru búin til gervigögn sem gætu t.d. lýst hæð 5–15 ára trjáa sem fall af aldri þeirra og hæð yfir sjó: trén hækka um einn metra á ári, en lækka um 1 m fyrir hverja 100 m sem þau standa hærra uppi í brekkunni:\n",
    "\n",
    "$$\n",
    "\\text{hæð}_i = a_0 + a_1 x_i + a_2 y_i + {\\varepsilon}_i\\ \\ (a_0 = 0.5, a_1 = 1, a_2 = -0.01)\n",
    "$$\n",
    "\n",
    "þar sem $x_i$ er aldur og $y_i$ er hys fyrir tré $i$."
   ]
  },
  {
   "cell_type": "code",
   "execution_count": 3,
   "metadata": {},
   "outputs": [
    {
     "data": {
      "image/png": "[encoded data removed]",
      "text/plain": [
       "<Figure size 432x288 with 2 Axes>"
      ]
     },
     "metadata": {
      "needs_background": "light"
     },
     "output_type": "display_data"
    }
   ],
   "source": [
    "npr.seed(42)\n",
    "aldur = 5 + npr.rand(50)*10\n",
    "hys = npr.rand(50)*400\n",
    "eps = npr.randn(50)\n",
    "hæð = 0.5 + 1*aldur - 0.01*hys + eps\n",
    "plt.scatter(aldur, hæð, c=hys)\n",
    "plt.xlabel('aldur (ár)')\n",
    "plt.ylabel('hæð trjáa (m)')\n",
    "plt.colorbar(label='hæð yfir sjó')\n",
    "plt.grid()"
   ]
  },
  {
   "cell_type": "markdown",
   "metadata": {},
   "source": [
    "Nú skal meta stika líkansins með því að beita \"venjulegri aðferð minnstu kvaðrata\", þ.e.a.s. með því að lágmarka kvaðratsummu frávika milli hæðar trjánna og spár líkansins. Með öðrum orðum skal  lágmarka fallið:\n",
    "\n",
    "$$\n",
    "S(a_0, a_1, a_2) = \\sum_{i=1}^{50} (\\text{hæð}_i - (a_0 + a_1 x_i + a_2 y_i))^2\n",
    "$$\n",
    "\n",
    "Til þess má nota Python-fallið `sm.OLS` (þar sem `sm` er `statsmodels.api` sem flutt er inn að ofan). `OLS` stendur fyrir *ordinary least squares*. Hér er reitur sem sýnir hvernig:"
   ]
  },
  {
   "cell_type": "code",
   "execution_count": 4,
   "metadata": {},
   "outputs": [
    {
     "data": {
      "text/html": [
       "<table class=\"simpletable\">\n",
       "<caption>OLS Regression Results</caption>\n",
       "<tr>\n",
       "  <th>Dep. Variable:</th>            <td>y</td>        <th>  R-squared:         </th> <td>   0.911</td>\n",
       "</tr>\n",
       "<tr>\n",
       "  <th>Model:</th>                   <td>OLS</td>       <th>  Adj. R-squared:    </th> <td>   0.907</td>\n",
       "</tr>\n",
       "<tr>\n",
       "  <th>Method:</th>             <td>Least Squares</td>  <th>  F-statistic:       </th> <td>   239.7</td>\n",
       "</tr>\n",
       "<tr>\n",
       "  <th>Date:</th>             <td>Thu, 07 Mar 2019</td> <th>  Prob (F-statistic):</th> <td>2.20e-25</td>\n",
       "</tr>\n",
       "<tr>\n",
       "  <th>Time:</th>                 <td>23:08:53</td>     <th>  Log-Likelihood:    </th> <td> -62.788</td>\n",
       "</tr>\n",
       "<tr>\n",
       "  <th>No. Observations:</th>      <td>    50</td>      <th>  AIC:               </th> <td>   131.6</td>\n",
       "</tr>\n",
       "<tr>\n",
       "  <th>Df Residuals:</th>          <td>    47</td>      <th>  BIC:               </th> <td>   137.3</td>\n",
       "</tr>\n",
       "<tr>\n",
       "  <th>Df Model:</th>              <td>     2</td>      <th>                     </th>     <td> </td>   \n",
       "</tr>\n",
       "<tr>\n",
       "  <th>Covariance Type:</th>      <td>nonrobust</td>    <th>                     </th>     <td> </td>   \n",
       "</tr>\n",
       "</table>\n",
       "<table class=\"simpletable\">\n",
       "<tr>\n",
       "    <td></td>       <th>coef</th>     <th>std err</th>      <th>t</th>      <th>P>|t|</th>  <th>[0.025</th>    <th>0.975]</th>  \n",
       "</tr>\n",
       "<tr>\n",
       "  <th>const</th> <td>    1.8598</td> <td>    0.463</td> <td>    4.016</td> <td> 0.000</td> <td>    0.928</td> <td>    2.791</td>\n",
       "</tr>\n",
       "<tr>\n",
       "  <th>x1</th>    <td>    0.8671</td> <td>    0.043</td> <td>   19.974</td> <td> 0.000</td> <td>    0.780</td> <td>    0.954</td>\n",
       "</tr>\n",
       "<tr>\n",
       "  <th>x2</th>    <td>   -0.0104</td> <td>    0.001</td> <td>  -10.199</td> <td> 0.000</td> <td>   -0.012</td> <td>   -0.008</td>\n",
       "</tr>\n",
       "</table>\n",
       "<table class=\"simpletable\">\n",
       "<tr>\n",
       "  <th>Omnibus:</th>       <td> 1.624</td> <th>  Durbin-Watson:     </th> <td>   2.027</td>\n",
       "</tr>\n",
       "<tr>\n",
       "  <th>Prob(Omnibus):</th> <td> 0.444</td> <th>  Jarque-Bera (JB):  </th> <td>   0.982</td>\n",
       "</tr>\n",
       "<tr>\n",
       "  <th>Skew:</th>          <td> 0.327</td> <th>  Prob(JB):          </th> <td>   0.612</td>\n",
       "</tr>\n",
       "<tr>\n",
       "  <th>Kurtosis:</th>      <td> 3.211</td> <th>  Cond. No.          </th> <td>    871.</td>\n",
       "</tr>\n",
       "</table><br/><br/>Warnings:<br/>[1] Standard Errors assume that the covariance matrix of the errors is correctly specified."
      ],
      "text/plain": [
       "<class 'statsmodels.iolib.summary.Summary'>\n",
       "\"\"\"\n",
       "                            OLS Regression Results                            \n",
       "==============================================================================\n",
       "Dep. Variable:                      y   R-squared:                       0.911\n",
       "Model:                            OLS   Adj. R-squared:                  0.907\n",
       "Method:                 Least Squares   F-statistic:                     239.7\n",
       "Date:                Thu, 07 Mar 2019   Prob (F-statistic):           2.20e-25\n",
       "Time:                        23:08:53   Log-Likelihood:                -62.788\n",
       "No. Observations:                  50   AIC:                             131.6\n",
       "Df Residuals:                      47   BIC:                             137.3\n",
       "Df Model:                           2                                         \n",
       "Covariance Type:            nonrobust                                         \n",
       "==============================================================================\n",
       "                 coef    std err          t      P>|t|      [0.025      0.975]\n",
       "------------------------------------------------------------------------------\n",
       "const          1.8598      0.463      4.016      0.000       0.928       2.791\n",
       "x1             0.8671      0.043     19.974      0.000       0.780       0.954\n",
       "x2            -0.0104      0.001    -10.199      0.000      -0.012      -0.008\n",
       "==============================================================================\n",
       "Omnibus:                        1.624   Durbin-Watson:                   2.027\n",
       "Prob(Omnibus):                  0.444   Jarque-Bera (JB):                0.982\n",
       "Skew:                           0.327   Prob(JB):                        0.612\n",
       "Kurtosis:                       3.211   Cond. No.                         871.\n",
       "==============================================================================\n",
       "\n",
       "Warnings:\n",
       "[1] Standard Errors assume that the covariance matrix of the errors is correctly specified.\n",
       "\"\"\""
      ]
     },
     "execution_count": 4,
     "metadata": {},
     "output_type": "execute_result"
    }
   ],
   "source": [
    "X = np.c_[aldur, hys]   # Setjum aldur og hys inn í fylki\n",
    "X = sm.add_constant(X)  # Bætum við dálki af ásum\n",
    "model = sm.OLS(hæð, X)  # búum til líkan\n",
    "result = model.fit()    # finnum stika\n",
    "a = result.params       # Búum til vigur [a_0, a_1, a_2] með stikunum\n",
    "result.summary()        # Skrifum niðurstöðuna"
   ]
  },
  {
   "cell_type": "markdown",
   "metadata": {},
   "source": [
    "### Létt æfing:\n",
    "Næsti reitur skilgreinir punktasafn $(x_i, y_i, z_i), i=1,\\ldots,8$. Ákvarðið jöfnu besta plans í gegn um punktana\n",
    "\n",
    "**ATH.** Þið þurfið að búa til `X`, bæta við dálki með ásum, búa til `model`, kalla á `fit` og birta líkanið með `summary`."
   ]
  },
  {
   "cell_type": "code",
   "execution_count": 5,
   "metadata": {},
   "outputs": [
    {
     "data": {
      "text/plain": [
       "array([-0.2224,  1.2300,  0.2738])"
      ]
     },
     "execution_count": 5,
     "metadata": {},
     "output_type": "execute_result"
    },
    {
     "data": {
      "image/png": "[encoded data removed]",
      "text/plain": [
       "<Figure size 432x288 with 2 Axes>"
      ]
     },
     "metadata": {
      "needs_background": "light"
     },
     "output_type": "display_data"
    }
   ],
   "source": [
    "x = np.array([3, 4, 8, 10, 9,  12, 14, 16])\n",
    "y = np.array([2, 3, 2,  4, 3,   2,  4,  3])\n",
    "z = np.array([5, 4, 9, 13, 14, 15, 18, 20])\n",
    "plt.scatter(x,z,c=y)\n",
    "plt.xlabel('x'); plt.ylabel('y')\n",
    "plt.colorbar(label='y')\n",
    "X = np.c_[x, y]\n",
    "X = sm.add_constant(X)\n",
    "r = sm.OLS(z,X).fit()\n",
    "r.params"
   ]
  },
  {
   "cell_type": "markdown",
   "metadata": {},
   "source": [
    "## 4. Fasteignamat\n",
    "Í skránni `íbúðasölur.txt` eru upplýsingar um söluverð á 100 íbúðum ásamt upplýsingum um þær, nánar tilekið:\n",
    "- flatarmál íbúðar\n",
    "- flatarmál bílskúrs (ef hann fylgir)\n",
    "- flatarmál svala (ef þær eru)\n",
    "- hvort íbúðin sé í kjallara ($K$ = 1)\n",
    "- hvort íbúðin sé á 3. hæð eða hærra án lyftu ($H$ = 1). \n",
    "\n",
    "Verkefnið snýst um að búa til fasteignamatslíkan sem er svona:\n",
    "\n",
    "$$\n",
    "\\log_{10}(\\text{söluverð}) \n",
    "= \\text{fasti} + a_1 \\log_{10}(\\text{flm})\n",
    "+ a_2 \\frac{\\text{bílskf}}{\\text{flm}} \n",
    "+ a_3 \\frac{\\text{svalf}}{\\text{flm}} + a_4 K +a_5 H\n",
    "$$\n",
    "\n",
    "Fastinn og stikarnir $a_1,\\ldots, a_5$ skulu valdir þannig að summa kvaðrata mismunarins milli $log_{10}(\\text{söluverð})$ og líkansins verði sem minnst, eins og í F7.1.\n",
    "\n",
    "a) Lesið inn skrána inn í sex vigra.<br>\n",
    "b) Búið til nokkur súlurit og/eða skatterplott af gögnunum.<br>\n",
    "c) Ákvarðið minnstu kvaðrata líkan útfrá gögnunum (eins og gert var í dæmi 3)<br>\n",
    "\n",
    "Að þessu loknu skulum við skoða [skýrslu á vef Þjóðskrár](https://www.skra.is/library/Samnyttar-skrar-/Um-okkur/Fasteigna-og-brunabotamatsskyrslur/Skýrsla%20um%20fasteignamat%202018.pdf), en á bls. 25 eru sýnd núgildandi fasteignamatslíkön. Það er reyndar líkan af söluverðinu sjálfu, en ekki logranum af því. Skoðum það betur í fyrirlestri."
   ]
  },
  {
   "cell_type": "code",
   "execution_count": 6,
   "metadata": {},
   "outputs": [
    {
     "name": "stdout",
     "output_type": "stream",
     "text": [
      "                            OLS Regression Results                            \n",
      "==============================================================================\n",
      "Dep. Variable:                      y   R-squared:                       0.949\n",
      "Model:                            OLS   Adj. R-squared:                  0.947\n",
      "Method:                 Least Squares   F-statistic:                     351.7\n",
      "Date:                Thu, 07 Mar 2019   Prob (F-statistic):           3.33e-59\n",
      "Time:                        23:08:54   Log-Likelihood:                 221.85\n",
      "No. Observations:                 100   AIC:                            -431.7\n",
      "Df Residuals:                      94   BIC:                            -416.1\n",
      "Df Model:                           5                                         \n",
      "Covariance Type:            nonrobust                                         \n",
      "==============================================================================\n",
      "                 coef    std err          t      P>|t|      [0.025      0.975]\n",
      "------------------------------------------------------------------------------\n",
      "const          0.1591      0.040      4.005      0.000       0.080       0.238\n",
      "x1             0.7285      0.020     35.970      0.000       0.688       0.769\n",
      "x2             0.1970      0.022      8.917      0.000       0.153       0.241\n",
      "x3             0.0643      0.046      1.400      0.165      -0.027       0.155\n",
      "x4            -0.0405      0.009     -4.532      0.000      -0.058      -0.023\n",
      "x5            -0.0168      0.009     -1.860      0.066      -0.035       0.001\n",
      "==============================================================================\n",
      "Omnibus:                        2.088   Durbin-Watson:                   1.782\n",
      "Prob(Omnibus):                  0.352   Jarque-Bera (JB):                1.505\n",
      "Skew:                           0.199   Prob(JB):                        0.471\n",
      "Kurtosis:                       3.450   Cond. No.                         43.1\n",
      "==============================================================================\n",
      "\n",
      "Warnings:\n",
      "[1] Standard Errors assume that the covariance matrix of the errors is correctly specified.\n"
     ]
    },
    {
     "data": {
      "text/plain": [
       "array([ 0.1591,  0.7285,  0.1970,  0.0643, -0.0405, -0.0168])"
      ]
     },
     "execution_count": 6,
     "metadata": {},
     "output_type": "execute_result"
    }
   ],
   "source": [
    "(sv,flm,bílskf,svalf,K,H) = np.loadtxt('íbúðasölur.txt',skiprows=1).T\n",
    "n = len(sv)\n",
    "y = np.log10(sv)\n",
    "X = np.c_[np.log10(flm), bílskf/flm, svalf/flm, K, H]\n",
    "X = sm.add_constant(X)\n",
    "model = sm.OLS(y, X)\n",
    "res = model.fit()\n",
    "disp(res.summary())\n",
    "res.params"
   ]
  }
 ],
 "metadata": {
  "kernelspec": {
   "display_name": "Python 3",
   "language": "python",
   "name": "python3"
  },
  "language_info": {
   "codemirror_mode": {
    "name": "ipython",
    "version": 3
   },
   "file_extension": ".py",
   "mimetype": "text/x-python",
   "name": "python",
   "nbconvert_exporter": "python",
   "pygments_lexer": "ipython3",
   "version": "3.7.1"
  }
 },
 "nbformat": 4,
 "nbformat_minor": 2
}
