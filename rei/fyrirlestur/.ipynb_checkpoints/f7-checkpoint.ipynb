{
 "cells": [
  {
   "cell_type": "markdown",
   "metadata": {},
   "source": [
    "# Stærðfræði og reiknifræði – Fyrirlestraræfing 7"
   ]
  },
  {
   "cell_type": "code",
   "execution_count": 1,
   "metadata": {},
   "outputs": [],
   "source": [
    "#BYRJA -- Keyrið til að frumstilla.\n",
    "import numpy as np, numpy.random as npr\n",
    "import scipy.stats as stat, statsmodels.api as sm\n",
    "import matplotlib.pyplot as plt\n",
    "plt.rc('axes', axisbelow=True)\n",
    "%matplotlib inline\n",
    "# disp(x,y...) skrifar x,y... með 4 aukastöfum\n",
    "def disp(*args): print(*(f'{a:.4f}' if isinstance(a,float) else a for a in args))\n",
    "np.set_printoptions(precision=3, floatmode='fixed', suppress=True)"
   ]
  },
  {
   "cell_type": "markdown",
   "metadata": {},
   "source": [
    "## F7.1  Línuföll\n",
    "**a)** Búið til línufallið (*affine function*) $f(x) = 2.3 - 2 x_1 + 1.3 x_2 - x_3$ í Python og sannreynið formúluna\n",
    "\n",
    "$$\n",
    "f(\\alpha x + \\beta y) = \\alpha f(x) + \\beta f(y)\n",
    "$$\n",
    "\n",
    "(með því að velja einhver $\\alpha$ og $\\beta$).\n",
    "\n",
    "**b)** Leiðrétting Kristjáns: $g(x) = -2x_1 + 1.3x_2 - x_3$\n",
    "sannreyna \n",
    "\n",
    "$$\n",
    "g(\\alpha x + \\beta y) = \\alpha g(x) + \\beta g(x)\n",
    "$$"
   ]
  },
  {
   "cell_type": "code",
   "execution_count": 18,
   "metadata": {},
   "outputs": [
    {
     "name": "stdout",
     "output_type": "stream",
     "text": [
      "-114.40\n",
      "-114.40\n",
      "True\n"
     ]
    }
   ],
   "source": [
    "def f(x):\n",
    "    k = -2*x[0] + 1.3*x[1] - x[2]\n",
    "    return k\n",
    "    \n",
    "a = 5\n",
    "b = 7\n",
    "x = np.array([2,3,5])\n",
    "y = np.array([7,11,13])\n",
    "result = f(a*x + b*y)\n",
    "print(f'{result:.2f}')\n",
    "besult = a*f(x) + b*f(y)\n",
    "print(f'{besult:.2f}')\n",
    "print(result == besult)"
   ]
  },
  {
   "cell_type": "markdown",
   "metadata": {},
   "source": [
    "## F7.2 Taylor-nálganir\n",
    "\n",
    "**a)** Finnið einvíða Taylornálgun við $y = \\ln(x)$ í $x = 2$, forritið hana í Python, og athugið nákvæmnina í $x = 1.8, 1.9, 2.0, 2.1$ og $2.2$\n",
    "\n",
    "**b)** Finnið tvívíða Taylornálgun við $z = x^3 - xy$ í $(x,y) = (1,2)$, forritið og athugið nákvæmnina í $(1.1, 2.1)$"
   ]
  },
  {
   "cell_type": "code",
   "execution_count": 21,
   "metadata": {},
   "outputs": [
    {
     "name": "stdout",
     "output_type": "stream",
     "text": [
      "0.5878 0.5931\n"
     ]
    }
   ],
   "source": [
    "# a)\n",
    "def fh(x):\n",
    "    y = np.log(2) + 0.5*(x-2)\n",
    "    return y\n",
    "\n",
    "disp(np.log(1.8), fh(1.8))\n",
    "disp(np.log(1.9), fh(1.9))\n",
    "disp(np.log(2.0), fh(2.0))\n",
    "disp(np.log(2.1), fh(2.1))\n",
    "disp(np.log(2.2), fh(2.2))"
   ]
  },
  {
   "cell_type": "markdown",
   "metadata": {},
   "source": [
    "## F7.3 Jafna besta plans\n",
    "Í reitnum hér á eftir eru búin til gervigögn sem gætu t.d. lýst hæð 5–15 ára trjáa sem fall af aldri þeirra og hæð yfir sjó: trén hækka um einn metra á ári, en lækka um 1 m fyrir hverja 100 m sem þau standa hærra uppi í brekkunni:\n",
    "\n",
    "$$\n",
    "\\text{hæð}_i = a_0 + a_1 x_i + a_2 y_i + {\\varepsilon}_i\\ \\ (a_0 = 0.5, a_1 = 1, a_2 = -0.01)\n",
    "$$\n",
    "\n",
    "þar sem $x_i$ er aldur og $y_i$ er hys fyrir tré $i$."
   ]
  },
  {
   "cell_type": "code",
   "execution_count": 76,
   "metadata": {},
   "outputs": [
    {
     "data": {
      "image/png": "[encoded data removed]",
      "text/plain": [
       "<Figure size 432x288 with 2 Axes>"
      ]
     },
     "metadata": {
      "needs_background": "light"
     },
     "output_type": "display_data"
    }
   ],
   "source": [
    "aldur = 5 + npr.rand(50)*10\n",
    "hys = npr.rand(50)*400\n",
    "eps = npr.randn(50)\n",
    "hæð = 0.5 + 1*aldur - 0.01*hys + eps;\n",
    "plt.scatter(aldur, hæð, c=hys);\n",
    "plt.xlabel('aldur (ár)')\n",
    "plt.ylabel('hæð trjáa (m)')\n",
    "plt.colorbar(label='hæð yfir sjó')\n",
    "plt.grid()"
   ]
  },
  {
   "cell_type": "markdown",
   "metadata": {},
   "source": [
    "Nú skal meta stika líkansins með því að beita \"venjulegri aðferð minnstu kvaðrata\", þ.e.a.s. með því að lágmarka kvaðratsummu frávika milli hæðar trjánna og spár líkansins. Með öðrum orðum skal  lágmarka fallið:\n",
    "\n",
    "$$\n",
    "S(a_0, a_1, a_2) = \\sum_{i=1}^{50} (\\text{hæð}_i - (a_0 + a_1 x_i + a_2 y_i))^2\n",
    "$$\n",
    "\n",
    "Til þess getum við notað Python-fallið `sm.OLS` (þar sem sm er `statsmodels.api` sem flutt er inn að ofan). OLS stendur fyrir *ordinary least squares*. Maður byrjar á að setja aldur og hys inn í fylki X, t.d. með `X = np.c_[aldur, hys]`, svo þarf að bæta dálki af ásum við X og það má gera með `X = sm.add_constant(X)`, svo er búið til líkan: `model = sm.OLS(hæð, X)` og að lokum eru stikarnir fundnir með `result = model.fit()`. Til að skrifa út niðurstöðuna er sagt `result.summary()` og til að búa til vigur $(a_0, a_1, a_2)$ með stikunum má segja `a = result.param`. Gerið allt þetta."
   ]
  },
  {
   "cell_type": "markdown",
   "metadata": {},
   "source": [
    "## F7.4 Fasteignamat\n",
    "Í skránni `íbúðasölur.txt` eru upplýsingar um söluverð á 100 íbúðum ásamt upplýsingum um þær, nánar tilekið:\n",
    "- flatarmál íbúðar\n",
    "- flatarmál bílskúrs (ef hann fylgir)\n",
    "- flatarmál svala (ef þær eru)\n",
    "- hvort íbúðin sé í kjallara ($K$ = 1)\n",
    "- hvort íbúðin sé á 3. hæð eða hærra án lyftu ($H$ = 1). \n",
    "\n",
    "Verkefnið snýst um að búa til fasteignamatslíkan sem er svona:\n",
    "\n",
    "$$\n",
    "\\log_{10}(\\text{söluverð}) \n",
    "= \\text{fasti} + a_1 \\log_{10}(\\text{flm})\n",
    "+ a_2 \\frac{\\text{bílskf}}{\\text{flm}} \n",
    "+ a_3 \\frac{\\text{svalf}}{\\text{flm}} + a_4 K +a_5 H\n",
    "$$\n",
    "\n",
    "Fastinn og stikarnir $a_1,\\ldots, a_5$ skulu valdir þannig að summa kvaðrata mismunarins milli $log_{10}(\\text{söluverð})$ og líkansins verði sem minnst, eins og í F7.1.\n",
    "\n",
    "a) Lesið inn skrána inn í sex vigra.\n",
    "b) Búið til nokkur súlurit og/eða skatterplott af gögnunum.\n",
    "c) Ákvarðið minnstu kvaðrata líkan útfrá gögnunum (eins og gert var í F7.1)"
   ]
  },
  {
   "cell_type": "markdown",
   "metadata": {},
   "source": [
    "## F7.5 Staðalfrávik\n",
    "**a)** Lesið inn upplýsingar um körfuboltamennina (úr skránni `karfa.txt`).<br>\n",
    "**b)** Reiknið meðaltal og staðalfrávik þyngdar þeirra og sömuleiðis hæðar þeirra (`np.std` reiknar staðalfrávik).<br>"
   ]
  },
  {
   "cell_type": "markdown",
   "metadata": {},
   "source": [
    "## F7.6 Horn og fjarlægð\n",
    "Hnattstaða Reykjavíkur er u.þ.b. 64°N og 22°E, og hattstaða London u.þ.b. 51.5°N og 0°W.\n",
    "\n",
    "**a)** Reiknið hornið milli Reykjavíkur og London mælt frá miðju jarðar<br>\n",
    "**b)** Reiknið fjarlægðina milli Reykjavíkur og London"
   ]
  }
 ],
 "metadata": {
  "kernelspec": {
   "display_name": "Python 3",
   "language": "python",
   "name": "python3"
  },
  "language_info": {
   "codemirror_mode": {
    "name": "ipython",
    "version": 3
   },
   "file_extension": ".py",
   "mimetype": "text/x-python",
   "name": "python",
   "nbconvert_exporter": "python",
   "pygments_lexer": "ipython3",
   "version": "3.7.1"
  }
 },
 "nbformat": 4,
 "nbformat_minor": 2
}
