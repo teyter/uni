{
 "cells": [
  {
   "cell_type": "markdown",
   "metadata": {},
   "source": [
    "# Stærðfræði og reiknifræði – Fyrirlestraræfing 10"
   ]
  },
  {
   "cell_type": "markdown",
   "metadata": {},
   "source": [
    "## Hvað er hún gömul?\n",
    "Nýlega fékk ég afmæliskort með textanum: \n",
    "\n",
    "> *Á laugardaginn verða 36 ár liðin síðan ég kom í fyrsta skipti til Reykjavíkur. Þar sem aldur minn mínus fjöldi ára minna á Íslandi er jafn aldri mínum það ár sem ég kom til Íslands langar mig að bjóða í samsæti...*. \n",
    "\n",
    "Til að finna út hvað sendandi væri gömul lét ég:\n",
    "\n",
    "$$\\begin{align}\n",
    "&x = \\text{aldur á laugardaginn}\\\\\n",
    "&y = \\text{aldur þegar hún kom til Rvk}\\\\\n",
    "&z = \\text{fjöldi ára sem liðin eru}\n",
    "\\end{align}$$\n",
    "\n",
    "og snaraði þessu í jöfnuhneppi:\n",
    "\n",
    "$$\\begin{align}\n",
    "&x - y = 36\\\\\n",
    "&x - y - z = 0\\\\\n",
    "&z = 36\n",
    "\\end{align}$$\n",
    "\n",
    "– en hó! Ég sá að $x$ gat verið hvað sem er. Enda eru stuðlar jafnanna, vigrarnir $(1, -1, 0)$, $(1, -1, -1)$ og $(0, 0, 1)$ línulega háðir: Sá fyrsti er summa hinna tveggja.\n",
    "\n",
    "## Línulega óháðir vigrar og lausnir á jöfnum\n",
    "Sagan af afmæliskortinu sýnir okkur að það er hægt að nota stuðla (*coefficients*) í mörgum línulegum jöfnum með mörgum óþekktum (*unknowns*) til að átta sig á línulega háðum (*linearly dependent*) og óháðum (*dependent*) vigrum. Það er nefnilega setning sem segir að ef stuðlar jafna í jöfnuhneppi eru línulega óháðir þá sé til nákvæmlega ein lausn á jöfnuhneppinu, annars ekki. \n",
    "\n",
    "***\n",
    "> **Æfing 1**<br>\n",
    "> Hér er jöfnuhneppi með vigrunum $(0, 1, 2)$, $(3, -4, 2)$ og $(-3, 5, 1)$ sem stuðlum.\n",
    ">\n",
    "> $\\hspace{3cm} (1)\\ \\  y + 2z = 8 $<br>\n",
    "> $\\hspace{3cm} (2)\\ \\  3x - 4y + 2z = 1 $<br>\n",
    "> $\\hspace{3cm} (3)\\ \\ -3x + 5y + z = 10 $\n",
    ">\n",
    "> Leysið jöfnurnar saman með blaði og blýanti og ákvarðið þannig hvort þessir \n",
    "> vigrar séu línulega óháðir.<br>\n",
    "> (*Leiðbeining: Það liggur beint við að byrja á að leggja saman jöfnur $(2)$ og $(3)$*)\n",
    "\n",
    "## Önnur aðferð til að kanna hvort vigrar séu línulega háðir\n",
    "Ef rétt var leyst kom í ljós í Æfingu 1 að það er nákvæmlega ein lausn svo vigrarnir eru sem sé línulega óháðir. Sú leið sem kennslubókin notar er svipuð en aðeins einfaldari:\n",
    "***\n",
    "> **Sýnidæmi**<br>\n",
    "> Við reynum að skrifa núllvigurinn sem línulega samantekt af vigrunum í Æfingu 1:\n",
    ">\n",
    "> $\\hspace{3cm} a\\cdot(0,1,2) + b\\cdot(3,-4,2) + c\\cdot(-3,5,1) = (0,0,0)$\n",
    ">\n",
    "> Augljóst er að $a = b = c = 0$ er lausn, en ef það er eina lausnin \n",
    "> þá eru vigrarnir óháðir. Hér fæst:\n",
    "> \n",
    "> $\\hspace{3cm} 3b - 3c = 0$<br>\n",
    "> $\\hspace{3cm} a - 4b + 5c = 0$<br>\n",
    "> $\\hspace{3cm} 2a + 2b + c = 0$<br>\n",
    "> \n",
    "> Fyrsta jafnan gefur $c = b$ svo hinar tvær verða $a + b = 0$ og\n",
    "> $2a + 3b = 0$ sem auðvelt er að sjá að þýðir að $a = b = c = 0$.\n",
    "***\n",
    "Hér er svo æfing eins og sýnidæmið:\n",
    "> **Æfing 2**<br>\n",
    "> Sýnið að vigrarnir $(3,4,1)$, $(1,2,3)$ og $(1,0,-5)$ eru línulega háðir. Gerið það með því að byrja á að reyna að leysa vigurjöfnuna:\n",
    ">\n",
    "> $\\hspace{3cm} a\\cdot(3,4,1) + b\\cdot(1,2,3) + c\\cdot(1,0,-5) = 0$\n",
    ">\n",
    "> og fá út að hún hefur ekki bara lausnina $a=b=c=0$."
   ]
  },
  {
   "cell_type": "markdown",
   "metadata": {},
   "source": [
    "## \"Symbólskir reikningar\": Örstutt SymPy kynning\n",
    "*Sympy* er Python pakki fyrir symbólska (*symbolic*) reikninga, sem sé vinnslu með stærðfræðiformúlur. Undirbúiningur felst í að flytja inn pakkann `sympy` og skilgreina þær breytur sem maður ætlar að nota svona:"
   ]
  },
  {
   "cell_type": "code",
   "execution_count": null,
   "metadata": {},
   "outputs": [],
   "source": [
    "#SYMPY BYRJUN:\n",
    "import sympy as sp\n",
    "(x,y,z) = sp.symbols('x y z')"
   ]
  },
  {
   "cell_type": "markdown",
   "metadata": {},
   "source": [
    "Svo er hægt að leysa jöfnur, einfalda formúlur, diffra, heilda o.s.frv. Til dæmis má reyna að leysa jöfnurnar í afmæliskortinu með:"
   ]
  },
  {
   "cell_type": "code",
   "execution_count": 3,
   "metadata": {
    "scrolled": true
   },
   "outputs": [
    {
     "data": {
      "text/plain": [
       "{z: 36, x: y + 36}"
      ]
     },
     "execution_count": 3,
     "metadata": {},
     "output_type": "execute_result"
    }
   ],
   "source": [
    "sp.solve((x - y - 36, x - y - z, z - 36))"
   ]
  },
  {
   "cell_type": "markdown",
   "metadata": {},
   "source": [
    "Við sjáum að með `sp.solve` eru leystar jöfnur með hægri hlið 0 svo það þurfti að færa 36 yfir á vinstri hlið og breyta því í –36. En lausnin, að $x = y + 36$ og ekkert sérstakt gildi á $y$ segir okkur að $x$ geti verið hvað sem er.\n",
    "***\n",
    "> **Æfing 3**<br>\n",
    "> Leysið sömu jöfnur og við leystum í Æfingu 1 með Sympy"
   ]
  }
 ],
 "metadata": {
  "kernelspec": {
   "display_name": "Python 3",
   "language": "python",
   "name": "python3"
  },
  "language_info": {
   "codemirror_mode": {
    "name": "ipython",
    "version": 3
   },
   "file_extension": ".py",
   "mimetype": "text/x-python",
   "name": "python",
   "nbconvert_exporter": "python",
   "pygments_lexer": "ipython3",
   "version": "3.7.1"
  }
 },
 "nbformat": 4,
 "nbformat_minor": 2
}
