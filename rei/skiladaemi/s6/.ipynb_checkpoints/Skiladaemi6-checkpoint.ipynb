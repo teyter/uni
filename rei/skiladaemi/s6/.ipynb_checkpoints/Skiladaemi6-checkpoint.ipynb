{
 "cells": [
  {
   "cell_type": "markdown",
   "metadata": {},
   "source": [
    "# Stærðfræði og reiknifræði – Skilaverkefni 6\n",
    "Við höldum okkur við frest til kl. 17:00 á miðvikudag. Skilið á Gradescope eins og venjulega. Ath. að best kemur út að nota *File–Export as PDF* í vafra."
   ]
  },
  {
   "cell_type": "code",
   "execution_count": 1,
   "metadata": {},
   "outputs": [],
   "source": [
    "#BYRJA -- Keyrið til að frumstilla.\n",
    "import numpy as np\n",
    "import numpy.random as npr\n",
    "import scipy.stats as stat\n",
    "import matplotlib.pyplot as plt\n",
    "plt.rc('axes', axisbelow=True)\n",
    "%matplotlib inline\n",
    "# disp(x,y...) skrifar x,y... með 3 aukastöfum\n",
    "def disp(*args): print(*(f'{a:.3f}' if isinstance(a,float) else a for a in args))\n",
    "np.set_printoptions(precision=3, floatmode='fixed', suppress=True)"
   ]
  },
  {
   "cell_type": "markdown",
   "metadata": {},
   "source": [
    "## S6.1 Þéttifall normaldreifingar\n",
    "Þetta dæmi sameinar að vera smá Python æfing, að gefa innsýn í tölfræði, \n",
    "og að gefa okkur fall til að nota í dæmi S6.2.\n",
    "\n",
    "Þéttifall normaldreifingar, $f$, er þannig að líkurnar á að normaldreifð slembistærð sé á tilteknu bili eru heildið af fallinu (= flatarmálið undir ferlinum) yfir bilið:\n",
    "\n",
    "(1)\n",
    "$$\n",
    "P(a \\leq X \\leq b) = \\int_{a}^{b} f(x) \\, dx\\tag{1}\n",
    "$$\n",
    "\n",
    "Heildarflatarmálið undir ferlinum er 1, $P(X \\leq a) = \\int_{-\\infty}^{a} f(x) \\, dx$ og\n",
    "$P(X \\geq a) = \\int_{a}^{\\infty} f(x) \\, dx$\n",
    "\n",
    "Á ensku er stundum talað um *bell curve*, og á [Math is fun](https://www.mathsisfun.com/data/standard-normal-distribution.html) er ágæt umfjöllun. Þegar meðaltalið er $\\mu = 0$ og staðalfrávikið er $\\sigma = 1$ er fallið\n",
    "\n",
    "(2)\n",
    "$$\n",
    "f(x) = \\frac{1}{\\sqrt{2\\pi}} \\exp(-\\tfrac{1}{2}x^2)\\tag{2}\n",
    "$$\n",
    "\n",
    "Eins og útskýrt er á *Math is fun* er hægt að nota sama fall fyrir almenn $\\mu$ og $\\sigma$ ef við hugsum okkur að x-ás mæli hve mörgum staðalfrávikum maður er fyrir ofan eða neðan meðaltalið. \n",
    "\n",
    "Tökum dæmi af amerísku körfuboltamönnunum. Meðalhæð þeirra er 187 cm og staðalfrávikið 7 cm. Ef hæðin er normaldreifð (sem er líklegt) þá eru 95% líkur á að körfuboltamaður sé milli 173 og 201 cm (sem sé $\\pm 2$ staðalfrávik) skv. \"Math is fun\". Með öðrum orðum gildir:\n",
    "\n",
    "(3)\n",
    "$$\\tag{3}\n",
    "\\int_{-2}^{2} f(x) \\, dx \\approx 0.95\n",
    "$$\n",
    "\n",
    "Í Python er hægt að reikna þessar líkur eins og sýnt er í eftirfarandi reit, sem líka reiknar líkur á að körfuboltamaður sé > 220 cm (nánast engar) og < 160 cm (sáralitlar)."
   ]
  },
  {
   "cell_type": "code",
   "execution_count": 2,
   "metadata": {},
   "outputs": [
    {
     "name": "stdout",
     "output_type": "stream",
     "text": [
      "P(milli 173 og 201) = 95.450 %\n",
      "P(stærri en 220) = 0.000 %\n",
      "P(minni en 168) = 0.332 %\n"
     ]
    },
    {
     "data": {
      "text/plain": [
       "0.3989422804014327"
      ]
     },
     "execution_count": 2,
     "metadata": {},
     "output_type": "execute_result"
    }
   ],
   "source": [
    "#SCIPY-NORMAL Normaldreifing í scipy.stats\n",
    "nd = stat.norm(loc=187, scale=7)\n",
    "p1 = nd.cdf(201) - nd.cdf(173)\n",
    "p2 = 1 - nd.cdf(220)\n",
    "p3 = nd.cdf(168)\n",
    "disp('P(milli 173 og 201) =', p1*100, '%')\n",
    "disp('P(stærri en 220) =', p2*100, '%')\n",
    "disp('P(minni en 168) =', p3*100, '%')\n",
    "nstd = stat.norm()\n",
    "nstd.pdf(0)"
   ]
  },
  {
   "cell_type": "markdown",
   "metadata": {},
   "source": [
    "### Þá er það verkefnið:\n",
    "\n",
    "**a)** Skrifið fallið $(2)$ í Python. Reiknið $f(0)$ (sem ætti að gefa 0.3989) og $f(3)$.\n",
    "\n",
    "**b)** Búið til vandað graf af $f$ á bilinu $[-3,3]$.<br>\n",
    "- Teiknið svarta x- og y-ása, merkið með `xlabel` og `ylabel`, setjið titil á myndina og rúðunet.\n"
   ]
  },
  {
   "cell_type": "code",
   "execution_count": 117,
   "metadata": {},
   "outputs": [
    {
     "name": "stdout",
     "output_type": "stream",
     "text": [
      "0.3989422804014327 0.0044318484119380075\n"
     ]
    }
   ],
   "source": [
    "# a\n",
    "def f(x):\n",
    "    return 1/(np.sqrt(2*np.pi))*np.exp((-1/2)*x**2)\n",
    "    \n",
    "print( f(0),f(3) )"
   ]
  },
  {
   "cell_type": "code",
   "execution_count": 72,
   "metadata": {},
   "outputs": [
    {
     "data": {
      "text/plain": [
       "Text(0, 0.5, 'y-axis')"
      ]
     },
     "execution_count": 72,
     "metadata": {},
     "output_type": "execute_result"
    },
    {
     "data": {
      "image/png": "[encoded data removed]",
      "text/plain": [
       "<Figure size 720x360 with 1 Axes>"
      ]
     },
     "metadata": {
      "needs_background": "light"
     },
     "output_type": "display_data"
    }
   ],
   "source": [
    "# b\n",
    "x = np.arange(-3,3,0.01)\n",
    "#plt.plot(x,y)\n",
    "plt.figure(figsize=(10,5))\n",
    "plt.plot(x,f(x), label='Bell Curve')\n",
    "plt.title(\"Graf fyrir Kristján\")\n",
    "plt.legend()\n",
    "plt.grid()\n",
    "plt.xlabel(\"x-axis\")\n",
    "plt.ylabel(\"y-axis\")"
   ]
  },
  {
   "cell_type": "markdown",
   "metadata": {},
   "source": [
    "## S6.2 Simpsons-regla"
   ]
  },
  {
   "cell_type": "code",
   "execution_count": 73,
   "metadata": {},
   "outputs": [],
   "source": [
    "#TRAP\n",
    "def trap(f,a,b,n=10):\n",
    "    \"\"\"Nálgar heildið af f frá a til b með trapisureglu og n hlutbilum\"\"\"\n",
    "    dx = (b-a)/n\n",
    "    c = 2*np.ones(n+1)\n",
    "    c[0] = c[n] = 1\n",
    "    x = np.linspace(a,b,n+1)\n",
    "    F = f(x)\n",
    "    H = (c @ F) * dx/2\n",
    "    return H"
   ]
  },
  {
   "cell_type": "markdown",
   "metadata": {},
   "source": [
    "Í T6.2 var trapisuregla til að reikna heildi á dagskrá og útfærsla úr lausn þess er í reitnum hér að ofan. Hér kynnumst við annarri reglu, sem kölluð er *Simpsons-regla*. Í trapisureglu er heildisbilinu skipt í $n$ hlutbil, fallið sem heilda skal nálgað með beinum línustrikum og heildi þess nálgað með flatarmálinu undir þessum línustrikum. Í Simpsonsreglu er fallið hinsvegar nálgað (eða *brúað* eins og það er kallað) með parabólum og heildið nálgað með flatarmálinu undir þeim. Áhugasamir geta lesið meira t.d. í [Wikipediu grein um aðferðina](https://en.wikipedia.org/wiki/Simpson%27s_rule).\n",
    "\n",
    "Simpsons-formúlan er eftirfarandi:<br>\n",
    "<br>\n",
    "$$\\notag\n",
    "\\int_{a}^{b} f(x) \\, dx \\approx \n",
    "\\frac{\\Delta x}{3}\\left(f(x_0) + 4f(x_1)+2f(x_2)+ 4f(x_3)+2f(x_4)+\\cdots+4f(x_{n-1}) + f(x_{n})\\right)\n",
    "$$\n",
    "\n",
    "þar sem $\\Delta x = \\displaystyle{\\frac{b-a}{n}}$ og $x_i=a+i\\Delta x$, $i = 0,\\cdots n$.\n",
    "\n",
    "### Verkefnið:\n",
    "\n",
    "**a)** Skrifið fall `simpson(f,a,b,n)` sem nálgar heildi með Simpsons-reglu."
   ]
  },
  {
   "cell_type": "code",
   "execution_count": 116,
   "metadata": {},
   "outputs": [
    {
     "data": {
      "text/plain": [
       "8.666666666666666"
      ]
     },
     "execution_count": 116,
     "metadata": {},
     "output_type": "execute_result"
    }
   ],
   "source": [
    "#S6.2a\n",
    "def simpson(f,a,b,n):\n",
    "    dx = (b-a)/n\n",
    "    c = 4*np.ones(n+1)\n",
    "    for i in range(len(c)):\n",
    "        if i % 2 == 0:\n",
    "            c[i] = 2\n",
    "    c[0] = c[n] = 1\n",
    "    x = np.linspace(a,b,n+1)\n",
    "    F = f(x)\n",
    "    H = (c @ F) * dx/3\n",
    "    return H\n",
    "    \n",
    "def g(x):\n",
    "    return x**2\n",
    "simpson(g,1,3,100)"
   ]
  },
  {
   "cell_type": "markdown",
   "metadata": {},
   "source": [
    "Fallið $f$ sem gefið er með $(2)$ er ekki heildanlegt með venjulegum stærðfræðigreiningaraðferðum heldur þarf að nálga heildi eins og $(1)$, til dæmis með Simpsons-reglu.\n",
    "\n",
    "**b)** Ákvarðið hvaða $n$ þarf að nota með `simpson` til að ná sömu nákvæmni í reikningi heildisins $(3)$ og sýnd er í reit `#SCIPY-NORMAL`, sem sé 0.95450."
   ]
  },
  {
   "cell_type": "code",
   "execution_count": 154,
   "metadata": {},
   "outputs": [
    {
     "name": "stdout",
     "output_type": "stream",
     "text": [
      "0.95548\n"
     ]
    }
   ],
   "source": [
    "#S6.2b\n",
    "res = simpson(f,-1.75,3,100)\n",
    "print(f'{res:.5f}')"
   ]
  },
  {
   "cell_type": "markdown",
   "metadata": {},
   "source": [
    "**c)** Svarið b-lið miðað við að Trapisuregla sé notuð"
   ]
  },
  {
   "cell_type": "code",
   "execution_count": null,
   "metadata": {},
   "outputs": [],
   "source": [
    "#S6.2c\n"
   ]
  },
  {
   "cell_type": "markdown",
   "metadata": {},
   "source": [
    "## S6.3  Brú og Taylornálgun\n",
    "Hér koma lauflétt dæmi úr kennslubókinni (sem er á Piazza).\n",
    "\n",
    "**a)** Byrjið að skoða dæmið um brúan á bls. 33-35. Hvað sígur brúin mikið (í cm) ef allir bílarnir eru 1 tonn (sem sé $w_1 = w_2 = w_3 = 1$)."
   ]
  },
  {
   "cell_type": "code",
   "execution_count": null,
   "metadata": {},
   "outputs": [],
   "source": [
    "#6.3a"
   ]
  },
  {
   "cell_type": "markdown",
   "metadata": {},
   "source": [
    "Lesið næst um Taylor-nálganir á bls. 35-36. Látum $f$ vera fallið sem skilgreint er í sýnidæmi aftast í [grein 3.3.8](https://notendur.hi.is/~jonasson/strei/kafli03.html#utgildi-fundin-me-vi-a-leysa-jofnur) í fyrirlestrarnótum:<br>\n",
    "<br>\n",
    "$$\\notag\n",
    "f(x,y) = x^2 + xy + y^2 - 3x\n",
    "$$"
   ]
  },
  {
   "cell_type": "code",
   "execution_count": null,
   "metadata": {},
   "outputs": [],
   "source": [
    "#6.3b"
   ]
  },
  {
   "cell_type": "markdown",
   "metadata": {},
   "source": [
    "**b)** Reiknið $\\nabla f$, berið saman við framangreint sýnidæmi, og forritið svo stigulinn í Python. Sannreynið að stigullinn í lággildinu sé $(0,0)$<br>"
   ]
  },
  {
   "cell_type": "code",
   "execution_count": null,
   "metadata": {},
   "outputs": [],
   "source": [
    "#6.3c"
   ]
  },
  {
   "cell_type": "markdown",
   "metadata": {},
   "source": [
    "**c)** Skrifið fall `fhat` sem reiknar Taylor-nálgun við $f$ í punktinum $(x_0, y_0) = (2,1)$. Þið notið jöfnu (2.5) í bók og miðað við rithátt hennar er $z = (2,1)$. Reiknið `fhat([2.1, 0.9])` og berið saman við rétt gildi."
   ]
  }
 ],
 "metadata": {
  "kernelspec": {
   "display_name": "Python 3",
   "language": "python",
   "name": "python3"
  },
  "language_info": {
   "codemirror_mode": {
    "name": "ipython",
    "version": 3
   },
   "file_extension": ".py",
   "mimetype": "text/x-python",
   "name": "python",
   "nbconvert_exporter": "python",
   "pygments_lexer": "ipython3",
   "version": "3.7.1"
  }
 },
 "nbformat": 4,
 "nbformat_minor": 2
}
