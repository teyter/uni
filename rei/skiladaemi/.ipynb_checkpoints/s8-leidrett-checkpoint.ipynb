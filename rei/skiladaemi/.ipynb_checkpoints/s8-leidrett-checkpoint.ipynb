{
 "cells": [
  {
   "cell_type": "markdown",
   "metadata": {},
   "source": [
    "# Stærðfræði og reiknifræði – Skiladæmi 8"
   ]
  },
  {
   "cell_type": "code",
   "execution_count": 1,
   "metadata": {},
   "outputs": [],
   "source": [
    "#BYRJA -- Keyrið til að frumstilla.\n",
    "import numpy as np, numpy.random as npr, numpy.linalg as la\n",
    "import scipy.stats as stat, statsmodels.api as sm\n",
    "import matplotlib.pyplot as plt, matplotlib.colors as clrs\n",
    "from scipy.cluster.vq import kmeans, whiten, vq\n",
    "from_list = clrs.LinearSegmentedColormap.from_list\n",
    "plt.rc('axes', axisbelow=True)\n",
    "%matplotlib inline\n",
    "# disp(x,y...) skrifar x,y... með 3 aukastöfum\n",
    "def disp(*args): print(*(f'{a:.3f}' if isinstance(a,float) else a for a in args))\n",
    "np.set_printoptions(precision=4, floatmode='fixed', suppress=True)\n",
    "# qcmap skilar n-staka \"qualitative colormap\" til að nota til að teikna\n",
    "# flokkun, t.d. plt.scatter(x, y, c=z, cmap=qcmap(4)) til að teikna fjóra flokka\n",
    "def qcmap(n): return from_list(\"\",plt.get_cmap('Set1')(range(0,n)),n)"
   ]
  },
  {
   "cell_type": "markdown",
   "metadata": {},
   "source": [
    "## 1. Flokkun veðurgagna með k-means\n",
    "**A. Flokkun á veðri.** Ekki tókst að flokka Stykkishólmsveðurgögnin í heit/köld/þurr/blaut ár í síðasta fyrirlestri, svo þið fáið að spreyta ykkur á dæminu hér. *Sem sé*: Lesið skrána `hiti-úrkoma.txt` inn í þrjá vigra: ár, hiti, úrkoma. Búið til n x 2 fylki úr hita og úrkomu, staðlið það með `whiten` og flokkið í fjóra flokka með `kmeans` og `vq`. Teiknið og bætið við colorbar.\n",
    "\n",
    "**B. Meðalhiti og -úrkoma** Finnið meðalhita og úrkomu í hverjum flokki og teiknið inn á grafið. Athugið að þessi liður er ekki alveg beint af augum því stöðlunin eyðilagði það að hægt sé að lesa svörin beint út úr \"code-book\" töflunni sem `kmeans` skilar."
   ]
  },
  {
   "cell_type": "code",
   "execution_count": 2,
   "metadata": {},
   "outputs": [],
   "source": [
    "#1AB\n",
    "npr.seed(42) # Svo alltaf komi sama út\n"
   ]
  },
  {
   "cell_type": "markdown",
   "metadata": {},
   "source": [
    "***Ath um litaskala:*** *Ég var að föndra við litaskala og teikningu flokka, og niðurstaðan var fallið í byrjunarreitnum hér að ofan, `qcmap(n)` sem skilar flokkunarlitaskala (*qualitative colormap*) með `n` vel aðgreinanlegum litum sem hentar til að teikna *scatterplot* af strjálum gögnum með `n ≤ 9` flokkum. Það er gert með:\n",
    "\n",
    "      plt.scatter(x, y, c=litur, cmap=qcmap(n))\n",
    "\n",
    "*Tilheyrandi `colorbar` má svo fá með*\n",
    "\n",
    "      plt.colorbar(ticks=range(0,n)); plt.clim(-0.5, n-0.5)\n",
    "\n",
    "**C. Fleiri flokkar.** Flokkið líka í 6 flokka og teiknið. Reynið að finna lýsingu á flokkunum, t.d. \"blaut og heit ár\", \"þurr og meðalhlý ár\"."
   ]
  },
  {
   "cell_type": "code",
   "execution_count": 3,
   "metadata": {},
   "outputs": [],
   "source": [
    "#1C"
   ]
  },
  {
   "cell_type": "markdown",
   "metadata": {},
   "source": [
    "## 2. Flokkun eftir orðtíðni.\n",
    "Í þessu verkefni á að flokka Wikipediugreinar með *k-means*. \n",
    "\n",
    "**A.** Lesið inn gögnin sem notuð voru í S7.3 inn í fylki X (sjá næsta reit).\n",
    "\n",
    "- ***ATH:*** *Fyrir þessi gögn borgar sig ekki að kalla á `whiten` til að staðla. Í eldri útgáfu verkefnisins var beðið    um stöðlun og skoðun á áhrifum hennar (nánar tiltekið var beðið um að skoða áhrif þess að staðla á orðtíðni orða nr. 100    og 200) en það þarf sem sé* ***ekki***\n",
    "\n",
    "**B.** Flokkið í $k = 2, 3,...,10$ flokka, finnið gildi markfallsins fyrir hvern flokkafjölda og teiknið graf af niðurstöðunni. Við mundum búast við að fá umtalsvert lægra gildi fyrir `k ≥ 5` því vitum að greinarnar fjalla um 5 mismunandi efnisflokka.\n",
    "\n",
    "**C.** Finnið flokk hverrar greinar með `vq` þegar k = 5. Skrifið út titla og flokka fyrstu 5 greinanna ásamt fjarlægð þeirra frá sínum fulltrúa.\n",
    "\n",
    "**D.** Ákvarðið og skrifið töflu yfir fjölda greina í hverjum flokki og einkenni flokkanna (*listir, fjarskipti, veðurfræði, pokemon, SÞ-stofnanir*) þegar k = 5.\n",
    "\n",
    "**E.** Finnið meðalfjarlægð greina hvers flokks frá fulltrúa flokksins."
   ]
  },
  {
   "cell_type": "code",
   "execution_count": 4,
   "metadata": {},
   "outputs": [],
   "source": [
    "#2\n",
    "npr.seed(42)\n",
    "data = np.load('wikitíðni.npz')\n",
    "orð = data[\"dictionary\"]\n",
    "grein = data[\"article_titles\"]\n",
    "X = data[\"article_histograms\"]"
   ]
  }
 ],
 "metadata": {
  "kernelspec": {
   "display_name": "Python 3",
   "language": "python",
   "name": "python3"
  },
  "language_info": {
   "codemirror_mode": {
    "name": "ipython",
    "version": 3
   },
   "file_extension": ".py",
   "mimetype": "text/x-python",
   "name": "python",
   "nbconvert_exporter": "python",
   "pygments_lexer": "ipython3",
   "version": "3.7.1"
  }
 },
 "nbformat": 4,
 "nbformat_minor": 2
}
