{
 "cells": [
  {
   "cell_type": "markdown",
   "metadata": {
    "slideshow": {
     "slide_type": "-"
    }
   },
   "source": [
    "# Stærðfræði og reiknifræði – Skilaverkefni 2\n",
    "Leysið verkefnin með því að færa lausnir hér inn í þessa Júpíter-bók, búa til úr henni PDF-skjal (með *File–Print–PDF* í vafra eða *File–Download As...* í Júpíter) og hlaða því inn í Gradescope. Í Gradescope þarf að tilgreina á hvaða blaðsíðu lausn hvers dæmis er.\n",
    "\n",
    "Þið megið hjálpast að, en hver fyrir sig verður að skila sinni lausn. Ef þið vinnið náið saman þá þarf að geta vinnufélaga í svari við \"Hvernig gekk spurningu aftast\" (ekki sleppa henni). Það er bannað að fá lánaðar tilbúnar lausnir eða lána öðrum."
   ]
  },
  {
   "cell_type": "markdown",
   "metadata": {},
   "source": [
    "### S2.1 Flatarmál og skjölun {-}\n",
    "Búið til einingu til að reikna flatarmál sbr. tímadæmi T2.3. Hún á að hafa þrjú föll, sem reikna flatarmál hrings $(F = r^2\\pi)$, þríhyrnings $(F = gh/2)$ og rétthyrnings $(F = ab)$. Veljið nöfn á föllin, setjið inn dokkstrengi, vistið eininguna, búið til forrit til að prófa hana og keyrið það. Prófunarforritið á að reikna flatarmál með öllum þremur föllunum og skrifa út ásamt skýringu, t.d. `Flatarmál hringsins er 3.45` (með `print(f'Flatarmál hringsins er {fh:.2f}')`). Sýnið líka niðurstöðu úr help-skipun (sbr. T2.3)"
   ]
  },
  {
   "cell_type": "code",
   "execution_count": 4,
   "metadata": {},
   "outputs": [],
   "source": [
    "import math\n",
    "\n",
    "def circle(r):\n",
    "    \"\"\"skilar flatarmáli hrings með F=r^2*pi\"\"\"\n",
    "    F = (r**2)*math.pi\n",
    "    return F\n",
    "\n",
    "def triangle(g,h):\n",
    "    \"\"\"skilar flatarmáli þríhyrnings með gh/2\"\"\"\n",
    "    F = (g*h)/2\n",
    "    return F\n",
    "def square(a,b):\n",
    "    \"\"\"skilar flatarmáli rétthyrnings með ab\"\"\"\n",
    "    F = a*b\n",
    "    return F"
   ]
  },
  {
   "cell_type": "code",
   "execution_count": 6,
   "metadata": {},
   "outputs": [
    {
     "name": "stdout",
     "output_type": "stream",
     "text": [
      "Flatarmal hringsins er 3.14\n",
      "Flatarmal þríhyrningsins er 17.50\n",
      "Flatarmal rétthyrnings er 25.00\n",
      "Help on function circle in module __main__:\n",
      "\n",
      "circle(r)\n",
      "    skilar flatarmáli hrings með F=r^2*pi\n",
      "\n",
      "Help on function triangle in module __main__:\n",
      "\n",
      "triangle(g, h)\n",
      "    skilar flatarmáli þríhyrnings með gh/2\n",
      "\n",
      "Help on function square in module __main__:\n",
      "\n",
      "square(a, b)\n",
      "    skilar flatarmáli rétthyrnings með ab\n",
      "\n"
     ]
    }
   ],
   "source": [
    "import area\n",
    "print(f'Flatarmal hringsins er {area.circle(1):.2f}')\n",
    "print(f'Flatarmal þríhyrningsins er {area.triangle(5,7):.2f}')\n",
    "print(f'Flatarmal rétthyrnings er {area.square(5,5):.2f}')\n",
    "help(circle)\n",
    "help(triangle)\n",
    "help(square)"
   ]
  },
  {
   "cell_type": "markdown",
   "metadata": {},
   "source": [
    "### S2.2 Helmingurnarleit {-}\n",
    "Hér er endurkvæmt reiknirit fyrir helmingurnarleit:\n",
    "\n",
    "    a_i...a_(j-1) er raðaður listi\n",
    "    x er stak sem leita skal að\n",
    "    -----\n",
    "    fall leitaij(i,j):\n",
    "        m = floor((i+j)/2)  \n",
    "        if j <= i, þá skila -1\n",
    "        annars ef x < a_m þá skila leitaij(i, m)\n",
    "        annars ef x > a_m þá skila leitaij(m+1, j)\n",
    "        annars skila m\n",
    "        \n",
    "(`floor` = lækkað niður í næstu heiltölu; notið `//` í Python). Þetta reiknirit er mjög líkt því sem var á dagskrá í Stærðfræðimynstrum fyrir jól, með nauðsynlegum breytingum vegna þess að tölusett er frá 0 til $n-1$ en ekki frá 1 til $n$.\n",
    "\n",
    "Til að hafa einfalda notkun skal hafa fall utanum leitaij með einfaldari fallhaus sem hefur auk þess listann sem leita skal í sem stika:\n",
    "\n",
    "    x er stak sem leita skal að\n",
    "    a er listi sem leita skal í, a = [a_0, a_1,...]\n",
    "    -----\n",
    "    fall leita(x,a)\n",
    "        n = lengd a\n",
    "        staðs = leitaij(0, n)\n",
    "        skila staðs\n",
    "\n",
    "Það er sem sé gert ráð fyrir að leitaij sé skilgreint efst í leita, þá getur það haft aðgang að x og a:\n",
    "\n",
    "    def leita(x,a)\n",
    "        \"\"\"(skjölun)\"\"\"\n",
    "        def leitaij(...) ...\n",
    "        ...\n",
    "        kallað á leitaij(...)\n",
    "        \n",
    "1. Skrifið leita með leitaij í Python. Prófið það fyrir nokkra lista og strengi, gætið þess að öll tilvik í ef-setningunni í `leitaij` séu reynd. \n",
    "\n",
    "2. Hægt er ná slembiheiltölu með einingunni random og fallinu randint í henni sbr reit #SLEMBI hér að neðan. Svo er hægt að raða lista með því að nota sort, sbr. grein 1.6.4 í fyrirlestrarnótum. Búið til lista með 1000 slembitölumm, raðið honum, og leitið í honum að tölu sem líka er valin af handahófi."
   ]
  },
  {
   "cell_type": "code",
   "execution_count": 1,
   "metadata": {},
   "outputs": [
    {
     "name": "stdout",
     "output_type": "stream",
     "text": [
      "338349\n",
      "788987\n",
      "500000\n",
      "Saeti stafs: 19\n",
      "random: \n",
      "random: 744088\n",
      "Help on function leita in module __main__:\n",
      "\n",
      "leita(x, a)\n",
      "    Fallhaus til að einfalda notkun\n",
      "\n"
     ]
    }
   ],
   "source": [
    "import math\n",
    "import random\n",
    "import numpy\n",
    "\n",
    "def leita(x,a):\n",
    "    \"\"\"Fallhaus til að einfalda notkun\"\"\"\n",
    "    def leitaij(i,j):\n",
    "        m = math.floor((i+j)/2)\n",
    "        #print(m)\n",
    "        if j <= i: return -1\n",
    "        elif x < a[m]: return leitaij(i,m)\n",
    "        elif x > a[m]: return leitaij(m+1,j)\n",
    "        else: return m\n",
    "    n = len(a)\n",
    "    stads = leitaij(0,n)\n",
    "    return stads\n",
    "\n",
    "s = \"abcdefghijklmnopqrstuvxyz\"\n",
    "l = range(0,1000000)\n",
    "\n",
    "# fyrir nedan helmingunarlinu\n",
    "print(leita(338349,l))\n",
    "# fyrir ofan helmingunarlinu\n",
    "print(leita(788987,l))\n",
    "# strax rett\n",
    "print(leita(500000,l))\n",
    "print(\"Saeti stafs: \" + str(leita(\"t\",s)))\n",
    "# random\n",
    "x = numpy.random.randint(1000000,size=1000000)\n",
    "x.sort()\n",
    "y = random.randint(0,1000000)\n",
    "print(\"random: \")\n",
    "print(\"random: \" + str(leita(y,x)))\n",
    "help(leita)"
   ]
  },
  {
   "cell_type": "code",
   "execution_count": null,
   "metadata": {},
   "outputs": [],
   "source": [
    "#SLEMBI\n",
    "import random\n",
    "for i in range(0,20):\n",
    "    x = random.randint(1,5)\n",
    "    print(x, end=',')"
   ]
  },
  {
   "cell_type": "markdown",
   "metadata": {},
   "source": [
    "### S2.3 Listavinnsla {-}\n",
    "Keyrið reit #EINK til að búa til lista með einkunnum 10 nemenda sem tóku námskeiðið *REI701G Inngangur að listavinnslu*.\n",
    "\n",
    "1. Skrifið svo Python-forrit sem skrifar listann út með eftirfarandi sniði\n",
    "\n",
    "\n",
    "    Nr Einkunn Ath\n",
    "    1     4.0  F\n",
    "    2     8.0\n",
    "    3    10.0  Ág\n",
    "    ...\n",
    "    \n",
    "2. Finnið og skrifið út meðaleinkunn og hæstu einkunn og nr. nemanda sem fékk hana \n",
    "   (gerið ráð fyrir að það sé bara einn). Ekki gleyma að setja skýringar með útskrifinni.\n",
    "   t.d.: `Meðaleinkunn = xx.x` o.s.frv. Skrifið forritið þannig að það mundi virka\n",
    "   þótt listinn `eink` væri styttri eða lengri.\n",
    "   \n",
    "\n",
    "3. Ákvarðið að lokum hve margir fengu hverja einkunn og skrifið út súlurit yfir það með \n",
    "   eftirfarandi sniði (bara gefið í heilum):\n",
    "\n",
    "\n",
    "     4.0 X\n",
    "     5.0\n",
    "     6.0 XX\n",
    "     7.0 XXXX\n",
    "     8.0 \n",
    "     9.0 XX\n",
    "    10.0 X\n",
    "    \n",
    "***Leiðbeiningar*** *(a) Ekki gleyma að leggja einn við númer nemenda í liðum 1 og 2 því Python byrjar að telja í 0. (b) Notið föllin í grein 1.6.3 í fyrirlestrarnótum til að leysa liði 2 og 3. (c) Til að fá súlu af lengd k má nota skipun eins og sýnd er í á borð við `for i in range(k): print('X', end='')` og svo print() til að fara í næstu línu, sbr. reit #SÚLA hér fyrir aftan.*"
   ]
  },
  {
   "cell_type": "code",
   "execution_count": 1,
   "metadata": {},
   "outputs": [],
   "source": [
    "#EINK\n",
    "eink = [4.0, 7.0, 10.0, 7.0, 9.0, 7.0, 6.0, 7.0, 9.0, 6.0]"
   ]
  },
  {
   "cell_type": "code",
   "execution_count": 26,
   "metadata": {},
   "outputs": [
    {
     "name": "stdout",
     "output_type": "stream",
     "text": [
      "XXXXX\n"
     ]
    }
   ],
   "source": [
    "#SÚLA\n",
    "k = 5\n",
    "for i in range(k): print('X', end='')\n",
    "print()"
   ]
  },
  {
   "cell_type": "code",
   "execution_count": 2,
   "metadata": {},
   "outputs": [
    {
     "name": "stdout",
     "output_type": "stream",
     "text": [
      "Nr.\tEink\tAth\n",
      "1\t4.0\tF\n",
      "2\t7.0\n",
      "3\t10.0\tÁg\n",
      "4\t7.0\n",
      "5\t9.0\tÁg\n",
      "6\t7.0\n",
      "7\t6.0\n",
      "8\t7.0\n",
      "9\t9.0\tÁg\n",
      "10\t6.0\n",
      "Meðaleinkunn: 7.2\n",
      "Nemandi nr. 3 er með hæstu einkunn: 10.0\n",
      "4.0\tX\n",
      "5.0\t\n",
      "6.0\tXX\n",
      "7.0\tXXXX\n",
      "8.0\t\n",
      "9.0\tXX\n",
      "10.0\tX\n"
     ]
    }
   ],
   "source": [
    "#EINK\n",
    "eink = [4.0, 7.0, 10.0, 7.0, 9.0, 7.0, 6.0, 7.0, 9.0, 6.0]\n",
    "index = 0\n",
    "topStudent = max(eink)\n",
    "indexOfTS = 0\n",
    "print(\"Nr.\\tEink\\tAth\")\n",
    "for x in eink:\n",
    "    index += 1\n",
    "    if x >= 9.0:\n",
    "        print(f'{index}\\t{x}\\tÁg')\n",
    "    elif x < 5.0:\n",
    "        print(f'{index}\\t{x}\\tF')\n",
    "    else:\n",
    "        print(f'{index}\\t{x}')\n",
    "    if x == topStudent:\n",
    "        indexOfTS = index\n",
    "\n",
    "avg = sum(eink) / len(eink)\n",
    "print(\"Meðaleinkunn: \" + str(avg))\n",
    "print(f'Nemandi nr. {indexOfTS} er með hæstu einkunn: {topStudent}')\n",
    "\n",
    "fjoldi = \"X\"\n",
    "eink.sort()\n",
    "for x in range(4, 11, 1):\n",
    "    fj = fjoldi*eink.count(x)\n",
    "    print(str(x)+\".0\"+\"\\t\"+str(fj))\n"
   ]
  },
  {
   "cell_type": "markdown",
   "metadata": {},
   "source": [
    "### S2.4 Hvernig gekk?\n",
    "Skrifið örfá orð aftast í þennan reit um hvernig ykkur gekk að leysa verkefnið. Var það tímafrekt? Of þungt eða of létt? Lærdómsríkt? Með hverjum var unnið? Setjið nafnið ykkar undir."
   ]
  },
  {
   "cell_type": "markdown",
   "metadata": {},
   "source": [
    "Þetta gekk bara vel. Ekkert of tímafrekt. Mátulega þungt. Afskaplega skemmtilegt. Python er snilld. Ég vann þetta bara sjálfur. \n",
    "-Teitur Guðmundarson"
   ]
  }
 ],
 "metadata": {
  "kernelspec": {
   "display_name": "Python 3",
   "language": "python",
   "name": "python3"
  },
  "language_info": {
   "codemirror_mode": {
    "name": "ipython",
    "version": 3
   },
   "file_extension": ".py",
   "mimetype": "text/x-python",
   "name": "python",
   "nbconvert_exporter": "python",
   "pygments_lexer": "ipython3",
   "version": "3.7.1"
  },
  "toc": {
   "base_numbering": "2",
   "nav_menu": {},
   "number_sections": true,
   "sideBar": true,
   "skip_h1_title": true,
   "title_cell": "Table of Contents",
   "title_sidebar": "Contents",
   "toc_cell": false,
   "toc_position": {
    "height": "166.60000610351562px",
    "left": "180px",
    "top": "109.4000015258789px",
    "width": "165px"
   },
   "toc_section_display": true,
   "toc_window_display": true
  }
 },
 "nbformat": 4,
 "nbformat_minor": 2
}
