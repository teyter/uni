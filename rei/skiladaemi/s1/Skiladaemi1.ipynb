{
 "cells": [
  {
   "cell_type": "markdown",
   "metadata": {},
   "source": [
    "# Stærðfræði og reiknifræði – Skilaverkefni 1 {-}\n",
    "Leysið verkefnin með því að færa lausnir hér inn í þessa Júpíter-bók, búa til úr henni PDF-skjal (með *File–Download As...*) og hlaða því inn í Gradescope. Í Gradescope þarf að tilgreina á hvaða blaðsíðu lausn hvers dæmis er.\n",
    "\n",
    "Þið megið hjálpast að, en hver fyrir sig verður að skila sinni lausn. Ef þið vinnið náið saman þá þarf að geta vinnufélaga í svari við sp. S1.0. Það er bannað að fá lánaðar tilbúnar lausnir eða lána öðrum."
   ]
  },
  {
   "cell_type": "markdown",
   "metadata": {},
   "source": [
    "### S1.0 Hvernig gekk? {-}\n",
    "Skrifið örfá orð aftast í þennan reit um hvernig ykkur gekk að leysa verkefnið. Var það tímafrekt? Of þungt eða of létt? Lærdómsríkt? Með hverjum var unnið? Setjið nafnið ykkar undir."
   ]
  },
  {
   "cell_type": "markdown",
   "metadata": {},
   "source": [
    "Þetta gekk bara mjög vel. Mjög viðráðanlegt."
   ]
  },
  {
   "cell_type": "markdown",
   "metadata": {},
   "source": [
    "### S1.1 Vaskur {-}\n",
    "Skrifið forrit sem spyr um og les verð vöru án virðisaukaskatts. Forritið á líka að spyrja hvort varan sé í lægra eða hærra skattþrepi (lesa bókstaf sem getur verið L eða H). Forritið á svo að reikna skattinn, 11% í lægra þrepi og 24% í því hærra, og skrifa að lokum út verðið með skatti ásamt skýringu."
   ]
  },
  {
   "cell_type": "code",
   "execution_count": 7,
   "metadata": {},
   "outputs": [
    {
     "name": "stdout",
     "output_type": "stream",
     "text": [
      "Verd: 1235\n",
      "Skattthrep: h\n",
      "1531.4\n"
     ]
    }
   ],
   "source": [
    "x = float(input(\"Verd: \"))\n",
    "y = input(\"Skattthrep: \")\n",
    "if (y == 'H' or y == 'h'): # notandi getur valið bæði lítinn og stóran staf\n",
    "    print(x*1.24) # hærra skattþrep\n",
    "elif (y == 'L' or y == 'l'):\n",
    "    print(x*1.11) # lærra skattþrep\n",
    "else:\n",
    "    print(\"Vinsamlega sladu inn H eda L\") # ef að notandi slær inn annað en H eða L"
   ]
  },
  {
   "cell_type": "markdown",
   "metadata": {},
   "source": [
    "### S1.2 Kvaðratrót {-}\n",
    "Newtons-aðferð til að finna kvaðratrót af tölu $a$ er þannig að byrjað\n",
    "er með einhverja upphafságiskun $x$ við $\\sqrt{a}$ sem má vera mjög ónákvæm og reikna\n",
    "svo aftur og aftur nýja ágiskun með\n",
    "\n",
    "$$\n",
    "x := \\frac{x + a/x}{2}\n",
    "$$\n",
    "<br>\n",
    "(með öðrum orðum með því að taka meðaltalið af $x$ og $a/x$). Aðferðin verður reyndar samleitin hvað sem a er fyrir allar upphafságiskanir > 0, t.d. mætti velja x = $a/2$ í byrjun. Hægt er að hætta ítrekun þegar munurinn á $x^2$ og $a$ er orðinn lítill miðað við $a$, t.d. þegar\n",
    "\n",
    "$$\n",
    "|x^2 - a| < 10^{-5}a\n",
    "$$\n",
    "\n",
    "Skrifið Python forrit fyrir þessa aðferð og notið það til að reikna kvaðratrót af fæðingardegi ykkar, t.d. 140798 (14. júlí 1998) eða 10100 (1. janúar 2000). Teljið hve margar ítrekanir þarf. Skrifið svörin ásamt skýringartexta."
   ]
  },
  {
   "cell_type": "code",
   "execution_count": 2,
   "metadata": {},
   "outputs": [
    {
     "name": "stdout",
     "output_type": "stream",
     "text": [
      "Ágiskun: 2345\n",
      "Itrun nr: 1\n",
      "2345.0\n",
      "Itrun nr: 2\n",
      "1204.609381663113\n",
      "Itrun nr: 3\n",
      "664.8116753745823\n",
      "Itrun nr: 4\n",
      "445.6657318634499\n",
      "Itrun nr: 5\n",
      "391.78572592651255\n",
      "Itrun nr: 6\n",
      "388.08082443616456\n"
     ]
    }
   ],
   "source": [
    "import math\n",
    "\n",
    "def newton(a,x): # fallið newton skilgreint\n",
    "    counter = 0 # ítrunar teljari\n",
    "    while not abs(x**2-a) < (10**-5)*a: # hættir ítrun þegar skilyrinu er uppfyllt\n",
    "        counter += 1 # teljari hækkar alltaf um einn\n",
    "        print(\"Itrun nr: \" + str(counter)) # prentar út fjölda ítrana\n",
    "        print(x) \n",
    "        x = (x+(a/x))/2\n",
    "\n",
    "a = 150593\n",
    "x = float(input(\"Ágiskun: \"))\n",
    "newton(a,x)"
   ]
  },
  {
   "cell_type": "markdown",
   "metadata": {},
   "source": [
    "### S1.3 Hitastig {-}\n",
    "Hitastig í Fahrenheitgáðum er $T_F = \\frac{9}{5}T_C + 32$ þar sem $T_C$ er hitastigið í Celcíusgráðum. Skrifið forrit sem skrifar út töflu til að breyta milli skalanna sem nær frá $–20^\\text{o}C$ til $40^\\text{o}C$ og hleypur á $5^\\text{o}C$.\n",
    "\n",
    "***Leiðbeining:*** *Taflan gæti byrjað svona*\n",
    "\n",
    "     °C     °F\n",
    "    -20     -4\n",
    "    -15      5\n",
    "    ..."
   ]
  },
  {
   "cell_type": "code",
   "execution_count": 6,
   "metadata": {},
   "outputs": [
    {
     "name": "stdout",
     "output_type": "stream",
     "text": [
      "°C\t°F\n",
      "-20\t-4\n",
      "-15\t5\n",
      "-10\t14\n",
      "-5\t23\n",
      "0\t32\n",
      "5\t41\n",
      "10\t50\n",
      "15\t59\n",
      "20\t68\n",
      "25\t77\n",
      "30\t86\n",
      "35\t95\n",
      "40\t104\n"
     ]
    }
   ],
   "source": [
    "c = -20\n",
    "print(\"°C\\t°F\")\n",
    "while not c > 40:\n",
    "    f = int((9/5)*c+32)\n",
    "    print(f'{c}\\t{f}') \n",
    "    f = int((9/5)*c+32)\n",
    "    c += 5"
   ]
  },
  {
   "cell_type": "markdown",
   "metadata": {},
   "source": [
    "### S1.4 Kósínusregla {-}\n",
    "Ef tvær hliðar þríhyrnings, $a$ og $b$, eru þekktar og auk þess hornið á milli þeirra, $C$, þá má finna óþekktu hliðina, $c$, með kósínusreglu: $c^2 = a^2 + b^2 - 2ab\\cos C$. Hin hornin má svo finna með sínusreglu: $a\\ /\\sin A = b\\ /\\sin B = c\\ /\\sin C$ (síðasta hornið má auðvitað líka finna út frá $A + B + C = 180^\\text{o}$). Skrifið forrit sem spyr um $a$, $b$, og $C$ og reiknar óþekkt horn og hliðar. Prófið forritið á þríhyrningi með $a$ = 2, $b$ = 3, $C = 140^\\text{o}$ (svör: $c = 4.71$, $A = 15.84^\\text{o}$, $B = 24.16^\\text{o}$) og einum sjálfvöldum þríhyrningi.\n",
    "\n",
    "***Leiðbeining:*** *Hornaföllin í `math` einingunni, `math.sin`, `math.cos`, `math.asin` og `math.acos` reikna með hornum í radíönum. Til að breyta á milli má nota annaðhvort að* $x^\\text{o} = x\\pi/180$ *radíanar, eða þá föllin `math.degrees` sem breytir radíönum í gráður og `math.radians` sem breytir í hina áttina.*\n"
   ]
  },
  {
   "cell_type": "code",
   "execution_count": 7,
   "metadata": {},
   "outputs": [
    {
     "name": "stdout",
     "output_type": "stream",
     "text": [
      "Gefid daemi: \n",
      "c = 4.71\n",
      "A = 15.84\n",
      "B = 24.16\n",
      "Eigid daemi: \n",
      "c = 6.36\n",
      "A = 21.19\n",
      "B = 28.81\n"
     ]
    }
   ],
   "source": [
    "import math\n",
    "\n",
    "def cos(a,b,C):\n",
    "    c = math.sqrt(a**2 + b**2 - 2*a*b*math.cos(math.radians(C)))\n",
    "    print(f'c = {c:.2f}')\n",
    "    A = math.degrees(math.asin((math.sin(math.radians(C))*a)/c))\n",
    "    print(f'A = {A:.2f}')\n",
    "    B = 180 - A - C\n",
    "    print(f'B = {B:.2f}')\n",
    "\n",
    "#a = float(input(\"a: \"))\n",
    "#b = float(input(\"b: \"))\n",
    "#C = float(input(\"C: \"))\n",
    "print(\"Gefid daemi: \")\n",
    "cos(2,3,140)\n",
    "print(\"Eigid daemi: \")\n",
    "cos(3,4,130)"
   ]
  },
  {
   "cell_type": "markdown",
   "metadata": {},
   "source": [
    "### S1.5 Annars stigs jafna {-}\n",
    "Skrifið forrit sem leysir annars stigs jöfnu $y = a x^2 + b x +\n",
    "c$. Fallið á að lesa inn $a$, $b$ og $c$ með `input`-skipunum (með\n",
    "viðeigandi beiðnum til notanda). Ef jafnan hefur tvær lausnir á\n",
    "forritið að skrifa „Lausnirnar eru:“ og síðan lausnirnar, ef hún\n",
    "hefur eina lausn á að skrifa hana með viðeigandi skýringu og ef\n",
    "engin lausn er skal skrifa skilaboð um það. Lausn eða lausnir eru\n",
    "gefnar með formúlunni\n",
    "\n",
    "$$\n",
    "x = \\frac{-b \\pm \\sqrt{b^2 - 4ac}}{2a}\n",
    "$$\n",
    "\n",
    "Ef stærðin undir kvaðratrótinni er neikvæð þá er engin lausn, ef\n",
    "hún er núll er ein lausn, annars tvær. Gerið auk þess ráð fyrir\n",
    "þeim möguleika að $a$ sé 0. Ef $b$ er ekki líka 0 þá er jafnan fyrsta\n",
    "stigs og forritið á að skrifa að svo sé, ásamt lausninni (sem er\n",
    "þá ein). Prófið forritið fyrir fjórar mismunandi jöfnur, fyrsta\n",
    "stigs jöfnu og annars stigs jöfnur sem hafa enga, eina og tvær\n",
    "lausnir. Setjið hæfilegar athugasemdir fremst í forritið."
   ]
  },
  {
   "cell_type": "code",
   "execution_count": 1,
   "metadata": {},
   "outputs": [
    {
     "name": "stdout",
     "output_type": "stream",
     "text": [
      "There are two solutions: -1.0 and 1.2857142857142858\n",
      "There is one solution: -1.0\n",
      "There is no solution\n",
      "There is no solution\n"
     ]
    }
   ],
   "source": [
    "from math import sqrt\n",
    "\n",
    "def batman(a,b,c): # fall sem leysir annars stigs jöfnu\n",
    "    if ((b**2) - (4*a*c)) < 0 or a == 0: # ef mínus er undir rót eða núll í nefnara\n",
    "        print(\"There is no solution\")\n",
    "    else:\n",
    "        x = (-b+sqrt((b**2)-(4*a*c)))/(2*a) # ef plús kemur á eftir b\n",
    "        y = (-b-sqrt((b**2)-(4*a*c)))/(2*a) # ef mínus kemur á eftir b\n",
    "        if x == y: # ef x er jafnt y þá er bara ein lausn\n",
    "            print(\"There is one solution: \" + str(x))\n",
    "        else: # annars eru tveir lausnir\n",
    "            print(\"There are two solutions: \" + str(x) + \" and \" + str(y))\n",
    "\n",
    "batman(-7,2,9)\n",
    "batman(2,4,2)\n",
    "batman(3,-18,37)\n",
    "batman(0,7,15) # beðið var um að prófa fyrsta stigs jöfnu \n",
    "# ég skildi það þannig að þá er a = 0 en þá \n",
    "# fáum við auðvitað 0 í nefnara"
   ]
  }
 ],
 "metadata": {
  "kernelspec": {
   "display_name": "Python 3",
   "language": "python",
   "name": "python3"
  },
  "language_info": {
   "codemirror_mode": {
    "name": "ipython",
    "version": 3
   },
   "file_extension": ".py",
   "mimetype": "text/x-python",
   "name": "python",
   "nbconvert_exporter": "python",
   "pygments_lexer": "ipython3",
   "version": "3.7.1"
  }
 },
 "nbformat": 4,
 "nbformat_minor": 2
}
