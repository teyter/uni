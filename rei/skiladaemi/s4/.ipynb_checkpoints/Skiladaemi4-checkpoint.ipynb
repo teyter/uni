{
 "cells": [
  {
   "cell_type": "markdown",
   "metadata": {},
   "source": [
    "# Stærðfræði og reiknifræði – Skilaverkefni 4\n",
    "Leysið verkefnin með því að færa lausnir hér inn í þessa Júpíter-bók, búa til úr henni PDF-skjal (*File–Print–PDF* í vafra kemur best út)) og hlaða því inn í Gradescope. Í Gradescope þarf að tilgreina á hvaða blaðsíðu lausn hvers dæmis er. Skilafrestur er á þriðjudag 12. feb. kl. 17:00.\n",
    "\n",
    "Þið megið hjálpast að, en hver fyrir sig verður að skila sinni lausn. Ef þið vinnið náið saman þá þarf að geta vinnufélaga í svari við \"Hvernig gekk spurningu aftast\" (ekki sleppa henni). Það er bannað að fá lánaðar tilbúnar lausnir eða lána öðrum."
   ]
  },
  {
   "cell_type": "code",
   "execution_count": 1,
   "metadata": {},
   "outputs": [],
   "source": [
    "#BYRJA -- Keyrið til að frumstilla numpy o.fl.\n",
    "import numpy as np, numpy.random as npr\n",
    "import matplotlib.pyplot as plt\n",
    "import scipy.stats as st, scipy.optimize as opt\n",
    "plt.rc('axes', axisbelow=True)\n",
    "%matplotlib inline\n",
    "np.set_printoptions(precision=2, floatmode='fixed', suppress=True)\n",
    "\n",
    "def plotline(a,b):\n",
    "    \"\"\"Teiknar línu y = ax + b inn á mynd sem er virk\"\"\"\n",
    "    X = np.array(plt.xlim())\n",
    "    Y = a*X + b\n",
    "    plt.plot(X,Y,lw=3)\n",
    "    \n",
    "def plotpara(a,b,c):\n",
    "    \"\"\"Teiknar parabólu y = ax^2 + bx + c inn á mynd sem er virk\"\"\"\n",
    "    x = np.linspace(*plt.xlim())\n",
    "    y = a*x**2 + b*x + c\n",
    "    plt.plot(x,y,lw=3)"
   ]
  },
  {
   "cell_type": "markdown",
   "metadata": {},
   "source": [
    "## S4.1 Lágmörkun\n",
    "Í fyrirlestraræfingu 4 var fall Rosenbrocks, \n",
    "\n",
    "$$\n",
    "f(x_0, x_1) = (1 - x_0)^2 + 100(x_1 - x_0^2)^2\n",
    "$$\n",
    "\n",
    "útfært í Python og í framhaldi lágmarkað með `scipy.optimize.minimize`. Hér er kafli úr lausnin:"
   ]
  },
  {
   "cell_type": "code",
   "execution_count": null,
   "metadata": {},
   "outputs": [],
   "source": [
    "def ros(x):\n",
    "    a = (1 - x[0])**2\n",
    "    b = (x[1] - x[0]**2)\n",
    "    return a + 100*b**2\n",
    "\n",
    "x0 = np.array([-1.2,1])\n",
    "result = opt.minimize(ros,x0)\n",
    "print(result)"
   ]
  },
  {
   "cell_type": "markdown",
   "metadata": {},
   "source": [
    "Teikning hæðarlína hefur líka verið á dagskrá bæði í Tímadæmum 4 og Fyrirlestraræfingu 5. \n",
    "\n",
    "***Verkefnið:***\n",
    "\n",
    "1. Teiknið hæðarlínur fallsins `ros` á rétthyrningnum $[-1.5, 1.5] \\times [-0.5, 2.5]$.\n",
    "   Til að fá    sæmilega mynd þarf nota svolítið marga punkta í `np.linspace` (t.d. 120)\n",
    "   og auk þess að láta `plt.contour` fá handvalinn `level`-stika. Þessi dugar t.d.:\n",
    "\n",
    "          L = np.linspace(0,26,14)**2\n",
    "          L[0] = 0.2\n",
    "\n",
    "2. Teiknið svo lággildispunktinn $(1,1)$ inn á myndina, grænan og sæmilega stóran.\n",
    "\n",
    "3. `opt.minimize` getur tekið inn viðbótarstika `callback=cb`, og þá kallar það á\n",
    "   `cb(xk)` með núverandi ítrekunargildi `xk` í hverri ítrekun (í þessu tilviki\n",
    "   er `xk` tveggja staka vigur). Lágmarkið `ros` og notið þennan \"fídus\" til að \n",
    "   teikna ítrekunargildin (t.d. með `plt.scatter(x[0],x[1])` inni í `cb`).\n",
    "\n",
    "4. `opt.minimize` getur líka tekið inn stika `method=\"aðferð\"`, þar sem\n",
    "   aðferð getur t.d. verið 'L-BFGS-B', 'CG', og 'Powell' fyrir utan þá\n",
    "   sjálfvöldu, 'BFGS'. Prófið og segið frá niðurstöðum (ath. að auk \n",
    "   `result.nit` þarf að skoða `result.nfev` sem gefur fjölda kalla á `ros`)."
   ]
  },
  {
   "cell_type": "markdown",
   "metadata": {},
   "source": [
    "## S4.2 Hiti og úrkoma\n",
    "***Innlestur gagna:***\n",
    "Náið í skrána ``hitiúrkoma.txt`` á Piazza. Skráin geymir ársmeðalhita og heildarúrkomu áranna 1949–2018 í Stykkishólmi og byrjar svona:\n",
    "\n",
    "        1949\t3.2\t565.5\n",
    "        1950\t4.0\t535.5\n",
    "        1951\t3.4\t460.6\n",
    "        ...\n",
    "\n",
    "Með hliðsjón af liðum 5 & 6 í skiladæmi S3.1 má lesa gögnin inn í Python með:\n",
    "\n",
    "        (ár,hiti,úrk) = np.loadtxt('hitiúrkoma.txt').T\n",
    "        \n",
    "***Skatterplott með litakóða:***\n",
    "Í [fyrirlestrarnótum](https://notendur.hi.is/~jonasson/strei/kafli02.html#teikning-me-matplotlib )\n",
    "er fjallað um *skatterplott*-skipunina sem kalla má á með:\n",
    "\n",
    "        plt.scatter(x, y, c=litur, s=stærð, edgecolor=randlitur)\n",
    "        \n",
    "Þar var hinsvegar ekki nefnt að `c` má vera vigur (og raunar `s` líka), og svo má kalla á\n",
    "`plt.colorbar()` til að sjá til hvaða talnagilda litirnir svara. Hér er dæmi sem notar alla stikana:"
   ]
  },
  {
   "cell_type": "code",
   "execution_count": null,
   "metadata": {},
   "outputs": [],
   "source": [
    "x = np.array([5,7,2,3,0,2,4,1,2,4])\n",
    "y = np.array([1,2,3,2,3,4,6,2,3,4])\n",
    "z = np.array([4,5,2,1,0,3,3,4,6,3])\n",
    "plt.scatter(x, y, c=z, s=200, edgecolor='darkblue')\n",
    "plt.colorbar(label='litagildi'); plt.grid()"
   ]
  },
  {
   "cell_type": "markdown",
   "metadata": {},
   "source": [
    "(svo er hægt að skipta litaskalanum (*colormap*) út, en bíðum með að tala um það). \n",
    "\n",
    "***Myndir hlið við hlið:*** Annað trix sem ekki hefur verið rætt er að teikna tvö (eða fleiri) línurit hlið við hlið í samsettri mynd. Þá er notað `plt.subplot(1,n,i)` sem velur `i`-ta línuritið af `n` (byrjar að telja í 1 á ópæþónskan máta). Hér er einfalt dæmi:"
   ]
  },
  {
   "cell_type": "code",
   "execution_count": null,
   "metadata": {},
   "outputs": [],
   "source": [
    "plt.figure(figsize = (12,2))\n",
    "plt.subplot(1,2,1); plt.plot(5*npr.random(30))\n",
    "plt.subplot(1,2,2); plt.plot(5*npr.random(15));"
   ]
  },
  {
   "cell_type": "markdown",
   "metadata": {},
   "source": [
    "***Um fylgni:*** Í byrjunarreitnum er aðaltölfræðipakkinn fyrir Python fluttur inn með `import scipy.stats as st`.\n",
    "   Eitt af því sem hann ræður við er að reikna fylgnistuðul tveggja vigra, `x` og `y`, og reyndar í \n",
    "   leiðinni p-gildi fyrir þá tilgátu að fylgnistuðullinn sé ekki 0:\n",
    "   \n",
    "           (r,p) = pearsonr(x, y)\n",
    "           \n",
    "   Ef $p = 0.05$ þá er nokkuð ólíklegt að fylgnin sé í raun engin og og það sé bara fyrir tilviljun\n",
    "   að sem við fáum jákvæðan eða neikvæðan fylgnistuðul: Það mundi bara gerast í tuttugasta hvert skipti\n",
    "   að við fengjum meiri fylgni úr gögnum sem eru í raun óháð. Og ef $p$ er minna, t.d. 0.01 þá er\n",
    "   það orðið mjög ólíklegt. Oft er talað um að fylgni sé marktæk ef $p$ er lítið, og $p$ er\n",
    "   þá kallað marktæknistig. Stundum er þess getið innan sviga: *Fylgnin er marktæk (p < 0.01)*. \n",
    "   Hæg er að lesa um fylgni \n",
    "   [hér](https://www.spss-tutorials.com/pearson-correlation-coefficient/) eða á \n",
    "   [Wikipediu](https://en.wikipedia.org/wiki/Pearson_correlation_coefficient) (dálítið flókin grein)\n",
    "   og líka [æft ykkur að meta fylgni](https://en.wikiversity.org/wiki/Survey_research_and_design_in_psychology/Tutorials/Correlation/Scatterplot_correlation_guess).\n",
    "\n",
    "***Verkefnið***\n",
    "1. Teiknið *skatterplott* af úrkomu (á y-ás) á móti hita í vinstri hlutmynd (*subplot*). \n",
    "   Látið ártalið stjórna lit. Setjið inn merkingar á ása, rúðunet, titil, *colorbar*.\n",
    "   Veljið hæfilega punktastærð. Reiknið líka jöfnu bestu línu (sbr. kafla\n",
    "   [2.3.6](https://notendur.hi.is/~jonasson/strei/kafli02.html#teikning-punktasafns-og-jafna-bestu-linu) \n",
    "   í fyrirlestrarnótum) og teiknið hana inn á myndina með fallinu `plotline` sem skilgreint er í \n",
    "   reitnum #BYRJA að ofan.\n",
    "   \n",
    "2. Finnið fylgni ársúrkomu og ársmeðalhita í Stykkishólmi og p-gildi hennar. Er fylgnin marktæk?\n",
    "   (þið megið gjarnan búa til textareit og svara í honum).\n",
    "   \n",
    "3. Teiknið *skatterplott* af meðalhita á móti ári í hægri hlutmynd (*subplot*) og\n",
    "   látið úrkomuna stjórna lit. Setjið inn merkingar eins og í lið 1. \n",
    "   \n",
    "4. Nú er sambandið milli árs og hita ekki lengur línulegt, því það kólnaði upp úr 1960 og\n",
    "   hlýnaði svo aftur eftir 1990. Reiknið bestu parabólu fyrir gögnin í hægri myndinni\n",
    "   (notið `polyfit`) og teiknið hana inn með fallinu `plotpara` sem skilgreint er að ofan.\n",
    "   \n",
    "5. Búið til textareit og setjið inn í hann skilgreiningu á falli $P$ sem þarf að lágmarka til\n",
    "   að finna jöfnu bestu parabólu, á svipaðan hátt og fallið $S$:\n",
    "   \n",
    "   $$\\notag\n",
    "   S(a,b) = \\sum_{i=1}^{n}(ax_i + b - y_i)^2\n",
    "   $$\n",
    "   \n",
    "   er lágmarkað til að finna jöfnu bestu línu."
   ]
  },
  {
   "cell_type": "markdown",
   "metadata": {},
   "source": [
    "## S4.3 Hvernig gekk?\n",
    "Skrifið örfá orð aftast í þennan reit um hvernig ykkur gekk að leysa verkefnið. Var það tímafrekt? Of þungt eða of létt? Lærdómsríkt? Með hverjum var unnið? Setjið nafnið ykkar undir.\n"
   ]
  }
 ],
 "metadata": {
  "kernelspec": {
   "display_name": "Python 3",
   "language": "python",
   "name": "python3"
  },
  "language_info": {
   "codemirror_mode": {
    "name": "ipython",
    "version": 3
   },
   "file_extension": ".py",
   "mimetype": "text/x-python",
   "name": "python",
   "nbconvert_exporter": "python",
   "pygments_lexer": "ipython3",
   "version": "3.7.1"
  }
 },
 "nbformat": 4,
 "nbformat_minor": 2
}
