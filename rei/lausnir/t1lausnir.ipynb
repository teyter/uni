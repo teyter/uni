{
 "cells": [
  {
   "cell_type": "markdown",
   "metadata": {},
   "source": [
    "# Stærðfræði og reiknifræði - Tímadæmi 1"
   ]
  },
  {
   "cell_type": "markdown",
   "metadata": {},
   "source": [
    "### T1.1  Sveiflutími gorms\n",
    "Fallið `input` má nota til að lesa af lyklaborði inn í forrit. Skipunin\n",
    "\n",
    "       x = input('Sláðu inn tölu:')\n",
    "   \n",
    "skrifar út \"Sláðu inn tölu: \" og bíður eftir inntaki sem entar á *Enter*. Í framhaldi verður x *strengur* með því sem slegið var inn, sem síðan má breyta í kommutölu með `t = float(x)` (það mætti líka sameina þetta í `x = float(input('Sláðu inn tölu'))`. Prófið að keyra eftirfarandi bút og slá inn tölu. Prófið líka að slá inn eitthvað annað en tölu."
   ]
  },
  {
   "cell_type": "code",
   "execution_count": 2,
   "metadata": {},
   "outputs": [
    {
     "name": "stdout",
     "output_type": "stream",
     "text": [
      "Sláðu inn tölu:3\n",
      "3.0\n"
     ]
    }
   ],
   "source": [
    "x = input('Sláðu inn tölu:')\n",
    "t = float(x)\n",
    "print(t)"
   ]
  },
  {
   "attachments": {
    "image.png": {
     "image/png": "[encoded data removed]"
    }
   },
   "cell_type": "markdown",
   "metadata": {},
   "source": [
    "![image.png](attachment:image.png)\n",
    "Á myndinni er gormakerfi: Hlutur með massa $m$ hvílir á fleti án núningsmótstöðu og er festur við veggina með gormum með stífnifasta $k_1$ og $k_2$. Eiginsveiflutími kerfisins verður\n",
    "\n",
    "$$\n",
    "T = 2\\pi\\sqrt{\\frac{m}{k_1+k_2}}\n",
    "$$\n",
    "\n",
    "Skrifið forrit sem spyr um $m$, $k_1$, $k_2$, les þau inn og reiknar og skrifar út sveiflutímann á sniðinu `T = x.xxx` (með f-streng).\n",
    "\n",
    "***Leiðbeiningar:*** *Munið eftir* `import math`. *Fastinn* $\\pi$ *fæst með `math.pi`."
   ]
  },
  {
   "cell_type": "code",
   "execution_count": 4,
   "metadata": {},
   "outputs": [
    {
     "name": "stdout",
     "output_type": "stream",
     "text": [
      "Massi m: 3\n",
      "k1: 4\n",
      "k2: 2\n",
      "T = 4.443\n"
     ]
    }
   ],
   "source": [
    "import math\n",
    "m = float(input('Massi m: '))\n",
    "k1 = float(input('k1: '))\n",
    "k2 = float(input('k2: '))\n",
    "T = 2*math.pi*math.sqrt(m/(k1+k2))\n",
    "print(f'T = {T:.3f}')"
   ]
  },
  {
   "cell_type": "markdown",
   "metadata": {},
   "source": [
    "### T1.2  Þriðjungar\n",
    "Búið til forrit með while-lykkju sem les tölur og skrifar þriðjunga þeirra þar til talan 0 er lesin. Reiknirit fyrir forritið er:\n",
    "\n",
    "        lesa tölu x\n",
    "        lykkja meðan x ≠ 0\n",
    "           skrifa út x/3\n",
    "           lesa tölu x\n",
    "        aftur"
   ]
  },
  {
   "cell_type": "code",
   "execution_count": 5,
   "metadata": {},
   "outputs": [
    {
     "name": "stdout",
     "output_type": "stream",
     "text": [
      "Sláðu inn tölu:12\n",
      "Þriðjungur: 4.0\n",
      "Sláðu inn tölu:9\n",
      "Þriðjungur: 3.0\n",
      "Sláðu inn tölu:8\n",
      "Þriðjungur: 2.6666666666666665\n",
      "Sláðu inn tölu:0\n"
     ]
    }
   ],
   "source": [
    "x = float(input('Sláðu inn tölu:'))\n",
    "while x != 0:\n",
    "    print(f'Þriðjungur: {x/3}')\n",
    "    x = float(input('Sláðu inn tölu:'))\n",
    "    "
   ]
  },
  {
   "cell_type": "markdown",
   "metadata": {},
   "source": [
    "### T1.3  Fall með sin og cos\n",
    "Fallið $f$ er gefið með formúlunni $f(x) = x^2 \\sin x + \\cos x$. Skrifið Python fall til að reikna f og reiknið í framhaldi út gildi fallsins í $x$ = 0, 0.5 og 1 og skrifið þau út"
   ]
  },
  {
   "cell_type": "code",
   "execution_count": 6,
   "metadata": {},
   "outputs": [
    {
     "name": "stdout",
     "output_type": "stream",
     "text": [
      "f(0)=1.0, f(0.5)=0.9974389465414235, f(1)=1.3817732906760363\n"
     ]
    }
   ],
   "source": [
    "import math\n",
    "def f(x):\n",
    "    f = x**2*math.sin(x) + math.cos(x)\n",
    "    return f\n",
    "    \n",
    "y0 = f(0)\n",
    "yh = f(0.5)\n",
    "y1 = f(1)\n",
    "print(f'f(0)={y0}, f(0.5)={yh}, f(1)={y1}')"
   ]
  },
  {
   "cell_type": "markdown",
   "metadata": {},
   "source": [
    "### T1.4 Evklíð\n",
    "Reiknirit Evklíðs finnur stærsta samþátt (*greatest common divisor*) tveggja talna. Það er svona:\n",
    "    \n",
    "    gcd(a,b):\n",
    "        meðan b ≠ 0\n",
    "            c = a mod b\n",
    "            a = b\n",
    "            b = c\n",
    "        aftur\n",
    "        skila a\n",
    "\n",
    "1. Skrifið þetta fall í Python og prófið fyrir nokkur pör talna a og b. <br>\n",
    "***Leiðbeiningar:***  $\\neq$ *fæst með* `!=` *og mod-virkinn með* `%` *(afgangur úr deilingu)*.\n",
    "\n",
    "2. Skrifið svo og prófið fall `lcm` (*least common multiple*) til að finna minnsta samnefnara tveggja talna með því að nota að \n",
    "\n",
    "$$\n",
    "    \\text{lcm}(a,b) = \\frac{a b}{\\gcd(a,b)}\n",
    "$$"
   ]
  },
  {
   "cell_type": "code",
   "execution_count": 7,
   "metadata": {},
   "outputs": [
    {
     "data": {
      "text/plain": [
       "(2, 12)"
      ]
     },
     "execution_count": 7,
     "metadata": {},
     "output_type": "execute_result"
    }
   ],
   "source": [
    "def evklíð(a,b):\n",
    "    while b != 0:\n",
    "        c = a % b\n",
    "        a = b\n",
    "        b = c\n",
    "    return a\n",
    "\n",
    "x = evklíð(10,24)\n",
    "y = evklíð(180,24)\n",
    "x,y"
   ]
  },
  {
   "cell_type": "markdown",
   "metadata": {},
   "source": [
    "### T1.5 Veldi\n",
    "Skrifið tvo forritsbúta sem finna önnur og þriðju veldi talnanna 1–10. Notið for-lykkju í öðrum og while-lykkju í hinum."
   ]
  },
  {
   "cell_type": "code",
   "execution_count": 8,
   "metadata": {},
   "outputs": [
    {
     "name": "stdout",
     "output_type": "stream",
     "text": [
      "1 1 1\n",
      "2 4 8\n",
      "3 9 27\n",
      "4 16 64\n",
      "5 25 125\n",
      "6 36 216\n",
      "7 49 343\n",
      "8 64 512\n",
      "9 81 729\n",
      "10 100 1000\n",
      "\n",
      "1 1 1\n",
      "2 4 8\n",
      "3 9 27\n",
      "4 16 64\n",
      "5 25 125\n",
      "6 36 216\n",
      "7 49 343\n",
      "8 64 512\n",
      "9 81 729\n",
      "10 100 1000\n"
     ]
    }
   ],
   "source": [
    "for i in range(1,11):\n",
    "    print(i, i**2, i**3)\n",
    "    \n",
    "print()\n",
    "i = 1\n",
    "while i <= 10:\n",
    "    print(i, i**2, i**3)\n",
    "    i = i+1"
   ]
  },
  {
   "cell_type": "markdown",
   "metadata": {},
   "source": [
    "### T1.6 Hvor er eldri?\n",
    "Skrifið forrit sem les aldur tveggja manna, Jóns og Páls. Forritið skrifar síðan út hvor þeirra er eldri og hve mörgum árum munar. Ef þeir eru jafngamlir er það sagt.\n",
    "\n",
    "***Leiðbeiningar:*** *Notið* `input` *til að lesa aldurinn. Þið getið notað* `int` fallið til að breyta honum í heiltölu, t.d.* `a = int(input(\"sláðu inn...\"))`. *Svo þarf að nota if-setningu. Þið getið notað tækifærið og lært á elif:*\n",
    "\n",
    "    if skilyrði:\n",
    "        skipanir\n",
    "    elif skilyrði:\n",
    "        skipanir\n",
    "    else:\n",
    "        skipanir"
   ]
  },
  {
   "cell_type": "code",
   "execution_count": 9,
   "metadata": {},
   "outputs": [
    {
     "name": "stdout",
     "output_type": "stream",
     "text": [
      "Hvað er Jón gamall? 12\n",
      "Hvað er Páll gamall? 18\n",
      "Páll er eldri\n"
     ]
    }
   ],
   "source": [
    "aldurJóns = int(input('Hvað er Jón gamall? '))\n",
    "aldurPáls = int(input('Hvað er Páll gamall? '))\n",
    "if aldurJóns > aldurPáls:\n",
    "    print('Jón er eldri')\n",
    "elif aldurPáls > aldurJóns:\n",
    "    print('Páll er eldri')\n",
    "else:\n",
    "    print('Jón og Páll eru jafngamlir')"
   ]
  },
  {
   "cell_type": "markdown",
   "metadata": {},
   "source": [
    "### T1.7 Summur\n",
    "Skrifið föll sem reikna út summurnar\n",
    "\n",
    "$$\n",
    "L_n = 1 - \\frac{1}{2} + \\frac{1}{3} - \\frac{1}{4} +...+ \\frac{(-1)^{n-1}}{n}\n",
    "$$\n",
    "og\n",
    "$$\n",
    "P_n = 1 - \\frac{1}{3} + \\frac{1}{5} - \\frac{1}{7} +...+ \\frac{(-1)^{n}}{2n+1}\n",
    "$$\n",
    "\n",
    "Getið þið fundið út hvað $L_n$ og $P_n$ stefna á þegar $n$ stefnir á $\\infty$?"
   ]
  },
  {
   "cell_type": "code",
   "execution_count": 10,
   "metadata": {},
   "outputs": [
    {
     "name": "stdout",
     "output_type": "stream",
     "text": [
      "0 0.6456349206349207 0.688172179310195\n",
      "1.0 0.8080789523513985 0.7878733502677479\n",
      "\n",
      "0.6931421805849816 0.6931471805599453\n",
      "0.7854006633724301 0.7853981633974483\n"
     ]
    }
   ],
   "source": [
    "def L(n):\n",
    "    Ln = 0\n",
    "    a = 1\n",
    "    for k in range(1,n+1):\n",
    "        Ln = Ln + a/k\n",
    "        a = -a\n",
    "    return Ln\n",
    "\n",
    "def P(n):\n",
    "    Pn = 0\n",
    "    a = 1\n",
    "    for k in range(1,2*n+2,2):\n",
    "        Pn = Pn + a/k\n",
    "        a = -a\n",
    "    return Pn\n",
    "\n",
    "print(L(0),L(10),L(100))\n",
    "print(P(0),P(10),P(100))\n",
    "\n",
    "print()\n",
    "import math\n",
    "print(L(100000), math.log(2))\n",
    "print(P(100000), math.pi/4)\n",
    "\n"
   ]
  },
  {
   "cell_type": "markdown",
   "metadata": {},
   "source": [
    "$L_n$ stefnir á $ln(2)$ og $P_n$ stefnir á $\\pi/4$"
   ]
  }
 ],
 "metadata": {
  "kernelspec": {
   "display_name": "Python 3",
   "language": "python",
   "name": "python3"
  },
  "language_info": {
   "codemirror_mode": {
    "name": "ipython",
    "version": 3
   },
   "file_extension": ".py",
   "mimetype": "text/x-python",
   "name": "python",
   "nbconvert_exporter": "python",
   "pygments_lexer": "ipython3",
   "version": "3.7.1"
  }
 },
 "nbformat": 4,
 "nbformat_minor": 2
}
