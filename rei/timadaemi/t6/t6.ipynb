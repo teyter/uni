{
 "cells": [
  {
   "cell_type": "markdown",
   "metadata": {},
   "source": [
    "# Tímadæmi 5 – Lausnir"
   ]
  },
  {
   "cell_type": "markdown",
   "metadata": {},
   "source": [
    "Hér eru valin dæmi úr 1. kafla í Stanford-kennslubókinni ásamt viðbótum fyrir Python. Leysið dæmin úr bókinni með blaði og blýanti, en viðbæturnar í Júpíter. Þið þurfið að sýna dæmakennaranum ykkar lausnirnar bæði á blaðinu og skjánum til að fá mætingu."
   ]
  },
  {
   "cell_type": "code",
   "execution_count": 5,
   "metadata": {},
   "outputs": [],
   "source": [
    "#BYRJA -- Keyrið til að frumstilla numpy o.fl.\n",
    "import numpy as np\n",
    "import numpy.random as npr\n",
    "import numpy.linalg as la\n",
    "import matplotlib.pyplot as plt\n",
    "plt.rc('axes', axisbelow=True)\n",
    "%matplotlib inline\n",
    "# disp(x,y...) skrifar x,y... með 3 aukastöfum\n",
    "def disp(*args): print(*(f'{a:.3f}' if isinstance(a,float) else a for a in args))\n",
    "np.set_printoptions(precision=3, floatmode='fixed', suppress=True)"
   ]
  },
  {
   "cell_type": "code",
   "execution_count": 6,
   "metadata": {},
   "outputs": [],
   "source": [
    "def arrow(x,y,dx,dy):\n",
    "    \"\"\"Teiknar ör með örvaroddi frá (x,y) til (x+dx, y+dy)\"\"\"\n",
    "    plt.annotate('', (x+dx,y+dy), (x,y), arrowprops = {'width':0.5, 'headwidth':6, 'fc':'k'})"
   ]
  },
  {
   "cell_type": "markdown",
   "metadata": {},
   "source": [
    "Í þessum dæmatíma höldum við áfram að æfa okkur bæði í vigrum og Python.\n",
    "\n",
    "## T6.1 Norm og innfeldi\n",
    "Lengd eða *norm* tvívíðs vigurs $x = (x_1, x_2)$ er táknuð með $\\Vert x\\Vert$ (sbr. ritháttinn $|x|$ fyrir tölugildi x). Skv. Pýþagórasarreglu gildir:\n",
    "\n",
    "$$\n",
    "\\Vert x\\Vert = \\sqrt{x_1^2 + x_2^2}\n",
    "$$\n",
    "\n",
    "og fyrir almennan vigur $x = (x_1, x_2, ..., x_n)$ er lengdin skilgreind með\n",
    "\n",
    "$$\n",
    "\\Vert x\\Vert = \\sqrt{x_1^2 + x_2^2 + \\ldots + x_n^2}\n",
    "$$\n",
    "\n",
    "Numpy hefur fall til að reikna norm í undirpakkanum `numpy.linalg`. Hann er fluttur inn sem `la` í byrjunarreitnum að ofan, og eftir það má reikna norm x með `la.norm(x)`.\n",
    "\n",
    "**a)** Teiknið vigurinn $(3,4)$ í hnitakerfi á blað og reiknið lengd hans með reglunni að ofan.<br>\n",
    "**b)** Sannið regluna fyrir almennan tvívíðan vigur. Vandið ykkur og fáið leiðsögn hjá dæmakennara um hvernig svona sönnun ætti að vera.<br>\n",
    "**c)** Sannið regluna (rúmfræðilega) fyrir þrívíðan vigur. Það þarf að teikna þrívíða mynd (fáið hjálp hjá kennara) og nota Pýþagóras tvisvar<br>\n",
    "**d)** Sannið að innfeldi $x$ með sjálfum sér sé jafnt lengd hans í öðru veldi: $x^Tx = \\Vert x\\Vert^2$<br>\n",
    "**e)** Látið $x = (3,4)$ og reiknið lengd $x$ í Numpy, bæði með `norm` og með innfeldi<br>\n",
    "**f)** Notið að lokum fallið `ör` sem gefið er hér að ofan til að teikna vigursamlagninguna $(3,4) = (0,4) + (3,0)$"
   ]
  },
  {
   "cell_type": "code",
   "execution_count": 7,
   "metadata": {},
   "outputs": [
    {
     "name": "stdout",
     "output_type": "stream",
     "text": [
      "5.0\n",
      "25\n"
     ]
    }
   ],
   "source": [
    "#6.1e\n",
    "x = np.array([3,4])\n",
    "print(np.linalg.norm(x))\n",
    "print(x@x)"
   ]
  },
  {
   "cell_type": "code",
   "execution_count": 8,
   "metadata": {},
   "outputs": [
    {
     "data": {
      "image/png": "[encoded data removed]",
      "text/plain": [
       "<Figure size 216x144 with 1 Axes>"
      ]
     },
     "metadata": {
      "needs_background": "light"
     },
     "output_type": "display_data"
    }
   ],
   "source": [
    "#6.1f\n",
    "from matplotlib.patches import FancyArrowPatch\n",
    "plt.figure(figsize=(3,2))\n",
    "plt.axis([0,4.5,0,3.3])\n",
    "arrow(0,0,3,3)"
   ]
  },
  {
   "cell_type": "markdown",
   "metadata": {},
   "source": [
    "## T6.2 Trapisuregla til að reikna heildi\n",
    "Markmið þessa verkefnis er að rifja aðeins upp heildun, fá á sama tíma æfingu í Python og Numpy og vigrum, m.a. að nota fallbreytur. Til að rifja upp heildun gæti hentað að skoða Stærðfræðigreiningu 1 í [edbook.hi.is](http://edbook.hi.is) eða finna [sæmilegt YouTube myndskeið](https://www.youtube.com/watch?v=9bJ2Z1jbIAE) (ég skoðaði stuttlega nokkur og leist nokkuð vel á það). Hér er ætlunin að reikna heildi með trapisureglu. Byrjið á að lesa [um hana á Wikipediu](https://en.wikipedia.org/wiki/Trapezoidal_rule). Þar að ef heilda skal fall $f$ yfir bil $[a, b]$ er reglan:\n",
    "\n",
    "$$\n",
    "\\int_{a}^{b} f(x) \\, dx \\approx \\frac{\\Delta x}{2}\\left(f(x_0) + 2f(x_1)+2f(x_2)+ 2f(x_3)+2f(x_4)+\\cdots+2f(x_{n-1}) + f(x_n)\\right)\n",
    "$$\n",
    "\n",
    "þar sem $x_0$ og $x_n$ eru endapunktar bilsins, $x_0 = a$ og $x_n = b$, og hinir punktarnir, $x_1, x_2, \\ldots, x_{n-1}$ dreifast jafnt á bilið með millibili $\\Delta x$. Með öðrum orðum:\n",
    "\n",
    "$$\n",
    "\\begin{align}\n",
    "\\Delta x &= \\frac{b - a}{n}\\\\\n",
    "x_i &= a + i\\Delta x, i = 0, 1,\\ldots, n\n",
    "\\end{align}\n",
    "$$\n",
    "\n",
    "Þá kemur verkefnið:\n",
    "\n",
    "**a)** Skrifið Python-fall `trapisa(f, a, b, n)` sem reiknar heildið af `f` milli `a` og `b` með trapisureglu og `n` hlutbilum.<br> \n",
    "**b)** Notið `trapisa` til að nálga eftirfarandi heildi fyrir ýmis gildi á `n`:\n",
    "\n",
    "$$\n",
    "f(x) = \\int_{1}^{3} x(4 - x) \\, dx\n",
    "$$\n",
    "\n",
    "**Leiðbeiningar** Til að búa til vigurinn `x` liggur beint við að nota `np.linspace`. Við tökum eftir að inni í svigunum í reglunni að ofan er innfeldi vigranna $[1,2,2,\\ldots,2,1]$ og $[f(x_0),\\ldots,f(x_n)]$. Fyrri vigurinn er auðvelt að búa til með aðstoð `np.ones` og þann seinni má reikna einfaldlega með `fx = f(x)`."
   ]
  },
  {
   "cell_type": "code",
   "execution_count": 9,
   "metadata": {},
   "outputs": [],
   "source": [
    "def trapisa(f, a, b, n):\n",
    "    for i in range(a,b):\n",
    "        x += (b-a)/n\n",
    "        return x\n",
    "f = x*(4-x)"
   ]
  },
  {
   "cell_type": "code",
   "execution_count": 11,
   "metadata": {},
   "outputs": [
    {
     "name": "stdout",
     "output_type": "stream",
     "text": [
      "[2.000 2.000 2.000 2.000 2.000 2.000 2.000 2.000 2.000 2.000 2.000]\n",
      "[1.000 2.000 2.000 2.000 2.000 2.000 2.000 2.000 2.000 2.000 1.000]\n",
      "7.32\n"
     ]
    }
   ],
   "source": [
    "def f(x):\n",
    "    return x*(4-x)\n",
    "\n",
    "def trap(f,a,b,n):\n",
    "    dx = (b-a)/n\n",
    "    c = 2*np.ones(n+1)\n",
    "    print(c)\n",
    "    c[0] = c[n] = 1\n",
    "    print(c)\n",
    "    x = np.linspace(a,b,n+1)\n",
    "    F = f(x)\n",
    "    H = (c @ F)*dx/2\n",
    "    return H\n",
    "    \n",
    "H = trap(f,1,3,10)\n",
    "print(H)"
   ]
  }
 ],
 "metadata": {
  "kernelspec": {
   "display_name": "Python 3",
   "language": "python",
   "name": "python3"
  },
  "language_info": {
   "codemirror_mode": {
    "name": "ipython",
    "version": 3
   },
   "file_extension": ".py",
   "mimetype": "text/x-python",
   "name": "python",
   "nbconvert_exporter": "python",
   "pygments_lexer": "ipython3",
   "version": "3.7.1"
  }
 },
 "nbformat": 4,
 "nbformat_minor": 2
}
