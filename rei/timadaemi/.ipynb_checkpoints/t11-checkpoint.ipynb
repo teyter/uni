{
 "cells": [
  {
   "cell_type": "markdown",
   "metadata": {},
   "source": [
    "# Stærðfræði og reiknifræði – Tímadæmi 11<br>Töluleg lausn á jöfnum – LAUSNIR"
   ]
  },
  {
   "cell_type": "code",
   "execution_count": 1,
   "metadata": {},
   "outputs": [],
   "source": [
    "#BYRJA -- Keyrið til að frumstilla\n",
    "import numpy as np, numpy.random as npr\n",
    "import scipy.stats as stat, statsmodels.api as sm, scipy.linalg as la\n",
    "import matplotlib.pyplot as plt, matplotlib as mpl\n",
    "%matplotlib inline\n",
    "plt.rc('axes', axisbelow=True);\n",
    "# disp(x,y...) skrifar x,y... með 3 aukastöfum\n",
    "def disp(*args): print(*(f'{a:.3f}' if isinstance(a,float) else a for a in args))\n",
    "np.set_printoptions(precision=4, floatmode='fixed', suppress=True, linewidth=150)\n",
    "def annadformerki(x,y): return (x < 0) != (y < 0) "
   ]
  },
  {
   "cell_type": "markdown",
   "metadata": {},
   "source": [
    "Í þessum dæmatíma kynnumst við þremur aðferðum til að leysa jöfnur af einni breytistærð.\n",
    "\n",
    "## A. Helmingunaraðferð.\n",
    "Við viljum leysa jöfnuna $f(x) = 0$ þar sem $f$ er eitthvert samfellt (*continuous*) fall. Ef þekkt er bil $[a,b]$ þannig að $f(a) < 0$ og $f(b) > 0$ þá er örugglega a.m.k. ein lausn á bilinu. Til að finna þessa lausn má beita helmingunaraðferð (*bisection method*): Við reiknum $f$ í miðpunkti bilsins, $m = (a+b)/2$. Ef $f(m) > 0$ þá vitum við að lausnin er á bilinu $[a,m]$ og getum endurtekið leikinn fyrir það bil, ef $f(m)$ = 0 þá er $m$ lausnin sem leitað er, og ef $f(m) < 0$ þá er lausnin á bilinu $[m,b]$. Ef byrjað er með $f(a) > 0$ og $f(b) < 0$ er líka örugglega lausn á bilinu og sama aðferð dugar með því að snúa við formerkjum.\n",
    "\n",
    "Skoðið [greinina um helmingunaraðferð](https://en.wikipedia.org/wiki/Bisection_method) á Wikipediu, þar sem m.a. er mynd af nokkrum ítrekunum með henni. Á myndinni er $b_2$ fyrsti miðpunkturinn, og nýja bilið er $[a_1, b_2]$, $a_2$ er miðpunktur þess bils og næsti miðpunktur er $a_3$.\n",
    "\n",
    "Hér er reiknirit fyrir aðferðina sem dugar bæði fyrir minnkandi föll og vaxandi:\n",
    "\n",
    "    Gefið er bil [a,b] þannig að formerki f í a er annað en í b\n",
    "    meðan b - a > tol:\n",
    "       m = (a + b)/2\n",
    "       ef formerki f(m) er annað en f(a) þá:\n",
    "         b = m\n",
    "       annars:\n",
    "         a = m\n",
    "    svar = (a + b)/2\n",
    "\n",
    "Hér er haldið áfram að ítreka þar til billengdin er orðin minni en tiltekin nákvæmni (*tolerance*) `tol` og svo er miðpunkti þess bils skilað. Skautað er framhjá þeim möguleika að $f(m) = 0$, en smá umhugsun sýnir að það gerir ekkert til ef við lítum svo á að $0$ hafi sama formerki og plús-tölur. Neðst í byrjunarreitnum að ofan er fall til að athuga hvort tvær tölur `x` og `y` hafi mismunandi formerki.\n",
    "\n",
    "1. Búið til Python-fall fyrir helmingunaraðferð. Látið fallið hafa stika `f`, `a`, `b` og `tol` þar sem `tol` hefur sjálfgefið gildi 0.001. Látið fallið líka telja hve margar ítrekanir þarf og skila pari með lausninni og fjölda ítrekana."
   ]
  },
  {
   "cell_type": "code",
   "execution_count": 38,
   "metadata": {},
   "outputs": [
    {
     "name": "stdout",
     "output_type": "stream",
     "text": [
      "30 iterations\n"
     ]
    },
    {
     "data": {
      "text/plain": [
       "(2.999969482421875, 30)"
      ]
     },
     "execution_count": 38,
     "metadata": {},
     "output_type": "execute_result"
    }
   ],
   "source": [
    "def helmingun(f,a,b,tol=0.0001):\n",
    "    k = 0\n",
    "    while (b -a ) > tol:\n",
    "        k += 1\n",
    "        m = (a + b) / 2\n",
    "        if annadformerki(f(m),f(a)):\n",
    "            b = m\n",
    "        else:\n",
    "            k += 1\n",
    "            a = m\n",
    "    svar = (a + b)/2\n",
    "    print(k, 'iterations')\n",
    "    return svar, k\n",
    "\n",
    "def logri(x):\n",
    "    return np.log(x)\n",
    "\n",
    "helmingun(logri,1,3)\n"
   ]
  },
  {
   "cell_type": "markdown",
   "metadata": {},
   "source": [
    "2. Teiknið gröfin $y = \\log(x)$ og $y = 1/x$ inn á sömu mynd á bilinu $[1,3]$. Ef allt er rétt sést að gröfin skerast nálægt $x = 1.75$"
   ]
  },
  {
   "cell_type": "code",
   "execution_count": 39,
   "metadata": {},
   "outputs": [
    {
     "data": {
      "image/png": "[encoded data removed]",
      "text/plain": [
       "<Figure size 432x288 with 1 Axes>"
      ]
     },
     "metadata": {
      "needs_background": "light"
     },
     "output_type": "display_data"
    }
   ],
   "source": [
    "t = np.linspace(1,3)\n",
    "y1 = np.log(t)\n",
    "y2 = 1/t\n",
    "plt.plot(t,y1, label='log(x)')\n",
    "plt.plot(t,y2, label='1/x')\n",
    "plt.grid()\n",
    "plt.legend();"
   ]
  },
  {
   "cell_type": "markdown",
   "metadata": {},
   "source": [
    "3. Notið fallið úr lið 1 til að ákvarða skurðpunkt grafanna með nákvæmni $10^{-4}$."
   ]
  },
  {
   "cell_type": "code",
   "execution_count": 42,
   "metadata": {},
   "outputs": [
    {
     "name": "stdout",
     "output_type": "stream",
     "text": [
      "21 iterations\n"
     ]
    },
    {
     "data": {
      "text/plain": [
       "(1.763214111328125, 21)"
      ]
     },
     "execution_count": 42,
     "metadata": {},
     "output_type": "execute_result"
    }
   ],
   "source": [
    "def f(x):\n",
    "    return np.log(x) - 1/x\n",
    "\n",
    "def fd(x):\n",
    "    return 1/x + 1/x**2\n",
    "helmingun(f, 1,3)"
   ]
  },
  {
   "cell_type": "markdown",
   "metadata": {},
   "source": [
    "## B. Newtons-aðferð\n",
    "Önnur aðferð til að leysa jöfnur er Newtons-aðferð. Með henni er byrjað með nálgun (upphafságiskun) $x$ við lausn jöfnunnar og fundinnn snertill við fallið í punktinum $(x, f(x))$. Skurðpunktur snertilsins við x-ás gefur svo nýja og endurbætta nálgun $x_\\text{nýtt}$. Hægt er að leiða út að \n",
    "\n",
    "$$x_\\text{nýtt} = x - \\frac{f(x)}{f'(x)}$$\n",
    "\n",
    "Svo er hægt að endurtaka leikinn, t.d. þangað til $|x_\\text{nýtt} - x| < \\tt{tol}$ fyrir einhverja gefna nákvæmnikröfu $\\tt{tol}$. Skoðið Wikipedíugreinina [um Newtons-aðferð](https://en.wikipedia.org/wiki/Newton%27s_method) m.a. hreyfimyndina sem þar er.\n",
    "\n",
    "1. Búið til Python-fall fyrir Newtons-aðferð. Látið fallið hafa stika fallið `f`, fall sem reiknar afleiðuna `fd`, upphafságiskun `x0` og nákvæmnikröfu `tol`. Teljið ítrekanir.\n",
    "\n",
    "\n",
    "2. Prófið aðferðina á fallið úr dæmi A3 með `x0` = 2."
   ]
  },
  {
   "cell_type": "code",
   "execution_count": 43,
   "metadata": {},
   "outputs": [],
   "source": [
    "# B\n",
    "def newton(f,fd,x0,tol=1e-4):\n",
    "    for k in range(100):\n",
    "        x1 = x0 - f(x)/fd(x)\n",
    "        if abs(xnytt - x) < tol:\n",
    "            break;\n",
    "        x0 = xnytt\n",
    "    return (xnytt, k)\n",
    "\n"
   ]
  },
  {
   "cell_type": "markdown",
   "metadata": {},
   "source": [
    "## C. Sniðilsaðferð\n",
    "\n",
    "Þriðja aðferðin til að leysa jöfnur er svonefnd sniðilsaðferð (*secant method*). Með henni er byrjað með tvær nálganir $x_1$ og $x_2$ við lausn jöfnu $f(x) = 0$ (sem þurfa ekki að vera hvor sínu megin við hana), síðan er fundin lína í gegn um punktana $(x_1, f(x_1))$ og $(x_2, f(x_2))$ og betri nálgun við lausnina fæst svo með því að láta $x_\\text{nýtt}$ vera skurðpunkt línunnar við x-ás. Áður en farið er í næstu ítrekun er parið $(x_1, x_2)$ sett jafnt og $(x_2, x_\\text{nýtt})$. Hægt er að leiða út að $x_\\text{nýtt}$ er gefið með formúlunni:\n",
    "\n",
    "$$x_\\text{nýtt} = \\frac{x_2 f(x_1) - x_1 f(x_2)}{f(x_1) - f(x_2)}$$.\n",
    "\n",
    "Í Wikipedíugrein [um sniðilsaðferð](https://en.wikipedia.org/wiki/Secant_method) er mynd af verkefni sem gefur ekki samleitni með aðferðinni (skoðið það). Hér er síðan ágætt *YouTube* [myndskeið](https://www.youtube.com/watch?v=_MfjXOLUnyw), sem byrjar með samanburði við Newtons-aðferð, sýnir svo dæmi um nokkrar ítrekanir og fer svo eftir ca. 2 mínútur yfir í stærðfræðilegri umfjöllun um svonefndan samleitnihraða og -stig (*order*) sem ekki þarf að skoða.\n",
    "\n",
    "1. Forritið sniðils-aðferð í Python. Hættið ítrekun þegar $|x_\\text{xnýtt} - x_2| < \\tt{tol}$\n",
    "\n",
    "\n",
    "2. Beitið aðferðinni á fallið í dæmi A3 með $(x_1, x_2) = (1,3)$. "
   ]
  }
 ],
 "metadata": {
  "kernelspec": {
   "display_name": "Python 3",
   "language": "python",
   "name": "python3"
  },
  "language_info": {
   "codemirror_mode": {
    "name": "ipython",
    "version": 3
   },
   "file_extension": ".py",
   "mimetype": "text/x-python",
   "name": "python",
   "nbconvert_exporter": "python",
   "pygments_lexer": "ipython3",
   "version": "3.7.1"
  }
 },
 "nbformat": 4,
 "nbformat_minor": 2
}
