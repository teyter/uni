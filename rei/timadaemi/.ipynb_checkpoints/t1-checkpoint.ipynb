{
 "cells": [
  {
   "cell_type": "markdown",
   "metadata": {},
   "source": [
    "# Stærðfræði og reiknifræði - Tímadæmi 1"
   ]
  },
  {
   "cell_type": "markdown",
   "metadata": {},
   "source": [
    "### T1.1  Sveiflutími gorms\n",
    "Fallið `input` má nota til að lesa af lyklaborði inn í forrit. Skipunin\n",
    "\n",
    "       x = input('Sláðu inn tölu:')\n",
    "   \n",
    "skrifar út \"Sláðu inn tölu: \" og bíður eftir inntaki sem entar á *Enter*. Í framhaldi verður x *strengur* með því sem slegið var inn, sem síðan má breyta í kommutölu með `t = float(x)` (það mætti líka sameina þetta í `x = float(input('Sláðu inn tölu'))`. Prófið að keyra eftirfarandi bút og slá inn tölu. Prófið líka að slá inn eitthvað annað en tölu."
   ]
  },
  {
   "cell_type": "code",
   "execution_count": null,
   "metadata": {},
   "outputs": [],
   "source": [
    "x=input('Sláðu inn tölu:')\n",
    "t = float(x)\n",
    "print(t)"
   ]
  },
  {
   "attachments": {
    "image.png": {
     "image/png": "[encoded data removed]"
    }
   },
   "cell_type": "markdown",
   "metadata": {},
   "source": [
    "![image.png](attachment:image.png)\n",
    "Á myndinni er gormakerfi: Hlutur með massa $m$ hvílir á fleti án núningsmótstöðu og er festur við veggina með gormum með stífnifasta $k_1$ og $k_2$. Eiginsveiflutími kerfisins verður\n",
    "\n",
    "$$\n",
    "T = 2\\pi\\sqrt{\\frac{m}{k_1+k_2}}\n",
    "$$\n",
    "\n",
    "Skrifið forrit sem spyr um $m$, $k_1$, $k_2$, les þau inn og reiknar og skrifar út sveiflutímann á sniðinu `T = x.xxx` (með f-streng).\n",
    "\n",
    "***Leiðbeiningar:*** *Munið eftir* `import math`. *Fastinn* $\\pi$ *fæst með `math.pi`.*<br>\n",
    "***Dæmi:*** *Ef m = 3, k1 = 2 og k2 = 4 kemur út T = 3.848*"
   ]
  },
  {
   "cell_type": "code",
   "execution_count": 1,
   "metadata": {},
   "outputs": [
    {
     "name": "stdout",
     "output_type": "stream",
     "text": [
      "Sláðu inn tölu fyrir m5\n",
      "Sláðu inn tölu fyrir k15\n",
      "Sláðu inn tölu fyrir k25\n",
      "Answer: 4.443\n"
     ]
    }
   ],
   "source": [
    "import math\n",
    "m = float(input('Sláðu inn tölu fyrir m'))\n",
    "k1 = float(input('Sláðu inn tölu fyrir k1'))\n",
    "k2 = float(input('Sláðu inn tölu fyrir k2'))\n",
    "T = 2*math.pi*math.sqrt((m/(k1+k2)))\n",
    "print(f\"Answer: {T:.4}\")"
   ]
  },
  {
   "cell_type": "markdown",
   "metadata": {},
   "source": [
    "### T1.2  Þriðjungar\n",
    "Búið til forrit með while-lykkju sem les tölur og skrifar þriðjunga þeirra þar til talan 0 er lesin. Reiknirit fyrir forritið er:\n",
    "\n",
    "        lesa tölu x\n",
    "        lykkja meðan x ≠ 0\n",
    "           skrifa út x/3\n",
    "           lesa tölu x"
   ]
  },
  {
   "cell_type": "markdown",
   "metadata": {},
   "source": [
    "### T1.3  Fall með sin og cos\n",
    "Fallið $f$ er gefið með formúlunni $f(x) = x^2 \\sin x + \\cos x$. Skrifið Python fall til að reikna f og reiknið í framhaldi út gildi fallsins í $x$ = 0, 0.5 og 1 og skrifið þau út"
   ]
  },
  {
   "cell_type": "code",
   "execution_count": 5,
   "metadata": {},
   "outputs": [
    {
     "name": "stdout",
     "output_type": "stream",
     "text": [
      "Number please: 2\n",
      "0.6666666666666666\n",
      "Number please: 3\n",
      "1.0\n",
      "Number please: 4\n",
      "1.3333333333333333\n",
      "Number please: 5\n",
      "1.6666666666666667\n",
      "Number please: 6\n",
      "2.0\n",
      "Number please: 7\n",
      "2.3333333333333335\n",
      "Number please: 7\n",
      "2.3333333333333335\n",
      "Number please: 0\n"
     ]
    }
   ],
   "source": [
    "x = float(input(\"Number please: \"))\n",
    "while x != 0:\n",
    "    print(x/3)\n",
    "    x = float(input(\"Number please: \"))\n",
    "    "
   ]
  },
  {
   "cell_type": "markdown",
   "metadata": {},
   "source": [
    "### T1.4 Evklíð\n",
    "Reiknirit Evklíðs finnur stærsta samþátt (*greatest common divisor*) tveggja talna. Það er svona:\n",
    "    \n",
    "    gcd(a,b):\n",
    "        meðan b ≠ 0\n",
    "            c = a mod b\n",
    "            a = b\n",
    "            b = c\n",
    "        aftur\n",
    "        skila a\n",
    "\n",
    "1. Skrifið þetta fall í Python og prófið fyrir nokkur pör talna a og b. <br>*Leiðbeiningar:*  $\\neq$ *fæst með* `!=` *og mod-virkinn með* `%` *(afgangur úr deilingu)*.\n",
    "\n",
    "2. Skrifið svo og prófið fall `lcm` (*least common multiple*) til að finna minnsta samnefnara tveggja talna með því að nota að \n",
    "\n",
    "$$\n",
    "    \\text{lcm}(a,b) = \\frac{a b}{\\gcd(a,b)}\n",
    "$$"
   ]
  },
  {
   "cell_type": "markdown",
   "metadata": {},
   "source": [
    "### T1.5 Veldi\n",
    "Skrifið tvo forritsbúta sem finna önnur og þriðju veldi talnanna 1–10. Notið for-lykkju í öðrum og while-lykkju í hinum."
   ]
  },
  {
   "cell_type": "markdown",
   "metadata": {},
   "source": [
    "### T1.6 Hvor er eldri?\n",
    "Skrifið forrit sem les aldur tveggja manna, Jóns og Páls. Forritið skrifar síðan út hvor þeirra er eldri og hve mörgum árum munar. Ef þeir eru jafngamlir er það sagt."
   ]
  },
  {
   "cell_type": "markdown",
   "metadata": {},
   "source": [
    "### T1.7 Summur\n",
    "Skrifið föll sem reikna út summurnar\n",
    "\n",
    "$$\n",
    "L_n = 1 - \\frac{1}{2} + \\frac{1}{3} - \\frac{1}{4} +...+ \\frac{(-1)^{n-1}}{n}\n",
    "$$\n",
    "og\n",
    "$$\n",
    "P_n = 1 - \\frac{1}{3} + \\frac{1}{5} - \\frac{1}{7} +...+ \\frac{(-1)^{2n+1}}{n}\n",
    "$$\n",
    "\n",
    "Getið þið fundið út hvað $L_n$ og $P_n$ stefna á þegar $n$ stefnir á $\\infty$?\n"
   ]
  },
  {
   "cell_type": "code",
   "execution_count": null,
   "metadata": {},
   "outputs": [],
   "source": []
  }
 ],
 "metadata": {
  "kernelspec": {
   "display_name": "Python 3",
   "language": "python",
   "name": "python3"
  },
  "language_info": {
   "codemirror_mode": {
    "name": "ipython",
    "version": 3
   },
   "file_extension": ".py",
   "mimetype": "text/x-python",
   "name": "python",
   "nbconvert_exporter": "python",
   "pygments_lexer": "ipython3",
   "version": "3.7.1"
  }
 },
 "nbformat": 4,
 "nbformat_minor": 2
}
