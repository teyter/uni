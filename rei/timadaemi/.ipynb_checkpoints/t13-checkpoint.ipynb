{
 "cells": [
  {
   "cell_type": "markdown",
   "metadata": {},
   "source": [
    "# Tímadæmi 13 – Fylki fyrir net"
   ]
  },
  {
   "cell_type": "code",
   "execution_count": 2,
   "metadata": {},
   "outputs": [],
   "source": [
    "#BYRJA -- Keyrið til að frumstilla\n",
    "import numpy as np\n",
    "from scipy.sparse.csgraph import dijkstra \n",
    "# disp(x,y...) skrifar x,y... með 3 aukastöfum\n",
    "def disp(*args): print(*(f'{a:.3f}' if isinstance(a,float) else a for a in args))\n",
    "np.set_printoptions(precision=4, floatmode='fixed', suppress=True, linewidth=150)"
   ]
  },
  {
   "cell_type": "markdown",
   "metadata": {},
   "source": [
    "## A  Legufylki og flæði\n",
    "Í þessu dæmi lítum við aftur á netið í dæmi S10B, og í þetta sinn notum við Python til reikna inn- og útstreymi. Upplýsingarnar um það eru í skrá `s10b.txt` á Piazza. Dálkarnir `b` og `e` gefa byrjunar- og endahnút hverrar örvar (eða leggs), `x` gefur flæði eftir henni og `lengd` gefur lengd hennar. Hér eru nokkrar skipanir sem nota þarf (flestar eru upprifjun):\n",
    "\n",
    "\n",
    "    np.loadtxt(\"skrá.txt\", int, skiprows=n)   Skilar int-fylki (sjálfgefið float)\n",
    "    (d1,d2,d3) = np.loadtxt(...).T            Skilar skrá með 3 dálkum í 3 vigrum\n",
    "    max(a,b)                                  Sú stærri af tölunum a og b\n",
    "    x.max()                                   Stærsta stak í numpy-vigri x\n",
    "    len(x)                                    Lengd vigurs x\n",
    "    np.zeros((m,n), int)                      m x n heiltölu-núllfylki\n",
    "    A @ x                                     Fylki sinnum vigur\n",
    "    disp(x)                                   Skrifar út x með fallinu að ofan\n",
    "    D = dijkstra(L)                           Skilar D[i,j] = lengd stysta vegar\n",
    "                                              frá hnút i til hnúts j ef L[i,j] er\n",
    "                                              lengd örvarinnar i➞j\n",
    "    \n",
    "1. Lesið skrána `s10b.txt` inn í fimm vigra, `ör`, `b`, `e`, `x` og `lengd` og sannfærið ykkur um að það hafi tekist.\n",
    "\n",
    "\n",
    "2. Ákvarðið `m` = fjölda hnúta og `n` = fjölda örva með `max` og `len`\n",
    "\n",
    "\n",
    "3. Legufylki nets með $m$ hnúta og $n$ örvar er $m \\times n$ og hefur $-1$ og $1$ í sætum $(i_1, j)$ og $(i_2,j)$ ef ör nr. $j$ byrjar í hnút $i_1$ og endar í hnút $i_2$. Búið til legufylki $A$ með því að lykkja yfir allar örvarnar (með $k$) og setja $-1$ og $1$ inn í fylkið á rétta staði (ath. að taka með í reikninginn að Python byrjar að tölusetja í 0, látið t.d. `i1 = b[k]-1`). Skrifið fylkið út. \n",
    "\n",
    "\n",
    "4. Finnið lindir og ósa og hve mikið flæðir inn og út með því að nota varðveislujöfnuna $Ax + s = 0$ þar sem $s$ er inn-/útflæðið."
   ]
  },
  {
   "cell_type": "markdown",
   "metadata": {},
   "source": [
    "## B  Grannafylki og fjarlægðir\n",
    "1. Grannafylki nets með $n$ hnúta er $n\\times n$ fylki $G$ með  $G_{ij} = 1$ ef hnútur $i$ er tengdur hnút $j$ með ör (hér fylgjum við skilgreiningu Stærðfræðimynstra, en Standford-bókin er með þetta bylt). Búið til $G$ fyrir netið í dæmi A með því að lykkja yfir örvarnar með $k$, finna byrjunar- og endahnút hverrar örvar og setja $1$ á réttan stað í fylkinu (**Leiðbeining:** *`i = b[k] - 1` og `j = e[k] - 1`*). Skrifið fylkið út.\n",
    "\n",
    "\n",
    "2. Hægt er að nota reiknirit sem kennt er við Dijkstra til að finna stystu fjarlægð milli tveggja hnúta í neti. Ef við sendum grannafylki inn í Dijkstra er fjarlæðin reiknuð með því að telja örvarnar veginum. Notið SciPy-útgáfuna af Dijkstra til að finna lágmarksfjölda  örva í vegi frá 1 til 6.\n",
    "\n",
    "\n",
    "3. Hægt er að búa til lengdafylki $L$ með eins lykkju og notuð var til að finna grannafylkið, nema við setjum $L_{ij}$ = lengd örvarinnar $i\\to j$. Gerið það, og finnið í framhaldi lengd stysta vegar frá 1 til 6."
   ]
  }
 ],
 "metadata": {
  "kernelspec": {
   "display_name": "Python 3",
   "language": "python",
   "name": "python3"
  },
  "language_info": {
   "codemirror_mode": {
    "name": "ipython",
    "version": 3
   },
   "file_extension": ".py",
   "mimetype": "text/x-python",
   "name": "python",
   "nbconvert_exporter": "python",
   "pygments_lexer": "ipython3",
   "version": "3.7.1"
  }
 },
 "nbformat": 4,
 "nbformat_minor": 2
}
