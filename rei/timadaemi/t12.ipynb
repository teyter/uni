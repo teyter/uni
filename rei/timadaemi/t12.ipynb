{
 "cells": [
  {
   "cell_type": "markdown",
   "metadata": {},
   "source": [
    "# Stærðfræði og reiknifræði – Tímadæmi 12 – Hermun"
   ]
  },
  {
   "cell_type": "code",
   "execution_count": 7,
   "metadata": {},
   "outputs": [],
   "source": [
    "#BYRJA -- Keyrið til að frumstilla\n",
    "import numpy as np, numpy.random as npr\n",
    "import scipy.stats as stat, statsmodels.api as sm, scipy.linalg as la\n",
    "import matplotlib.pyplot as plt, matplotlib as mpl\n",
    "%matplotlib inline\n",
    "plt.rc('axes', axisbelow=True);\n",
    "# disp(x,y...) skrifar x,y... með 3 aukastöfum\n",
    "def disp(*args): print(*(f'{a:.3f}' if isinstance(a,float) else a for a in args))\n",
    "np.set_printoptions(precision=4, floatmode='fixed', suppress=True, linewidth=150)\n",
    "def annaðformerki(x,y): return (x < 0) != (y < 0) "
   ]
  },
  {
   "cell_type": "markdown",
   "metadata": {},
   "source": [
    "Hermun (*simulation*) er mikilvæg aðferð í tölfræði (og ýmsum öðrum fræðum). Python hentar ágætlega til hermunar og í þessum tímadæmum er hún á dagskrá.\n",
    "\n",
    "## A. Lægsta spilið\n",
    "Hér er dæmi sem sýnir að hvernig nota má hermun til að finna væntigildi hendinga sem allflókið væri að reikna stærðfræðilega. Dregið er spil af handahófi úr venjulegum 52ja spila stokki og það skoðað og sett aftur í stokkinn. Þessi tilraun er framkvæmd aftur og aftur og haldin skrá um lægsta spilið í hverjum lit sem sést hefur. \n",
    "\n",
    "Látum röð litanna vera ♣︎ = 1, <font color='crimson'>♦︎</font> = 2, <font color='crimson'>♥︎</font> = 3 og ♠︎ = 4, spilin gilda tvistur = 2, þristur = 3, ..., gosi = 11, drottning = 12, kóngur = 13 og ás = 14.  Ef átta fyrstu spilin eru ♣︎2, <font color='crimson'>♦︎</font>D, <font color='crimson'>♥︎</font>K, <font color='crimson'>♦︎</font>Á, ♣︎6, <font color='crimson'>♥︎</font>9, <font color='crimson'>♥︎</font>7 og ♣︎9 er skráin $(2, 12, 7, \\infty)$ (notum óendanlegt því enginn spaði hefur sést).\n",
    "\n",
    "1. Búið til fall `dragaspil` sem skilar slembispili með því að kalla á það með:\n",
    "\n",
    "        (litur,gildi) = dragaspil()\n",
    "    \n",
    "   (t.d. er skilað `(1,2)` fyrir laufatvist og `(4,14)` fyrir spaðaás). Fallið getur notað\n",
    "   `npr.randint(low, high)` sem skilar heiltölu á bilinu `low` til `high – 1`. Prófið með því að kalla\n",
    "   á fallið nokkrum sinnum.\n",
    "   "
   ]
  },
  {
   "cell_type": "code",
   "execution_count": 131,
   "metadata": {},
   "outputs": [
    {
     "name": "stdout",
     "output_type": "stream",
     "text": [
      "Tígul ás\n"
     ]
    }
   ],
   "source": [
    "def dragaspil():\n",
    "    x = npr.randint(0,4)\n",
    "    y = npr.randint(0,13)\n",
    "    return x, y\n",
    "    \n",
    "suite = ['Laufa', 'Tígul', 'Hjarta', 'Spaða']\n",
    "face = ['tvistur','þristur','fjarki','fimma','sexa','sjö','átta','nía','tía','gosi','drolla','kóngur','ás']\n",
    "(litur, gildi) = dragaspil()\n",
    "print(suite[litur], face[gildi])"
   ]
  },
  {
   "cell_type": "markdown",
   "metadata": {},
   "source": [
    "2. Gerið ráð fyrir að skráin yfir lægstu spilin sé geymd í 4-staka vigri `smátt` sem í upphafi er \"óendanlegt\" (`np.inf`) í öllum sætum. Búið til fall `dragaeitt` sem hermir eftir einni tilraun (þ.e. drætti eins spils) með því að kalla á `dragaspil` og uppfærir (*updates*) vigurinn `smátt`. Ef átta fyrstu spilin eru eins og að ofan og dregin er tígulátta, `(2,8)`, mundi `smátt` breytast í $(2, 8, 7, \\infty)$. Prófið."
   ]
  },
  {
   "cell_type": "code",
   "execution_count": null,
   "metadata": {},
   "outputs": [],
   "source": []
  },
  {
   "cell_type": "markdown",
   "metadata": {},
   "source": [
    "3. Búið til fall sem kalla má á með\n",
    "\n",
    "       (fjöldi, minnst) = draga() \n",
    "       \n",
    "   sem dregur spil þar til allir litir hafa sést og skilar fjölda skipta sem draga þarf og \n",
    "   lægsta spilinu sem sést hefur þegar það gerist (minnsta stakinu í smátt). \n",
    "   \n",
    "   ***Leiðbeining:*** *Byrjið á að frumstilla (*initialize*)\n",
    "   `smátt` með óendanlegu í öllum fjórum sætum (t.d. með `np.tile`; `np.tile(x, n)` skilar vigri þar sem\n",
    "   `x` er endurtekið `n` sinnum). Svo kemur `while`-lykkja þar sem nota má `any` og `np.isinf` í skilyrðinu,\n",
    "   og inni í lykkjunni er kallað á `dragaeitt`. Í lykkjunni þarf líka að hækka teljara, og á eftir henni þarf\n",
    "   að finna minnsta stakið í `smátt`.*"
   ]
  },
  {
   "cell_type": "code",
   "execution_count": null,
   "metadata": {},
   "outputs": [],
   "source": []
  },
  {
   "cell_type": "markdown",
   "metadata": {},
   "source": [
    "4. Látið $X$ og $Y$ vera hendingar (*slembistærðir, random variables*), $X$ er fjöldi skipta sem draga þarf\n",
    "   þar til allir litir hafa sést og $Y$ er\n",
    "   lægsta spilið sem þá hefur sést. Notið hermun til að finna væntigildi $X$ og væntigildi $Y$\n",
    "   \n",
    "   ***Leiðbeining:*** *Inni í lykkju sem framkvæmd er mörgum sinnum er smátt núllstillt, svo er kallað á\n",
    "   `draga`, og loks eru niðurstöðurnar aftast í tvo vigra\n",
    "   `X` og `Y` (t.d. með `X = np.append(X,x)`). Á eftir lykkjunni er meðaltal vigranna reiknað með `np.mean`*"
   ]
  },
  {
   "cell_type": "code",
   "execution_count": null,
   "metadata": {},
   "outputs": [],
   "source": []
  },
  {
   "cell_type": "markdown",
   "metadata": {},
   "source": [
    "## B. Dreifingar á komutímum.\n",
    "Þegar fólk kemur á tilviljanakenndum tíma í verslun (eða að afgreiðsluborði) passar oft vel að lýsa millitíma milli koma með vísisdreifingu (*exponential distribution*), en þéttifall hennar er \n",
    "$$f(x,\\lambda) = \\lambda e^{-\\lambda x}\\text{ fyrir }x \\geq 0$$.\n",
    "\n",
    "þar sem $\\lambda$ er fjöldi sem kemur á hverri tímaeiningu. Stundum, m.a. í *NumPy*, er reyndar notaður stikinn $\\beta = 1/\\lambda$ sem er meðaltími milli koma.\n",
    "\n",
    "1. Í Python fæst `n` talna vigur af slembitölum með vísisdreifingu og stika (þ.e. meðaltal) beta með `x = npr.exponential(beta, n)`. Hermið eftir komum 100 manna m.v. að það komi að jafnaði 5 manns á mínútu og teiknið einfalt súlurit af niðurstöðunni (t.d. með `plt.hist(x, rwidth=0.9)`. Prófið nokkrum sinnum. Prófið að fjölga mönnunum og breyta stikanum."
   ]
  },
  {
   "cell_type": "code",
   "execution_count": 133,
   "metadata": {},
   "outputs": [
    {
     "data": {
      "image/png": "[encoded data removed]",
      "text/plain": [
       "<Figure size 432x288 with 1 Axes>"
      ]
     },
     "metadata": {
      "needs_background": "light"
     },
     "output_type": "display_data"
    }
   ],
   "source": [
    "a = npr.exponential(1/5, 100)\n",
    "plt.hist(a, rwidth=0.9);"
   ]
  },
  {
   "cell_type": "markdown",
   "metadata": {},
   "source": [
    "2. Reiknið með hermun líkurnar á að það komi fleiri en 10 manns á næstu mínútu, með því að búa fyrst til fall sem finnur summu af 10 vísisdreifðum slembitölum, og svo annað sem kallar oft á fyrra fallið og athugar tíðni þess atburðar að summan sé minni en einn."
   ]
  },
  {
   "cell_type": "code",
   "execution_count": 193,
   "metadata": {},
   "outputs": [
    {
     "name": "stdout",
     "output_type": "stream",
     "text": [
      "3.20%\n"
     ]
    }
   ],
   "source": [
    "def sum10():\n",
    "    x = npr. exponential(1/5, 10)\n",
    "    return np.sum(x)\n",
    "\n",
    "#print(sum10())\n",
    "N = 10000\n",
    "n = 0\n",
    "for i in range(N):\n",
    "    if sum10() < 1: n+=1\n",
    "\n",
    "per = n/N * 100\n",
    "print(f'{per:.2f}%')"
   ]
  },
  {
   "cell_type": "markdown",
   "metadata": {},
   "source": [
    "3. Afgreiðslutíma má oft lýsa með svonefndri Erlang-dreifingu sem er reyndar eins og summa af k vísisdreifðum hendingum. Erlang dreifing gæti líka passað til að lýsa komum strætós sem kemur ekki alveg reglulega og heldur ekki algjörlega af handahófi (þá væru komurnar vísisdreifðar). Svo er líka hægt að hliðra Erlang-dreifingunni t.d. ef alltaf tekur fastan tíma að byrja/ljúka afgreiðslu, og svo bætist við slembinn viðbótartími.\n",
    "Í NumPy skilar kallið\n",
    "\n",
    "       stat.erlang.rvs(k, alfa, beta, size = n)\n",
    "       \n",
    "   `n` slembitölum sem hafa hliðraða Erlang-dreifingu með stika `k`,\n",
    "   fastan tíma `alfa` og meðaltal `alfa + k*beta`. \n",
    "   Gerum ráð fyrir að leið 1 komi á Erlang-dreifðum tímum með `k` = 3 \n",
    "   og `alfa` = 4, að jafnaði á 10 mínútna fresti.<br>\n",
    "   \n",
    "   a) Reiknið beta<br>\n",
    "   b) Teiknið súlurit af 1000 millikomutímum leiðar 1.<br>"
   ]
  },
  {
   "cell_type": "code",
   "execution_count": 202,
   "metadata": {},
   "outputs": [
    {
     "data": {
      "image/png": "[encoded data removed]",
      "text/plain": [
       "<Figure size 432x288 with 1 Axes>"
      ]
     },
     "metadata": {
      "needs_background": "light"
     },
     "output_type": "display_data"
    }
   ],
   "source": [
    "# 10 = alfa + k * beta\n",
    "# \n",
    "# 10 - alfa = k * beta\n",
    "# \n",
    "# (10 - alfa)/k = beta\n",
    "# \n",
    "# beta = 2\n",
    "\n",
    "#(k, alfa, beta) = (3, 4, 2)\n",
    "\n",
    "mkt = stat.erlang.rvs(k, alfa, beta, 1000)\n",
    "\n",
    "plt.hist(mkt, rwidth=0.9);\n",
    "plt.grid()"
   ]
  },
  {
   "cell_type": "markdown",
   "metadata": {},
   "source": [
    "4. Ákvarðið með hermun væntanlegan tíma sem maður þarf að bíða eftir strætó og líkurnar á að maður þurfi að bíða meira en 10 mínútur.\n",
    "\n",
    "    ***Leiðbeining*** Byrjað er á að herma t.d. 1000 millikomutíma, $M_1,\\ldots,\n",
    "    M_{1000}$ (með `stat.erlang.rvs`) og reikna uppsafnaðar summur þeirra:\n",
    "    \n",
    "    $$T_k = \\sum_{i=1}^k M_i$$\n",
    "    \n",
    "    (með `np.cumsum`) og summu þeirra allra $S$. Svo kemur maður út á stoppustöð á\n",
    "    handahófstíma `mætir` á tímabilinu $[0,S]$, (í Python með `mætir = S*npr.random()`.\n",
    "    Til að sjá hvenær næsti strætó kemur má t.d. nota:\n",
    "    \n",
    "        Teftir = T[T > mætir]\n",
    "        bið = Teftir[0] - mætir\n",
    "        \n",
    "    (`Teftir` eru allir tímar eftir að maður mætir á stoppustöðina). Þetta má svo\n",
    "    gera aftur og aftur í lykkju og reikna þannig marga biðtíma og taka að lokum\n",
    "    meðaltalið af þeim."
   ]
  },
  {
   "cell_type": "code",
   "execution_count": null,
   "metadata": {},
   "outputs": [],
   "source": []
  }
 ],
 "metadata": {
  "kernelspec": {
   "display_name": "Python 3",
   "language": "python",
   "name": "python3"
  },
  "language_info": {
   "codemirror_mode": {
    "name": "ipython",
    "version": 3
   },
   "file_extension": ".py",
   "mimetype": "text/x-python",
   "name": "python",
   "nbconvert_exporter": "python",
   "pygments_lexer": "ipython3",
   "version": "3.7.1"
  }
 },
 "nbformat": 4,
 "nbformat_minor": 2
}
