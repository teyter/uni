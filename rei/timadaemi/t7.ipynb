{
 "cells": [
  {
   "cell_type": "markdown",
   "metadata": {},
   "source": [
    "# Stærðfræði og reiknifræði – Tímadæmi 7"
   ]
  },
  {
   "cell_type": "code",
   "execution_count": 2,
   "metadata": {},
   "outputs": [],
   "source": [
    "#BYRJA -- Keyrið til að frumstilla.\n",
    "import numpy as np, numpy.random as npr, numpy.linalg as la\n",
    "import scipy.stats as stat, statsmodels.api as sm\n",
    "import matplotlib.pyplot as plt\n",
    "plt.rc('axes', axisbelow=True)\n",
    "%matplotlib inline\n",
    "# disp(x,y...) skrifar x,y... með 3 aukastöfum\n",
    "def disp(*args): print(*(f'{a:.3f}' if isinstance(a,float) else a for a in args))\n",
    "np.set_printoptions(precision=3, floatmode='fixed', suppress=True)"
   ]
  },
  {
   "cell_type": "markdown",
   "metadata": {},
   "source": [
    "Í þessum tímadæmum rifjum við upp umfjöllun úr síðasta fyrirlestri og höldum áfram með hana, en þá voru 2. og 3. kafli kennslubókar á dagskrá. Hér eru nokkrar skilgreiningar úr bókinni, sem við skerpum á með því að reikna æfingadæmi í Python:\n",
    "\n",
    "### T7.1 Línuleg föll og línuföll\n",
    "Fall nefnist **línulegt** (*linear*) ef hægt er að skrifa það \n",
    "\n",
    "$$f(x) = a_1 x_1 + \\ldots + a_n x_n$$\n",
    "\n",
    "fyrir einhverja stuðla $a_1,..., a_n$ og það kallast **línufall** (*affine*) ef það er fasti $+$ línufall, sem sé \n",
    "\n",
    "$$g(x) = b + a_1 x_1 + \\ldots + a_n x_n$$\n",
    "\n",
    "Línuleg föll uppfylla \n",
    "\n",
    "$$f(\\alpha x + \\beta y) = \\alpha f(x) + \\beta f(y)$$\n",
    "\n",
    "Skrifið línulega fallið $f(x) = 5x_1 + 2x_2$ í Python, látið $x=(1,2)$ og $y=(2,1)$ og reiknið $f(2x + 3y)$ og $2f(x)+3f(y)$"
   ]
  },
  {
   "cell_type": "code",
   "execution_count": 3,
   "metadata": {},
   "outputs": [
    {
     "name": "stdout",
     "output_type": "stream",
     "text": [
      "54\n",
      "54\n"
     ]
    }
   ],
   "source": [
    "#7.1\n",
    "def f(x):\n",
    "    return 5*x[0] + 2*x[1]\n",
    "    \n",
    "x = np.array([1,2])\n",
    "y = np.array([2,1])\n",
    "result = f(2*x+3*y)\n",
    "print(result)\n",
    "bla = 2*f(x) + 3*f(y)\n",
    "print(bla)"
   ]
  },
  {
   "cell_type": "markdown",
   "metadata": {},
   "source": [
    "### T7.2 Taylor-nálgun\n",
    "Taylor nálgun (*Taylor approximation*) við $f(x)$ í punkti $a$ má rita\n",
    "\n",
    "$$\\hat{f}(x) = f(a) + \\nabla f(a)^T(x - a)$$\n",
    "\n",
    "Stundum (t.d. í kennslubók) er $z$ í stað $a$, stundum $x_0$ og ef fallið er tvívítt má hafa $(x,y)$ í stað $x$ og $(x_0, y_0)$ í stað $a$.\n",
    "\n",
    "Ákvarðið Taylor-nálgun $f(x)=x_0^2 + 2x_0^\\vphantom{1}x_1^2 - x_1^3$ í punktinum $a = (1,2)$ og forritið hana í Python (munið eftir @ til að reikna innfeldi). Reiknið $f(1.2, 1.9)$ og $\\hat{f}(1.2, 1.9)$."
   ]
  },
  {
   "cell_type": "code",
   "execution_count": 4,
   "metadata": {},
   "outputs": [
    {
     "name": "stdout",
     "output_type": "stream",
     "text": [
      "1\n",
      "1\n"
     ]
    }
   ],
   "source": [
    "#7.2\n",
    "a = np.array([1,2])\n",
    "def f(x):\n",
    "    return x[0]**2 + 2*x[0]*x[1]**2 - x[1]**3\n",
    "\n",
    "def grad(x):\n",
    "    g = np.array([\n",
    "        2*x[0] + 2*x[1]**2,\n",
    "        4*x[0]*x[1] - 3*x[1]**2\n",
    "    ])\n",
    "    return g\n",
    "\n",
    "def fhat(x):\n",
    "    fh = f(a) + grad(a) @ (x - a)\n",
    "    return fh\n",
    "\n",
    "disp(f(x))\n",
    "disp(fhat(x))"
   ]
  },
  {
   "cell_type": "markdown",
   "metadata": {},
   "source": [
    "### T7.3 Norm\n",
    "Lengd eða norm vigurs er \n",
    "\n",
    "$$\\| x \\| = \\sqrt{x_1^2 + x_2^2 + \\ldots + x_n^2}$$. \n",
    "\n",
    "(Evklíðsk) fjarlægð milli tveggja punkta, $a$ og $b$ er gefin með $\\|a - b\\|$. Í Python má reikna $\\| x \\|$ með `la.norm(x)` (þar sem `numpy.linalg` er flutt inn sem `la`)\n",
    "\n",
    "Reiknið fjarlægðina milli $(1,2,3)$ og $(4,6,15)$ með Python."
   ]
  },
  {
   "cell_type": "code",
   "execution_count": 5,
   "metadata": {},
   "outputs": [
    {
     "name": "stdout",
     "output_type": "stream",
     "text": [
      "12.901659590319298\n"
     ]
    }
   ],
   "source": [
    "#7.3\n",
    "a = np.array([1,2,3])\n",
    "b = np.array([4,6,15])\n",
    "na = la.norm(a)\n",
    "nb = la.norm(b)\n",
    "print(nb - na)"
   ]
  },
  {
   "cell_type": "markdown",
   "metadata": {},
   "source": [
    "### T 7.4 Meðaltal og staðalfrávik\n",
    "**Meðaltal** (*average*, *mean*) vigurs $x$, táknað með $\\overline{x}$ eða $\\text{mean}(x)$, eða eins og í kennslubók með $\\text{avg}(x)$, er gefið með:\n",
    "\n",
    "$$\\overline{x} = \\frac{1}{n} \\sum_{i=1}^n x_i$$\n",
    "\n",
    "**Staðalfrávik** vigurs (*standard deviation*) $x$ er stundum táknað með $\\text{std}(x)$. Í kennslubókinni er notuð óleiðrétta (*óbjagaða*, *uncorrected*, *unbiased*) formúlan:\n",
    "\n",
    "$$\\text{std}(x) = \\sqrt{\\frac{1}{n}\\sum_{i=1}^n (x - \\overline{x})^2}$$\n",
    "\n",
    "Í Python má reikna staðalfrávik x með `np.std(x)`. Stundum, sérstaklega þegar reiknað er staðalfrávik úrtaks í tölfræði, er notuð *leiðrétt* (*bjöguð*, *corrected*, *biased*) formúla fyrir staðalfrávikið nefnilega:\n",
    "\n",
    "$$\\text{std}(x) = \\sqrt{\\frac{1}{n-1}\\sum_{i=1}^n (x - \\overline{x})^2}$$\n",
    "\n",
    "**a)** Lesið inn upplýsingar um körfuboltamennina (úr skránni `karfa.txt`).<br>\n",
    "**b)** Reiknið meðaltal og staðalfrávik þyngdar þeirra og sömuleiðis hæðar þeirra."
   ]
  },
  {
   "cell_type": "code",
   "execution_count": 6,
   "metadata": {},
   "outputs": [
    {
     "name": "stdout",
     "output_type": "stream",
     "text": [
      "Meðtaltal þyngdar: 91.47\n",
      "Staðalfrávik þyngdar: 9.49\n",
      "Meðtaltal hæðar : 187.20\n",
      "Staðalfrávik hæðar: 6.88\n"
     ]
    }
   ],
   "source": [
    "#7.4\n",
    "a, h, w = np.loadtxt(\"karfa.txt\").T\n",
    "print(f'Meðtaltal þyngdar: {np.mean(w):.2f}')\n",
    "print(f'Staðalfrávik þyngdar: {np.std(w):.2f}')\n",
    "print(f'Meðtaltal hæðar : {np.mean(h):.2f}')\n",
    "print(f'Staðalfrávik hæðar: {np.std(h):.2f}')"
   ]
  },
  {
   "cell_type": "markdown",
   "metadata": {},
   "source": [
    "### T7.5 Dreifni\n",
    "\n",
    "Eitt hugtak sem kemur oft við sögu í tölfræði og línulegri algebru þótt það sé ekki nefnt í bókinni er *dreifni* (*variance*). Dreifni vigurs er staðalfrávik hans í öðru veldi, sem sé:\n",
    "\n",
    "$$\\text{var}(x) = \\frac{1}{n}\\sum_{i=1}^n (x - \\overline{x})^2$$\n",
    "\n",
    "Í Python gefur `np.var(x)` dreifni x. Reiknið dreifni hæðar körfuboltamannanna og in sannreynið staðalfrávikið sé kvaðratrótin af dreifninni."
   ]
  },
  {
   "cell_type": "code",
   "execution_count": 7,
   "metadata": {},
   "outputs": [
    {
     "name": "stdout",
     "output_type": "stream",
     "text": [
      "Staðalfrávik hæðar: 6.88\n",
      "Dreifni haedar: 47.28\n",
      "Sannreyning: 6.88\n",
      "True\n"
     ]
    }
   ],
   "source": [
    "#7.5\n",
    "hvar = np.var(h)\n",
    "stdh = np.std(h)\n",
    "print(f'Staðalfrávik hæðar: {stdh:.2f}')\n",
    "print(f'Dreifni haedar: {hvar:.2f}')\n",
    "sann = np.sqrt(hvar)\n",
    "print(f'Sannreyning: {sann:.2f}')\n",
    "print(stdh == sann)"
   ]
  },
  {
   "cell_type": "markdown",
   "metadata": {},
   "source": [
    "### T7.6 Horn milli vigra\n",
    "\n",
    "Hornið milla vigra $x$ og $y$ er skilgreint með:\n",
    "\n",
    "$$\\arccos \\frac{x^T y}{\\|x\\| \\|y\\|}$$\n",
    "\n",
    "Kósínusinn af horninu er sem sé innfeldi vigranna deilt með margfeldi lengda þeirra. Í Python má reikna $\\arccos$ með `np.arccos` og ef maður vill fá niðurstöðu í gráðum má nota `np.degrees(np.arccos(...))`. \n",
    "\n",
    "**a)** Reiknið hornið milli vigranna $(1,1,1)$ og $(1,2,3)$. Munið að $a^Tb$ má reikna með `a @ b`. "
   ]
  },
  {
   "cell_type": "code",
   "execution_count": 8,
   "metadata": {},
   "outputs": [
    {
     "name": "stdout",
     "output_type": "stream",
     "text": [
      "22.21\n"
     ]
    }
   ],
   "source": [
    "#7.6a\n",
    "x = np.array([1,1,1])\n",
    "y = np.array([1,2,3])\n",
    "lx = la.norm(x)\n",
    "ly = la.norm(y)\n",
    "def horn(x,y):\n",
    "    c =  np.arccos( (x@y)/(lx*ly) )\n",
    "    return np.degrees(c)\n",
    "    \n",
    "res = horn(x,y)\n",
    "print(f'{res:.2f}')"
   ]
  },
  {
   "cell_type": "markdown",
   "metadata": {},
   "source": [
    "**b)** Ef sett er hnitakerfi í gegn um miðju jarðar þá verður þrívíður vigur sem byrjar í miðjunni og endar á stað á yfirborðinu með breidd $b$ og lengd $l$:\n",
    "\n",
    "$$\\pmatrix{R\\sin l \\cos b\\\\R\\cos l \\cos b\\\\R\\sin b}$$\n",
    "\n",
    "þar sem $R$ er radíus jarðar, $R \\approx 6370\\ \\text{km}$. Í stærðfræðigreiningu eru $R$, $\\lambda$ og $\\theta$ kölluð kúluhnit (*spherical coordinates*). Hnattstaða Reykjavíkur er u.þ.b. 64°N og 22°E, og hattstaða London u.þ.b. 51.5°N og 0°W. Reiknið hornið milli Reykjavíkur og London mælt frá miðju jarðar.\n",
    "\n",
    "**c)** Lengd hringboga í hring með radíus $r$ sem spannar horn sem er $\\theta$ radíanar er\n",
    "\n",
    "$$L = r\\theta$$\n",
    "\n",
    "(sbr. [bogar á Wikipediu](https://en.wikipedia.org/wiki/Arc_(geometry))). Reiknið fjarlægðina milli Reykjavíkur og London (Siri segir 1890 km)"
   ]
  },
  {
   "cell_type": "code",
   "execution_count": 12,
   "metadata": {},
   "outputs": [
    {
     "name": "stdout",
     "output_type": "stream",
     "text": [
      "16.976\n",
      "1887.39 km\n"
     ]
    }
   ],
   "source": [
    "#7.6bc\n",
    "def sind(x):\n",
    "    \"\"\"Skilar sin(x gráður)\"\"\"\n",
    "    return np.sin(np.radians(x))\n",
    "\n",
    "def cosd(x):\n",
    "    \"\"\"Skilar cos(x gráður)\"\"\"\n",
    "    return np.cos(np.radians(x))\n",
    "R = 6370\n",
    "bRvk = 64\n",
    "lRvk = -22\n",
    "bLondon = 51.5\n",
    "lLondon = 0\n",
    "x = np.array([\n",
    "    R*sind(lRvk)*cosd(bRvk),\n",
    "    R*cosd(lRvk)*cosd(bRvk),\n",
    "    R*sind(bRvk)\n",
    "])\n",
    "y = np.array([\n",
    "    R*sind(lLondon)*cosd(bLondon),\n",
    "    R*cosd(lLondon)*cosd(bLondon),\n",
    "    R*sind(bLondon)\n",
    "])\n",
    "theta = np.arccos( (x@y)/(la.norm(x)*la.norm(y)) )\n",
    "D = np.degrees(theta)\n",
    "disp(D)\n",
    "L = R*theta\n",
    "print(f'{L:.2f} km')"
   ]
  },
  {
   "cell_type": "markdown",
   "metadata": {},
   "source": [
    "### T7.7 Jafna besta plans\n",
    "Í reitnum hér á eftir eru búin til gervigögn sem gætu t.d. lýst hæð 5–15 ára trjáa sem fall af aldri þeirra og hæð yfir sjó: trén hækka um einn metra á ári, en lækka um 1 m fyrir hverja 100 m sem þau standa hærra uppi í brekkunni:\n",
    "\n",
    "$$\n",
    "\\text{hæð}_i = a_0 + a_1 x_i + a_2 y_i + {\\varepsilon}_i\\ \\ (a_0 = 0.5, a_1 = 1, a_2 = -0.01)\n",
    "$$\n",
    "\n",
    "þar sem $x_i$ er aldur og $y_i$ er hys fyrir tré $i$."
   ]
  },
  {
   "cell_type": "code",
   "execution_count": 50,
   "metadata": {},
   "outputs": [
    {
     "data": {
      "image/png": "[encoded data removed]",
      "text/plain": [
       "<Figure size 432x288 with 2 Axes>"
      ]
     },
     "metadata": {
      "needs_background": "light"
     },
     "output_type": "display_data"
    }
   ],
   "source": [
    "npr.seed(42)\n",
    "aldur = 5 + npr.rand(50)*10\n",
    "hys = npr.rand(50)*400\n",
    "eps = npr.randn(50)\n",
    "hæð = 0.5 + 1*aldur - 0.01*hys + eps;\n",
    "plt.scatter(aldur, hæð, c=hys);\n",
    "plt.xlabel('aldur (ár)')\n",
    "plt.ylabel('hæð trjáa (m)')\n",
    "plt.colorbar(label='hæð yfir sjó')\n",
    "plt.grid()"
   ]
  },
  {
   "cell_type": "markdown",
   "metadata": {},
   "source": [
    "Nú skal meta stika líkansins með því að beita \"venjulegri aðferð minnstu kvaðrata\", þ.e.a.s. með því að lágmarka kvaðratsummu frávika milli hæðar trjánna og spár líkansins. Með öðrum orðum skal  lágmarka fallið:\n",
    "\n",
    "$$\n",
    "S(a_0, a_1, a_2) = \\sum_{i=1}^{50} (\\text{hæð}_i - (a_0 + a_1 x_i + a_2 y_i))^2\n",
    "$$\n",
    "\n",
    "Til þess getum við notað Python-fallið `sm.OLS` (`statsmodels.api` er flutt inn sem `sm` að ofan). OLS stendur fyrir *ordinary least squares*. Maður byrjar á að setja aldur og hys inn í fylki X, t.d. með `X = np.c_[aldur, hys]`, svo þarf að bæta dálki af ásum við X og það má gera með `X = sm.add_constant(X)`, svo er búið til líkan: `model = sm.OLS(hæð, X)` og að lokum eru stikarnir fundnir með `result = model.fit()`. Til að skrifa út niðurstöðuna er sagt `result.summary()` og til að búa til vigur $(a_0, a_1, a_2)$ með stikunum má segja `a = result.param`. Gerið allt þetta."
   ]
  }
 ],
 "metadata": {
  "kernelspec": {
   "display_name": "Python 3",
   "language": "python",
   "name": "python3"
  },
  "language_info": {
   "codemirror_mode": {
    "name": "ipython",
    "version": 3
   },
   "file_extension": ".py",
   "mimetype": "text/x-python",
   "name": "python",
   "nbconvert_exporter": "python",
   "pygments_lexer": "ipython3",
   "version": "3.7.1"
  }
 },
 "nbformat": 4,
 "nbformat_minor": 2
}
