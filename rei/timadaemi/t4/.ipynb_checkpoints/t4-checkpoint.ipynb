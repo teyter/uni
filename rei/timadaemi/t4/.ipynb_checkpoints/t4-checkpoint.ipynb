{
 "cells": [
  {
   "cell_type": "markdown",
   "metadata": {},
   "source": [
    "# Tímadæmi 4"
   ]
  },
  {
   "cell_type": "code",
   "execution_count": 1,
   "metadata": {},
   "outputs": [],
   "source": [
    "#BYRJA -- Keyrið til að frumstilla numpy o.fl.\n",
    "import numpy as np\n",
    "import numpy.random as npr\n",
    "import matplotlib.pyplot as plt\n",
    "plt.rc('axes', axisbelow=True)\n",
    "%matplotlib inline\n",
    "np.set_printoptions(precision=2, floatmode='fixed', suppress=True)"
   ]
  },
  {
   "cell_type": "code",
   "execution_count": 2,
   "metadata": {},
   "outputs": [
    {
     "data": {
      "application/javascript": [
       "MathJax.Hub.Config({TeX: {equationNumbers:{autoNumber:\"AMS\"}, TagSide:\"left\"}});\n"
      ],
      "text/plain": [
       "<IPython.core.display.Javascript object>"
      ]
     },
     "metadata": {},
     "output_type": "display_data"
    }
   ],
   "source": [
    "%%javascript \n",
    "MathJax.Hub.Config({TeX: {equationNumbers:{autoNumber:\"AMS\"}, TagSide:\"left\"}});"
   ]
  },
  {
   "cell_type": "markdown",
   "metadata": {},
   "source": [
    "Hægt er að skilgreina föll af vigrum og föll af mörgum breytistærðum í stærðfræði. Í lið 2.4 í Fyrirlestraræfingu 4b sáum við dæmi um þetta:\n",
    "\n",
    "\\begin{equation} \\label{e1}\n",
    "S(a,b) = \\sum_{i=1}^{50}(ax_i + b - y_i)^2\n",
    "\\end{equation}\n",
    "\n",
    "Við sjáum við að S er ekki bara fall af $a$ og $b$, heldur líka fall af vigrunum $x$ og $y$, og auk þess kemur við sögu talan 50 sem í almennri framsetning ætti að heita $n$. Því má skrifa:\n",
    "\n",
    "\\begin{equation} \\label{e2}\n",
    "d(a,b,x,y) = \\sum_{i=1}^{n}(ax_i + b - y_i)^2\n",
    "\\end{equation}\n",
    "\n",
    "og svo látum við fylgja að $d$ sé fall $\\Bbb R\\times\\Bbb R\\times\\Bbb R^n\\times\\Bbb R^n\\rightarrow\\Bbb R$.\n",
    "Fyrir gefin $x$ og $y$ af lengd 50 má svo skilgreina, sbr. jöfnu ($\\ref{e1}$):\n",
    "\n",
    "\\begin{equation} \\label{e3}\n",
    "S(a,b) = d(a,b,x,y) \n",
    "\\end{equation}"
   ]
  },
  {
   "cell_type": "markdown",
   "metadata": {},
   "source": [
    "### 1. Föll til að búa til slembigögn og reikna kvaðratsummu frávika\n",
    "\n",
    "Í þessu dæmi er best að allir fái sömu slembitölur. Til að tryggja það, skrifið efst í reit #1: `npr.seed(10)`.\n",
    "Skrifið svo (í sama reit) Python-fall `slembixy(n)` sem skilar tveimur háðum (*korrelleruðum*) slembivigrum af lengd\n",
    "`n`: `x` (tölur á bilinu $[1, 6]$) og `y` (reiknaðan með $y = 1.5 x + 0.3 + \\varepsilon$), \n",
    "með því að nota formúlurnar úr reit #PLÖNTUR í F4b:\n",
    "\n",
    "        x = 1 + 5*npr.random(n)\n",
    "        e = 0.7*npr.normal(size=n)\n",
    "        y = 1.5*x + 0.3 + e\n",
    "        \n",
    "Skrifið í framhaldi Python-fall til að reikna $d$. Eftir að fallið d hefur verið skilgreint látið `n = 50` og\n",
    "kallið svo á `slembixy` til að gefa `x` og `y` gildi (x ætti að byrja á [4.86, 1.10...] og y á [7.02, 1.81...])"
   ]
  },
  {
   "cell_type": "code",
   "execution_count": 3,
   "metadata": {},
   "outputs": [],
   "source": [
    "#1"
   ]
  },
  {
   "cell_type": "markdown",
   "metadata": {},
   "source": [
    "### 2. Jafna bestu línu og skilgreining S   \n",
    "   \n",
    "Farið nú í reit #2. Finnið jöfnu bestu línu, $y = Ax + B$ eins og í F4b með `(A,B) = polyfit(x,y,1)`. \n",
    "Það ætti að gefa A = 1.46 og B = 0.47. Búið næst til fall sem reiknar S. Prófið að prenta út `S(A,B)`, \n",
    "`S(1.5, 0.3)` og `S(2,1)` (ætti að gefa 23.42, 23.61 og 344.93). "
   ]
  },
  {
   "cell_type": "code",
   "execution_count": 4,
   "metadata": {},
   "outputs": [],
   "source": [
    "#2"
   ]
  },
  {
   "cell_type": "markdown",
   "metadata": {},
   "source": [
    "### 3. Þversnið af S\n",
    "Næst skal (í reit #3) búa til föll sem gefa þversnið af S, annarsvegar $f(b) = S(1.5, b)$ og hinsvegar $g(a) = S(a, 1.5)$,\n",
    "og síðan teikna gröf þeirra eins og gert var í F4b. Teiknið $f$ á bilinu $[1,2]$ og $g$ á bilinu $[-1,3]$. Þægilegt er að nota *comprehension* (*yfirgrip*) til að reikna vigra með gildum $f$ og $g$ – fáið leiðbeiningar hjá dæmatímakennara."
   ]
  },
  {
   "cell_type": "code",
   "execution_count": 5,
   "metadata": {},
   "outputs": [],
   "source": [
    "#3"
   ]
  },
  {
   "cell_type": "markdown",
   "metadata": {},
   "source": [
    "### 4. Jafnhæðarlínur S\n",
    "Nú skal teikna jafnhæðarlínur fallsins S á rétthyrningnum $1 \\leq a \\leq 2, -1 \\leq b \\leq 2$. \n",
    "Til þess er kallað á `plt.contour(u, v, Z.T, m)` þar sem `u` er vigur með punktum á a-ás (þ.e. x-ás, t.d. `np.linspace(1,2)`), \n",
    "`v` er vigur með punktum á b-ás (y-ás, `linspace(-1,2)`), `Z` er fylki með $z_{ij} = S(u_i, v_j)$ og `m` er fjöldi hæðarlína sem teiknaðar eru, hér er hæfilegt að nota `m = 40`"
   ]
  },
  {
   "cell_type": "code",
   "execution_count": null,
   "metadata": {},
   "outputs": [],
   "source": [
    "#4"
   ]
  }
 ],
 "metadata": {
  "kernelspec": {
   "display_name": "Python 3",
   "language": "python",
   "name": "python3"
  },
  "language_info": {
   "codemirror_mode": {
    "name": "ipython",
    "version": 3
   },
   "file_extension": ".py",
   "mimetype": "text/x-python",
   "name": "python",
   "nbconvert_exporter": "python",
   "pygments_lexer": "ipython3",
   "version": "3.7.1"
  }
 },
 "nbformat": 4,
 "nbformat_minor": 2
}
