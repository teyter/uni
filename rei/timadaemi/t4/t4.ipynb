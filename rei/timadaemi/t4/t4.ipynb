{
 "cells": [
  {
   "cell_type": "markdown",
   "metadata": {},
   "source": [
    "# Tímadæmi 4"
   ]
  },
  {
   "cell_type": "code",
   "execution_count": 121,
   "metadata": {},
   "outputs": [],
   "source": [
    "#BYRJA -- Keyrið til að frumstilla numpy o.fl.\n",
    "import numpy as np\n",
    "import numpy.random as npr\n",
    "import matplotlib.pyplot as plt\n",
    "plt.rc('axes', axisbelow=True)\n",
    "%matplotlib inline\n",
    "np.set_printoptions(precision=2, floatmode='fixed', suppress=True)"
   ]
  },
  {
   "cell_type": "code",
   "execution_count": 2,
   "metadata": {},
   "outputs": [
    {
     "data": {
      "application/javascript": [
       "MathJax.Hub.Config({TeX: {equationNumbers:{autoNumber:\"AMS\"}, TagSide:\"left\"}});\n"
      ],
      "text/plain": [
       "<IPython.core.display.Javascript object>"
      ]
     },
     "metadata": {},
     "output_type": "display_data"
    }
   ],
   "source": [
    "%%javascript \n",
    "MathJax.Hub.Config({TeX: {equationNumbers:{autoNumber:\"AMS\"}, TagSide:\"left\"}});"
   ]
  },
  {
   "cell_type": "markdown",
   "metadata": {},
   "source": [
    "Hægt er að skilgreina föll af vigrum og föll af mörgum breytistærðum í stærðfræði. Í lið 2.4 í Fyrirlestraræfingu 4b sáum við dæmi um þetta:\n",
    "\n",
    "\\begin{equation} \\label{e1}\n",
    "S(a,b) = \\sum_{i=1}^{50}(ax_i + b - y_i)^2\n",
    "\\end{equation}\n",
    "\n",
    "Við sjáum við að S er ekki bara fall af $a$ og $b$, heldur líka fall af vigrunum $x$ og $y$, og auk þess kemur við sögu talan 50 sem í almennri framsetning ætti að heita $n$. Því má skrifa:\n",
    "\n",
    "\\begin{equation} \\label{e2}\n",
    "d(a,b,x,y) = \\sum_{i=1}^{n}(ax_i + b - y_i)^2\n",
    "\\end{equation}\n",
    "\n",
    "og svo látum við fylgja að $d$ sé fall $\\Bbb R\\times\\Bbb R\\times\\Bbb R^n\\times\\Bbb R^n\\rightarrow\\Bbb R$.\n",
    "Fyrir gefin $x$ og $y$ af lengd 50 má svo skilgreina, sbr. jöfnu ($\\ref{e1}$):\n",
    "\n",
    "\\begin{equation} \\label{e3}\n",
    "S(a,b) = d(a,b,x,y) \n",
    "\\end{equation}"
   ]
  },
  {
   "cell_type": "markdown",
   "metadata": {},
   "source": [
    "### 1. Föll til að búa til slembigögn og reikna kvaðratsummu frávika\n",
    "\n",
    "Í þessu dæmi er best að allir fái sömu slembitölur. Til að tryggja það, skrifið efst í reit #1: `npr.seed(10)`.\n",
    "Skrifið svo (í sama reit) Python-fall `slembixy(n)` sem skilar tveimur háðum (*korrelleruðum*) slembivigrum af lengd\n",
    "`n`: `x` (tölur á bilinu $[1, 6]$) og `y` (reiknaðan með $y = 1.5 x + 0.3 + \\varepsilon$), \n",
    "með því að nota formúlurnar úr reit #PLÖNTUR í F4b:\n",
    "\n",
    "        x = 1 + 5*npr.random(n)\n",
    "        e = 0.7*npr.normal(size=n)\n",
    "        y = 1.5*x + 0.3 + e\n",
    "        \n",
    "Skrifið í framhaldi Python-fall til að reikna $d$. Eftir að fallið d hefur verið skilgreint látið `n = 50` og\n",
    "kallið svo á `slembixy` til að gefa `x` og `y` gildi (x ætti að byrja á [4.86, 1.10...] og y á [7.02, 1.81...])"
   ]
  },
  {
   "cell_type": "code",
   "execution_count": 338,
   "metadata": {},
   "outputs": [
    {
     "name": "stdout",
     "output_type": "stream",
     "text": [
      "[4.86 1.10 4.17 4.74 3.49 2.12 1.99 4.80 1.85 1.44 4.43 5.77 1.02 3.56\n",
      " 5.06 4.06 4.61 2.46 5.59 4.57 3.71 1.71 2.87 4.37 3.21 3.17 4.09 3.57\n",
      " 4.25 4.01 5.03 3.61 5.54 2.60 1.45 2.50 1.57 5.14 1.23 4.13 3.74 5.10\n",
      " 1.99 5.28 2.76 4.77 2.48 5.42 2.63 1.83]\n"
     ]
    }
   ],
   "source": [
    "#1\n",
    "npr.seed(10)\n",
    "def slembixy(n):\n",
    "    x = 1 + 5*npr.random(n)\n",
    "    e = 0.7*npr.normal(size=n)\n",
    "    y = 1.5*x + 0.3 + e\n",
    "    return x, y\n",
    "\n",
    "def d(a,b,x,y):\n",
    "    n = len(x)\n",
    "    s = 0\n",
    "    for i in range(n):\n",
    "        s += ( a*x[i] + b - y[i] )**2\n",
    "    #print(f'S = {s:.2f}')\n",
    "    return s\n",
    "\n",
    "def dd(a,b,x,y):\n",
    "    n = len(x)\n",
    "    r = a*x + b - y\n",
    "    rr = np.sum(r**2)\n",
    "    return rr\n",
    "    \n",
    "n = 50\n",
    "x, y = slembixy(n)\n",
    "print(x)\n",
    "\n",
    "#def d(a,b,x,y):"
   ]
  },
  {
   "cell_type": "markdown",
   "metadata": {},
   "source": [
    "### 2. Jafna bestu línu og skilgreining S   \n",
    "   \n",
    "Farið nú í reit #2. Finnið jöfnu bestu línu, $y = Ax + B$ eins og í F4b með `(A,B) = polyfit(x,y,1)`. \n",
    "Það ætti að gefa A = 1.46 og B = 0.47. Búið næst til fall sem reiknar S. Prófið að prenta út `S(A,B)`, \n",
    "`S(1.5, 0.3)` og `S(2,1)` (ætti að gefa 23.42, 23.61 og 344.93). "
   ]
  },
  {
   "cell_type": "code",
   "execution_count": 348,
   "metadata": {},
   "outputs": [
    {
     "name": "stdout",
     "output_type": "stream",
     "text": [
      "A = 1.46\n",
      "B = 0.47\n",
      "S = 23.42\n",
      "S = 23.61\n",
      "S = 344.93\n"
     ]
    }
   ],
   "source": [
    "#2\n",
    "npr.seed(10)\n",
    "(x,y) = slembixy(50)\n",
    "(A,B) = np.polyfit(x,y,1)\n",
    "print(f'A = {A:.2f}')\n",
    "print(f'B = {B:.2f}')\n",
    "\n",
    "def S(a,b):\n",
    "    n = len(x)\n",
    "    s = 0\n",
    "    for i in range(n):\n",
    "        s += ( a*x[i] + b - y[i] )**2\n",
    "    print(f'S = {s:.2f}')\n",
    "    return s\n",
    "\n",
    "S(A,B)\n",
    "S(1.5,0.3)\n",
    "S(2,1);"
   ]
  },
  {
   "cell_type": "markdown",
   "metadata": {},
   "source": [
    "### 3. Þversnið af S\n",
    "Næst skal (í reit #3) búa til föll sem gefa þversnið af S, annarsvegar $f(b) = S(1.5, b)$ og hinsvegar $g(a) = S(a, 1.5)$,\n",
    "og síðan teikna gröf þeirra eins og gert var í F4b. Teiknið $f$ á bilinu $[1,2]$ og $g$ á bilinu $[-1,3]$. Þægilegt er að nota *comprehension* (*yfirgrip*) til að reikna vigra með gildum $f$ og $g$ – fáið leiðbeiningar hjá dæmatímakennara."
   ]
  },
  {
   "cell_type": "code",
   "execution_count": 352,
   "metadata": {},
   "outputs": [
    {
     "name": "stdout",
     "output_type": "stream",
     "text": [
      "S = 1114.42\n"
     ]
    },
    {
     "data": {
      "image/png": "[encoded data removed]",
      "text/plain": [
       "<Figure size 432x288 with 1 Axes>"
      ]
     },
     "metadata": {
      "needs_background": "light"
     },
     "output_type": "display_data"
    }
   ],
   "source": [
    "#3\n",
    "#def stuff(x):\n",
    " #   return x+3\n",
    "#x = [stuff(i)**2 for i in range(10)]\n",
    "\n",
    "def f(b):\n",
    "    plt.hist( S(1.5,b) )\n",
    "    \n",
    "def g(a):\n",
    "    S(a,1.5)\n",
    "    \n",
    "f(5)\n",
    "    "
   ]
  },
  {
   "cell_type": "markdown",
   "metadata": {},
   "source": [
    "### 4. Jafnhæðarlínur S\n",
    "Nú skal teikna jafnhæðarlínur fallsins S á rétthyrningnum $1 \\leq a \\leq 2, -1 \\leq b \\leq 2$. \n",
    "Til þess er kallað á `plt.contour(u, v, Z.T, m)` þar sem `u` er vigur með punktum á a-ás (þ.e. x-ás, t.d. `np.linspace(1,2)`), \n",
    "`v` er vigur með punktum á b-ás (y-ás, `linspace(-1,2)`), `Z` er fylki með $z_{ij} = S(u_i, v_j)$ og `m` er fjöldi hæðarlína sem teiknaðar eru, hér er hæfilegt að nota `m = 40`"
   ]
  },
  {
   "cell_type": "code",
   "execution_count": null,
   "metadata": {},
   "outputs": [],
   "source": [
    "#4"
   ]
  }
 ],
 "metadata": {
  "kernelspec": {
   "display_name": "Python 3",
   "language": "python",
   "name": "python3"
  },
  "language_info": {
   "codemirror_mode": {
    "name": "ipython",
    "version": 3
   },
   "file_extension": ".py",
   "mimetype": "text/x-python",
   "name": "python",
   "nbconvert_exporter": "python",
   "pygments_lexer": "ipython3",
   "version": "3.7.1"
  }
 },
 "nbformat": 4,
 "nbformat_minor": 2
}
