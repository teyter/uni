{
 "cells": [
  {
   "cell_type": "markdown",
   "metadata": {},
   "source": [
    "# Tímadæmi 5 – Dæmi úr Stanford kennslubók"
   ]
  },
  {
   "cell_type": "markdown",
   "metadata": {},
   "source": [
    "Hér eru valin dæmi úr 1. kafla í Stanford-kennslubókinni ásamt viðbótum fyrir Python. Leysið dæmin úr bókinni með blaði og blýanti, en viðbæturnar í Júpíter. Þið þurfið að sýna dæmakennaranum ykkar lausnirnar bæði á blaðinu og skjánum til að fá mætingu."
   ]
  },
  {
   "cell_type": "code",
   "execution_count": 1,
   "metadata": {},
   "outputs": [],
   "source": [
    "#BYRJA -- Keyrið til að frumstilla numpy o.fl.\n",
    "import numpy as np\n",
    "import numpy.random as npr\n",
    "import matplotlib.pyplot as plt\n",
    "plt.rc('axes', axisbelow=True)\n",
    "%matplotlib inline\n",
    "# disp(x,y...) skrifar x,y... með 3 aukastöfum\n",
    "def disp(*args): print(*(f'{a:.3f}' if isinstance(a,float) else a for a in args))\n",
    "np.set_printoptions(precision=3, floatmode='fixed', suppress=True)"
   ]
  },
  {
   "cell_type": "markdown",
   "metadata": {},
   "source": [
    "### Mismunavigur (dæmi 1.6)\n",
    "**Leiðbeining:** *Skoðið vigrana $x_{2:n}$ og $x_{1:n-1}$.*\n",
    "\n",
    "**Viðbót:**<br>\n",
    "a) Lesið Stykkishólms-hitaröðina ``stykk.txt`` og reiknið og teiknið mismunaröð hennar (eða mismunavigur, *vector of differences*), bæði með því að nota svarið við dæminu og með því að nota innbyggða Numpy-fallið `np.diff`.\n",
    "\n",
    "b) Takið eftir að breytingar frá ári til árs voru að jafnaði meiri á köldu tímabilunum, á 19. öld og á seinni hluta þeirrar 20. Þetta sést enn betur ef við skoðum röð með tölugildi breytinganna. Reiknið og teiknið slíka röð. Teiknið hitastigin sjálf inn á sama graf.\n",
    "\n",
    "c) Reiknið meðaltal tölugildis breytinga annarsvegar fyrir og hinsvegar eftir 1925."
   ]
  },
  {
   "cell_type": "code",
   "execution_count": null,
   "metadata": {},
   "outputs": [],
   "source": [
    "# a-liður"
   ]
  },
  {
   "cell_type": "code",
   "execution_count": null,
   "metadata": {},
   "outputs": [],
   "source": [
    "#b-liður"
   ]
  },
  {
   "cell_type": "code",
   "execution_count": null,
   "metadata": {},
   "outputs": [],
   "source": [
    "#c-liður"
   ]
  },
  {
   "cell_type": "markdown",
   "metadata": {},
   "source": [
    "### Breytt milli tveggja aðferða við að kóða rökvigur (d. 1.7)\n",
    "*Ath.* Það er hægt að skrifa $y$ útfrá $x$ og öfugt með því að nota ásavigur, köllum hann **1** (eða $e$ eins og er líka algengt), samlagningu/frádrátt vigra og margföldun vigurs með tölu.\n",
    "\n",
    "**Viðbót:**<br>\n",
    "Finnið vigur `x` sem er 1 ef árið í Stykkishólmi var hlýrra en 4° að meðaltali, annars 0. Reiknið y. \n",
    "\n",
    "**Ath.** Í stærðfræði þarf að skrifa $x + e$ (eða $x\\ +$ **1**) til að leggja 1 við öll stök vigurs $x$, en í Python má leggja saman vigur og tölu og skrifa `x + 1`."
   ]
  },
  {
   "cell_type": "code",
   "execution_count": null,
   "metadata": {},
   "outputs": [],
   "source": [
    "#D1.7"
   ]
  },
  {
   "cell_type": "markdown",
   "metadata": {},
   "source": [
    "### Heildarhagnaður (d. 1.8)\n",
    "(Hér er $p$ vigur með hagnaði á einingu fyrir hverja af $n$ vörum, og $s$ er vigur með fjölda seldra eininga. Það á svo (auðvitað) að tákna heildarhagnað með innfeldi.)\n",
    "\n",
    "**Viðbót:**<br>\n",
    "a) Lát $p = (100, 120, -50, 100, 150, -10, 80)$ og $s = (10, 15, 30, 60, 40, 40, 10). Reiknið heildarhagnað.\n",
    "\n",
    "b) Finnið númer þeirra vörutegunda sem eru seldar með tapi (*loss leaders*) með Python (svarið á að vera 2 og 5."
   ]
  },
  {
   "cell_type": "code",
   "execution_count": null,
   "metadata": {},
   "outputs": [],
   "source": [
    "#D1.8"
   ]
  },
  {
   "cell_type": "markdown",
   "metadata": {},
   "source": [
    "### Sjúkdómseinkenni (1.9)\n",
    "**Ath.** Hér verður látið duga að sýna svar á blaði. Við höfum sem sé vigur $s = (s_1,...,s_{20})$ og $s_i$ er 1 ef sjúklingur hefur einkenni $i$. Svo á að nota vigurrithátt til að sýna:<br>\n",
    "(a) heildarfjölda einkenna sem sjúklingurinn hefur og<br>\n",
    "(b) satt/ósatt eftir því hvort sj. hefur nákvæmlega 5 af fyrstu 10 einkennunum"
   ]
  },
  {
   "cell_type": "markdown",
   "metadata": {},
   "source": [
    "### Orðatalning (1.11)\n",
    "Hér liggur fyrir orðabók með $n$ orðum og tiltekið skjal: $w_i$ er fjöldi skipta sem orð nr. $i$  kemur fyrir í bókinni. Svo er spurt:<br>\n",
    "<br>\n",
    "(a) Hvað er **1**$^Tw$<br>\n",
    "(b) Hvað þýðir $w_{282} = 0$?<br>\n",
    "(c) Finnið formúlu fyrir vigri $h$ sem gefur hlutfall hvers orðs í textanum<br>\n",
    "$\\ \\ \\ $ (ef \"og\" væri 3. orðið í orðabókinni og $1/10$ af orðum skjalsins væru \"og\" þá yrði $h_3 = 0.1$) "
   ]
  },
  {
   "cell_type": "markdown",
   "metadata": {},
   "source": [
    "### Meðalaldur í þýði (1.13)\n",
    "Hér er $x$ 100 staka vigur þar sem $x_i$ er fjöldi í þýði sem eru á $i$-ta aldursári, $i = 1,...,100$ (svo t.d. $x_{20}$ er fjöldi 20 ára). Svo á að finna:<br>\n",
    "<br>\n",
    "(a) Heildarfjöldann í þýðinu<br>\n",
    "(b) Heildarfjölda sem eru orðnir 65 ára<br>\n",
    "(c) Meðalaldur þýðisins.\n",
    "\n",
    "**Viðbót**\n",
    "Látið $x_i = 505 - 5i, i=1,...,100$ og ákvarðið svörin við (a), (b) og (c) með Python."
   ]
  },
  {
   "cell_type": "code",
   "execution_count": null,
   "metadata": {},
   "outputs": [],
   "source": [
    "#D1.13"
   ]
  }
 ],
 "metadata": {
  "kernelspec": {
   "display_name": "Python 3",
   "language": "python",
   "name": "python3"
  },
  "language_info": {
   "codemirror_mode": {
    "name": "ipython",
    "version": 3
   },
   "file_extension": ".py",
   "mimetype": "text/x-python",
   "name": "python",
   "nbconvert_exporter": "python",
   "pygments_lexer": "ipython3",
   "version": "3.7.1"
  }
 },
 "nbformat": 4,
 "nbformat_minor": 2
}
