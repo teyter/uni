{
 "cells": [
  {
   "cell_type": "markdown",
   "metadata": {},
   "source": [
    "# Stærðfræði og reiknifræði – Tímadæmi 3"
   ]
  },
  {
   "cell_type": "markdown",
   "metadata": {},
   "source": [
    "### T3.1 Upprifjun úr fyrirlestri um NumPy\n",
    "Í þessum tímadæmum rifjum við fyrst upp NumPy föll og aðgerðir sem kynntar voru í síðasta fyrirlestri, í Júpíter-bókinni *numpykynning* (sem er á Piazza). Þar var sýnt hvernig við \"flytjum inn\" ``numpy`` og ``numpy.random`` og stillum á 2 stafi aftan við kommu. Við kynntumst líka\n",
    "\n",
    "- föllunum ``np.array``, ``np.zeros``, ``np.ones``, ``np.eye``, ``np.full``, ``np.arange``, ``np.linspace`` og ``npr.random``    til að búa til vigra og fylki\n",
    "- eiginleikunum (*attributes*) ``ndim``, ``shape``, ``size``og ``dtype``\n",
    "- aðgerðum ``+``, ``-``, ``*``, ``/``\n",
    "- föllum sem verka á hvert stak fyrir sig, ``np.sqrt``, ``np.exp``, ``np.sin``, o.s.frv. \n",
    "\n",
    "Keyrið næstu reiti og skoðið niðurstöðurnar til að rifja þetta upp."
   ]
  },
  {
   "cell_type": "code",
   "execution_count": 2,
   "metadata": {},
   "outputs": [],
   "source": [
    "#BYRJA\n",
    "import numpy as np\n",
    "import numpy.random as npr\n",
    "np.set_printoptions(precision=2, floatmode='fixed', suppress=True)"
   ]
  },
  {
   "cell_type": "code",
   "execution_count": 3,
   "metadata": {},
   "outputs": [
    {
     "name": "stdout",
     "output_type": "stream",
     "text": [
      "v=[1.50 2.00], z=[0.00 0.00], e=[1.00 1.00 1.00]\n",
      "f=[1.23 1.23], ar=[1 2 3], lsp=[1.00 1.50 2.00 2.50 3.00]\n"
     ]
    }
   ],
   "source": [
    "# NÝIR VIGRAR:\n",
    "v = np.array([1.5, 2.0]); \n",
    "z = np.zeros(2)\n",
    "e = np.ones(3)\n",
    "f = np.full(2, 1.23)\n",
    "ar = np.arange(1,4)\n",
    "lsp = np.linspace(1,3,5)\n",
    "print(f'v={v}, z={z}, e={e}')\n",
    "print(f'f={f}, ar={ar}, lsp={lsp}')"
   ]
  },
  {
   "cell_type": "code",
   "execution_count": 4,
   "metadata": {},
   "outputs": [
    {
     "name": "stdout",
     "output_type": "stream",
     "text": [
      "V,I,F,R=\n",
      "[[1 2]\n",
      " [3 4]]\n",
      "[[1.00 0.00 0.00]\n",
      " [0.00 1.00 0.00]\n",
      " [0.00 0.00 1.00]]\n",
      "[[1.23 1.23 1.23]\n",
      " [1.23 1.23 1.23]]\n",
      "[[0.12 0.19]\n",
      " [0.22 0.59]]\n"
     ]
    }
   ],
   "source": [
    "# NÝ FYLKI\n",
    "V = np.array([[1,2],[3,4]])\n",
    "I = np.eye(3)\n",
    "F = np.full((2,3), 1.23)\n",
    "R = npr.random((2,2))\n",
    "print('V,I,F,R=')\n",
    "print(V); print(I); print(F); print(R)"
   ]
  },
  {
   "cell_type": "code",
   "execution_count": 5,
   "metadata": {},
   "outputs": [
    {
     "name": "stdout",
     "output_type": "stream",
     "text": [
      "v.ndim=1, F.ndim=2\n",
      "v.size=2, F.size=6\n",
      "v.shape=(2,), F.shape=(2, 3)\n",
      "ar.dtype=int64, lsp.dtype=float64\n"
     ]
    }
   ],
   "source": [
    "# EIGINLEIKAR\n",
    "print(f'v.ndim={v.ndim}, F.ndim={F.ndim}')\n",
    "print(f'v.size={v.size}, F.size={F.size}')\n",
    "print(f'v.shape={v.shape}, F.shape={F.shape}')\n",
    "print(f'ar.dtype={ar.dtype}, lsp.dtype={lsp.dtype}')"
   ]
  },
  {
   "cell_type": "code",
   "execution_count": 6,
   "metadata": {},
   "outputs": [
    {
     "name": "stdout",
     "output_type": "stream",
     "text": [
      "v+e = [2.73 3.23] \n",
      "v-f = [0.27 0.77] \n",
      "v*e = [1.84 2.46]\n",
      "kvaðratrót([4,9,25])  = [2.00 3.00 5.00]\n",
      "log10([10,100,10000]) = [1.00 2.00 4.00]\n"
     ]
    }
   ],
   "source": [
    "#  STAKVÍS FÖLL\n",
    "print(f'v+e = {v+f} \\nv-f = {v-f} \\nv*e = {v*f}')\n",
    "print(f'kvaðratrót([4,9,25])  = {np.sqrt(np.array([4,9,25]))}')\n",
    "print(f'log10([10,100,10000]) = {np.log10(np.array([10,100,10000]))}')"
   ]
  },
  {
   "cell_type": "markdown",
   "metadata": {},
   "source": [
    "### T3.2 Fylki lesið úr textaskrá – fylki skrifað í textaskrá\n",
    "Á *svindlblaðinu* (hjálparsíðunni) [NumPy Basics Cheat Sheet](https://s3.amazonaws.com/assets.datacamp.com/blog_assets/Numpy_Python_Cheat_Sheet.pdf) \n",
    "er Numpy föllum og aðgerðum lýst. Í þessu og næstu æfingum prófum við sum þeirra. \n",
    "\n",
    "1. Búið til textaskrá t.d. með því að velja í Júpíter: *File–Open–New–Textfile* eða \n",
    "   *New–Textfile* úr Home-flipa í vafranum. Sláið inn í skrána\n",
    "\n",
    "        2.5  4.0\n",
    "        6.0  7.5\n",
    "    \n",
    "   og vistið hana sem ``a.txt`` (með *File–Rename* og *File–Save*). Lesið svo skrána\n",
    "   inn í fylki ``A`` í Júpíter, (skoðið svindlblaðið til að finna út hvernig).\n",
    "   \n",
    "   \n",
    "2. Búið í framhaldi til nýja skrá, ``b.txt`` sem inniheldur fylkið ``2*A`` með ``np.savetxt``\n",
    "   (skoðið svindlblaðið aftur). Opnið ``b.txt`` og skoðið innihaldið t.d. með því að smella á \n",
    "   hana í *Home*-flipa. Ef allt hefur tekist ætti skráin að byrja á ``5.000000000000000000e+00``. \n",
    "   \n",
    "   \n",
    "3. Finnið út hvernig hægt er að breyta sniði (*format*) talnanna í \"5.2f\" (þ.e. xx.xx), \n",
    "   með því að gúgla, eða með því að velja *Help–NumPy* og leita að ``savetxt``\n",
    "   eða með því að slá inn ``help(np.savetxt)``. Skrifið fylkið ``2*A``\n",
    "   í ``c.txt`` með þessu nýja sniði og skoðið hvernig til tókst."
   ]
  },
  {
   "cell_type": "markdown",
   "metadata": {},
   "source": [
    "### T3.4 Fleiri NumPy aðgerðir og föll\n",
    "1. Finnið út á svindlblaðinu hvernig hægt er reikna summu vigurs (*sum*),\n",
    "   minnsta og stærsta gildi (*min* og *max*) og meðaltal (*mean*) \n",
    "   [*þetta er á miðju svindlblaðinu, undir Aggregate Functions*]. Búið til vigur \n",
    "   og prófið þessar aðferðir.\n",
    "   \n",
    "   Takið eftir að ``sum``, ``min``, ``max`` og ``mean`` eru aðferðir (*method*) \n",
    "   í vigrunum en ekki föll (*function*): Ritað er ``s = v.sum()`` en ekki ``s = sum(v)``\n",
    "   \n",
    "   \n",
    "2. Til að finna hvar minnsta / stærsta stak vigurs er má nota aðferðirnar\n",
    "   ``argmin``/``argmax``. Prófið.\n",
    "   \n",
    "   \n",
    "3. Hornalína (*diagonal*) fylkis liggur frá horninu efst t.v. Svokölluð bylting \n",
    "   (*transpose*) ferningsfylkis (2x2, 3x3 o.s.frv.) fæst með því að spegla því \n",
    "   um hornalínuna (þá speglast A[i,j] í A[j,i], línur speglast í dálka og öfugt). \n",
    "   Í stærðfræði er A bylt táknað $A^T$:\n",
    "   \n",
    "   $$\n",
    "   \\pmatrix{1 & 2 \\\\ 3 & 4}^T = \\pmatrix{1 & 3 \\\\ 2 & 4}\n",
    "   $$\n",
    "   \n",
    "   Í NumPy má rita ``A.T`` til að bylta ``A``. Keyrið næsta reit til að sjá þetta"
   ]
  },
  {
   "cell_type": "code",
   "execution_count": null,
   "metadata": {},
   "outputs": [],
   "source": [
    "#BYLTING\n",
    "A = np.array([[3,2,1], [0,1,0], [2,2,2]])\n",
    "print(A)\n",
    "print(A.T)"
   ]
  },
  {
   "cell_type": "markdown",
   "metadata": {},
   "source": [
    "4. Hægt er að ná í hlutvigra, hlutfylki og heilar línur eða dálka úr fylkjum með\n",
    "   því að nota : í vísum (eins og sýnt er efst t.h. á svindlblaðinu). Náið í \n",
    "   - fyrstu línu (nr. 0)\n",
    "   - aftasta dálk\n",
    "   - 2 x 2 hlutfylkið með línum 0 og 1 og dálkum 1 og 2\n",
    "   \n",
    "   úr fylkinu A sem búið var til í reit #BYLTING.\n",
    "\n",
    "\n",
    "5. **\"Rökvísun\"** (*logical indexing*): Hægt er að velja stök úr NumPy vigur með því að vísa með rökvigri (*logical ), sbr. eftirfarandi reit, þar sem við höfum úthlutað árunum 2015–2018 prímtölum. Prófið að breyta einhverju og sjá hvað gerist, t.d. að finna oddatöluprímtölur (``p % 2 != 0``)."
   ]
  },
  {
   "cell_type": "code",
   "execution_count": null,
   "metadata": {},
   "outputs": [],
   "source": [
    "#RÖKVÍSUN\n",
    "ár = np.arange(2015,2019)\n",
    "p = np.array([2,3,5,7])\n",
    "I = [False, True, True, False]\n",
    "J = ár < 2017\n",
    "print(p[I])\n",
    "print(p[ár < 2017])\n",
    "print(J, ár[J], p[J])"
   ]
  },
  {
   "cell_type": "markdown",
   "metadata": {},
   "source": [
    "### T3.5 Hitastig í Stykkishólmi\n",
    "Einhver lengsta samfellta hitamælingaröð sem til er í heiminum er frá Stykkishólmi, en þar hefur hiti verið mældur samfellt síðan árið 1830. Á vef Veðurstofu Íslands má nálgast ársmeðaltöl búin til úr þessum mælingum, en þau eru líka á Piazza vef námskeiðsins í skrá ``stykk.txt``.\n",
    "\n",
    "1. Lesið þessa skrá inn í NumPy fylki og setjið í framhaldi árin í vigur ``ár`` og hitann í vigur ``h`` sbr. T3.2 og T3.4.4.\n",
    "\n",
    "\n",
    "2. Notið aðgerðir úr T3.4 (1,2,5) til að finna út:\n",
    "   - lægsta ársmeðalhitann\n",
    "   - hæsta ársmeðalhitann\n",
    "   - hvaða ár var kaldast\n",
    "   - hvaða ár var heitast\n",
    "   - meðalhita allra áranna\n",
    "   - meðalhitann 1830–1925\n",
    "   - meðalhitann 1830-2000\n",
    "   - meðalhitann 2001-2018\n",
    "   \n",
    "   \n",
    "3. Skoðið (og keyrið) næsta reit sem sýnir einfalt dæmi um notkun Pyplot og teiknið í framhaldi hitaröðina."
   ]
  },
  {
   "cell_type": "code",
   "execution_count": null,
   "metadata": {},
   "outputs": [],
   "source": [
    "#TEIKNIDÆMI\n",
    "import matplotlib.pyplot as plt\n",
    "x = np.linspace(0,5,6)\n",
    "y = np.sqrt(x)\n",
    "plt.figure(figsize=(10,5))\n",
    "plt.scatter(x,y)\n",
    "plt.plot(x,y)\n",
    "plt.grid()"
   ]
  }
 ],
 "metadata": {
  "kernelspec": {
   "display_name": "Python 3",
   "language": "python",
   "name": "python3"
  },
  "language_info": {
   "codemirror_mode": {
    "name": "ipython",
    "version": 3
   },
   "file_extension": ".py",
   "mimetype": "text/x-python",
   "name": "python",
   "nbconvert_exporter": "python",
   "pygments_lexer": "ipython3",
   "version": "3.7.1"
  }
 },
 "nbformat": 4,
 "nbformat_minor": 2
}
