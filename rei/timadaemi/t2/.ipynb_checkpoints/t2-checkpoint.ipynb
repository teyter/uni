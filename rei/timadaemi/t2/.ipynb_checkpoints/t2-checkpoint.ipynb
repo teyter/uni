{
 "cells": [
  {
   "cell_type": "markdown",
   "metadata": {},
   "source": [
    "# Stærðfræði og reiknifræði – Tímadæmi 2"
   ]
  },
  {
   "cell_type": "markdown",
   "metadata": {},
   "source": [
    "### T2.1 Meðaleinkunn?\n",
    "(*Upphitun, byggt á tímadæmi T1.6*) Skrifið forrit sem les einkunnir nemanda í 3 fögum, stærðfræði, eðlisfræði og efnafræði, og reiknar og skrifar út meðaleinkunn hans. Ef meðaleinkunnin er 9 eða stærri á forritið að setja `Ágætiseinkunn` aftan við. Prófið."
   ]
  },
  {
   "cell_type": "code",
   "execution_count": null,
   "metadata": {},
   "outputs": [],
   "source": []
  },
  {
   "cell_type": "markdown",
   "metadata": {},
   "source": [
    "### T2.2 Summur\n",
    "Skrifið svo föll sem reikna út summurnar\n",
    "\n",
    "$$\n",
    "L_n = 1 - \\frac{1}{2} + \\frac{1}{3} - \\frac{1}{4} +...+ \\frac{(-1)^{n-1}}{n}\n",
    "$$\n",
    "og\n",
    "$$\n",
    "Q_n = 1 + \\frac{1}{2^2} + \\frac{1}{3^2} +...+ \\frac{1}{n^2}\n",
    "$$\n",
    "\n",
    "Getið þið fundið út hvað $L_n$ og $Q_n$ stefna á þegar $n$ stefnir á $\\infty$?\n",
    "\n",
    "***Leiðbeining*** $L_n$ er endurtekin úr tímadæmi T1.7, þið getið skoðað lausnina á því ef þið þurfið.\n"
   ]
  },
  {
   "cell_type": "code",
   "execution_count": null,
   "metadata": {},
   "outputs": [],
   "source": []
  },
  {
   "cell_type": "markdown",
   "metadata": {},
   "source": [
    "### T2.3 Pólhnit {-}\n",
    "\n",
    "1. Ljúkið við fyrirlestraræfinguna í grein 1.4.1 í fyrirlestrarnótunum. Hér fylgir reitur með föllunum `pol2rec` og `rec2pol` og forritinu profpol. Þið þurfið að afrita reitinn (með föllunum) í skrá `polhnit.py` (í sömu möppu og þessi júpiter-bók er), t.d. með því að nota einhvern ritil (*editor*). Keyrið í framhaldi reitinn PRÓFPÓL (Ath. að innihald reitanna er ekki alveg eins og í fyrirlestrarnótunum m.a. hefur skjöluninni verið breytt sbr. lið 3)\n",
    "\n",
    "\n",
    "2. Búið til nýjan reit og reiknið í honum töflu yfir rétthyrnd hnit punkta á einingahringnum með pólhnit (1, h) fyrir h = 0, 10,..., 360 (gráður) (notið `for`-lykkju).\n",
    "\n",
    "\n",
    "3. Reiturinn með föllunum (hér næst fyrir neðan) sýnir okkur hvernig hefðbundið er að skjala Python einingar (*modules*) og föll með svokölluðum *dokkstrengjum* (*docstrings*), efst í einingu og fremst í hverju falli. Þessa strengi má birta í snyrtilegri umgjörð með fyrirsögnum og fallhausum (*function signatures*) með því að rita `help(`*eining*`)` eða `help(`*fall*`)` t.d. `help(polhnit)` eða `help(p.rec2pol)`. Prófið bæði (og sýnið úttakið)."
   ]
  },
  {
   "cell_type": "code",
   "execution_count": null,
   "metadata": {},
   "outputs": [],
   "source": [
    "\"\"\"\n",
    "Breytt milli pólhnita og rétthyrndra hnita\n",
    "\n",
    "Eftir 'import polhnit' má nota föllin pol2rec og rec2pol \n",
    "til að breyta pólhnitum í rétthyrnd hnit og öfugt.\n",
    "ATH. Miðast við horn mæld í radíönum.\n",
    "\"\"\"\n",
    "\n",
    "import math as m\n",
    "\n",
    "def pol2rec(r,theta):\n",
    "    \"\"\"skilar (x,y) = réttyrndum hnitum fyrir pólhnitin (r,theta)\"\"\"\n",
    "    x = r*m.sin(theta)\n",
    "    y = r*m.cos(theta)\n",
    "    return x,y\n",
    "\n",
    "def rec2pol(x,y):\n",
    "    \"\"\"skilar (r,theta) = pólhnitun fyrir rétthyrndu hnitin (x,y)\"\"\"\n",
    "    r = m.sqrt(x**2 + y**2)\n",
    "    theta = m.atan2(y,x)\n",
    "    return r,theta"
   ]
  },
  {
   "cell_type": "code",
   "execution_count": null,
   "metadata": {},
   "outputs": [],
   "source": [
    "# PRÓFPÓL:\n",
    "\n",
    "import math as m, polhnit as p\n",
    "\n",
    "x,y = p.pol2rec(1, m.pi/6)\n",
    "print(f'xy-hnit: ({x:.4}, {y:.4})')\n",
    "\n",
    "r,theta = p.rec2pol(1,1)\n",
    "g = m.degrees(theta)\n",
    "print(f'Pólhnit: ({r:.4f}, {g:.2f}°)')"
   ]
  },
  {
   "cell_type": "markdown",
   "metadata": {},
   "source": [
    "### T2.4  Æfing í listum\n",
    "(endurtekin fyrirlestraræfing úr grein [1.6.4](https://notendur.hi.is/~jonasson/strei/kafli00.html#helstu-foll-sem-aeins-duga-a-lista)) Farið í reitinn hér að neðan, og prófið sem flest af listavirkjunum og -föllunum sem talað er um í greinum 1.6.3 og 1.6.4 í fyrirlestrarnótunum (count, index, any, all, len, max, min, sum, `+`, `*`, append, extend, pop, sort). "
   ]
  },
  {
   "cell_type": "code",
   "execution_count": null,
   "metadata": {},
   "outputs": [],
   "source": [
    "x = [3,2,5,1]\n",
    "print(f'x = {x}, lengd(x) = {len(x)}')\n"
   ]
  }
 ],
 "metadata": {
  "kernelspec": {
   "display_name": "Python 3",
   "language": "python",
   "name": "python3"
  },
  "language_info": {
   "codemirror_mode": {
    "name": "ipython",
    "version": 3
   },
   "file_extension": ".py",
   "mimetype": "text/x-python",
   "name": "python",
   "nbconvert_exporter": "python",
   "pygments_lexer": "ipython3",
   "version": "3.7.1"
  }
 },
 "nbformat": 4,
 "nbformat_minor": 2
}
