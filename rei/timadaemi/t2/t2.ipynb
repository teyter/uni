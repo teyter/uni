{
 "cells": [
  {
   "cell_type": "markdown",
   "metadata": {},
   "source": [
    "# Stærðfræði og reiknifræði – Tímadæmi 2"
   ]
  },
  {
   "cell_type": "markdown",
   "metadata": {},
   "source": [
    "### T2.1 Meðaleinkunn?\n",
    "(*Upphitun, byggt á tímadæmi T1.6*) Skrifið forrit sem les einkunnir nemanda í 3 fögum, stærðfræði, eðlisfræði og efnafræði, og reiknar og skrifar út meðaleinkunn hans. Ef meðaleinkunnin er 9 eða stærri á forritið að setja `Ágætiseinkunn` aftan við. Prófið."
   ]
  },
  {
   "cell_type": "code",
   "execution_count": 16,
   "metadata": {},
   "outputs": [
    {
     "name": "stdout",
     "output_type": "stream",
     "text": [
      "Einkunn i stae: 8.8\n",
      "Einkunn i edlis: 8.6\n",
      "Einkunn i efna: 8.44\n",
      "8.6\n",
      "Þú ættir að skammast þín\n"
     ]
    }
   ],
   "source": [
    "m = float(input(\"Einkunn i stae: \"))\n",
    "p = float(input(\"Einkunn i edlis: \"))\n",
    "c = float(input(\"Einkunn i efna: \"))\n",
    "medal = (m+p+c)/3;\n",
    "print(f'{medal:.1f}')\n",
    "if medal >= 9.0:\n",
    "    print(\"Agaetiseinkunn\")\n",
    "else:\n",
    "    print(\"Þú ættir að skammast þín\")"
   ]
  },
  {
   "cell_type": "markdown",
   "metadata": {},
   "source": [
    "### T2.2 Summur\n",
    "Skrifið svo föll sem reikna út summurnar\n",
    "\n",
    "$$\n",
    "L_n = 1 - \\frac{1}{2} + \\frac{1}{3} - \\frac{1}{4} +...+ \\frac{(-1)^{n-1}}{n}\n",
    "$$\n",
    "og\n",
    "$$\n",
    "Q_n = 1 + \\frac{1}{2^2} + \\frac{1}{3^2} +...+ \\frac{1}{n^2}\n",
    "$$\n",
    "\n",
    "Getið þið fundið út hvað $L_n$ og $Q_n$ stefna á þegar $n$ stefnir á $\\infty$?\n",
    "\n",
    "***Leiðbeining*** $L_n$ er endurtekin úr tímadæmi T1.7, þið getið skoðað lausnina á því ef þið þurfið.\n"
   ]
  },
  {
   "cell_type": "code",
   "execution_count": 17,
   "metadata": {},
   "outputs": [
    {
     "name": "stdout",
     "output_type": "stream",
     "text": [
      "Tala: 5\n",
      "0.033333333333333354\n"
     ]
    }
   ],
   "source": [
    "import math\n",
    "\n",
    "def l(n):\n",
    "    for x in range(n):\n",
    "        if n % 2 == 0:\n",
    "            y = 1/n + 1/(n+1)\n",
    "        else:\n",
    "            y = 1/n - 1/(n+1)\n",
    "        return y\n",
    "\n",
    "x = int(input(\"Tala: \"))\n",
    "print(str(l(x)))"
   ]
  },
  {
   "cell_type": "markdown",
   "metadata": {},
   "source": [
    "### T2.3 Pólhnit {-}\n",
    "\n",
    "1. Ljúkið við fyrirlestraræfinguna í grein 1.4.1 í fyrirlestrarnótunum. Hér fylgir reitur með föllunum `pol2rec` og `rec2pol` og forritinu profpol. Þið þurfið að afrita reitinn (með föllunum) í skrá `polhnit.py` (í sömu möppu og þessi júpiter-bók er), t.d. með því að nota einhvern ritil (*editor*). Keyrið í framhaldi reitinn PRÓFPÓL (Ath. að innihald reitanna er ekki alveg eins og í fyrirlestrarnótunum m.a. hefur skjöluninni verið breytt sbr. lið 3)\n",
    "\n",
    "\n",
    "2. Búið til nýjan reit og reiknið í honum töflu yfir rétthyrnd hnit punkta á einingahringnum með pólhnit (1, h) fyrir h = 0, 10,..., 360 (gráður) (notið `for`-lykkju).\n",
    "\n",
    "\n",
    "3. Reiturinn með föllunum (hér næst fyrir neðan) sýnir okkur hvernig hefðbundið er að skjala Python einingar (*modules*) og föll með svokölluðum *dokkstrengjum* (*docstrings*), efst í einingu og fremst í hverju falli. Þessa strengi má birta í snyrtilegri umgjörð með fyrirsögnum og fallhausum (*function signatures*) með því að rita `help(`*eining*`)` eða `help(`*fall*`)` t.d. `help(polhnit)` eða `help(p.rec2pol)`. Prófið bæði (og sýnið úttakið)."
   ]
  },
  {
   "cell_type": "code",
   "execution_count": 7,
   "metadata": {},
   "outputs": [
    {
     "name": "stdout",
     "output_type": "stream",
     "text": [
      "Help on function rec2pol in module __main__:\n",
      "\n",
      "rec2pol(x, y)\n",
      "    skilar (r,theta) = pólhnitun fyrir rétthyrndu hnitin (x,y)\n",
      "\n"
     ]
    }
   ],
   "source": [
    "\"\"\"\n",
    "Breytt milli pólhnita og rétthyrndra hnita\n",
    "\n",
    "Eftir 'import polhnit' má nota föllin pol2rec og rec2pol \n",
    "til að breyta pólhnitum í rétthyrnd hnit og öfugt.\n",
    "ATH. Miðast við horn mæld í radíönum.\n",
    "\"\"\"\n",
    "\n",
    "import math as m\n",
    "\n",
    "def pol2rec(r,theta):\n",
    "    \"\"\"skilar (x,y) = réttyrndum hnitum fyrir pólhnitin (r,theta)\"\"\"\n",
    "    x = r*m.sin(theta)\n",
    "    y = r*m.cos(theta)\n",
    "    return x,y\n",
    "\n",
    "def rec2pol(x,y):\n",
    "    \"\"\"skilar (r,theta) = pólhnitun fyrir rétthyrndu hnitin (x,y)\"\"\"\n",
    "    r = m.sqrt(x**2 + y**2)\n",
    "    theta = m.atan2(y,x)\n",
    "    return r,theta\n",
    "\n",
    "help(rec2pol)"
   ]
  },
  {
   "cell_type": "code",
   "execution_count": 1,
   "metadata": {},
   "outputs": [
    {
     "name": "stdout",
     "output_type": "stream",
     "text": [
      "xy-hnit: (0.5, 0.866)\n",
      "Pólhnit: (1.4142, 45.00°)\n"
     ]
    }
   ],
   "source": [
    "# PRÓFPÓL:\n",
    "\n",
    "import math as m, polhnit as p\n",
    "\n",
    "x,y = p.pol2rec(1, m.pi/6)\n",
    "print(f'xy-hnit: ({x:.4}, {y:.4})')\n",
    "\n",
    "r,theta = p.rec2pol(1,1)\n",
    "g = m.degrees(theta)\n",
    "print(f'Pólhnit: ({r:.4f}, {g:.2f}°)')"
   ]
  },
  {
   "cell_type": "code",
   "execution_count": 22,
   "metadata": {},
   "outputs": [
    {
     "name": "stdout",
     "output_type": "stream",
     "text": [
      "(1.0, 0.0)\n",
      "(0.984807753012208, 0.17364817766693033)\n",
      "(0.9396926207859084, 0.3420201433256687)\n",
      "(0.8660254037844387, 0.49999999999999994)\n",
      "(0.766044443118978, 0.6427876096865393)\n",
      "(0.6427876096865394, 0.766044443118978)\n",
      "(0.5000000000000001, 0.8660254037844386)\n",
      "(0.3420201433256688, 0.9396926207859083)\n",
      "(0.17364817766693041, 0.984807753012208)\n",
      "(6.123233995736766e-17, 1.0)\n",
      "(-0.1736481776669303, 0.984807753012208)\n",
      "(-0.3420201433256687, 0.9396926207859084)\n",
      "(-0.4999999999999998, 0.8660254037844387)\n",
      "(-0.6427876096865394, 0.766044443118978)\n",
      "(-0.7660444431189779, 0.6427876096865395)\n",
      "(-0.8660254037844387, 0.49999999999999994)\n",
      "(-0.9396926207859083, 0.3420201433256689)\n",
      "(-0.984807753012208, 0.17364817766693028)\n",
      "(-1.0, 1.2246467991473532e-16)\n",
      "(-0.984807753012208, -0.17364817766693047)\n",
      "(-0.9396926207859084, -0.34202014332566866)\n",
      "(-0.8660254037844386, -0.5000000000000001)\n",
      "(-0.766044443118978, -0.6427876096865393)\n",
      "(-0.6427876096865395, -0.7660444431189779)\n",
      "(-0.5000000000000004, -0.8660254037844384)\n",
      "(-0.34202014332566855, -0.9396926207859084)\n",
      "(-0.17364817766693033, -0.984807753012208)\n",
      "(-1.8369701987210297e-16, -1.0)\n",
      "(0.17364817766692997, -0.9848077530122081)\n",
      "(0.342020143325669, -0.9396926207859083)\n",
      "(0.5000000000000001, -0.8660254037844386)\n",
      "(0.6427876096865393, -0.7660444431189781)\n",
      "(0.7660444431189778, -0.6427876096865396)\n",
      "(0.8660254037844384, -0.5000000000000004)\n",
      "(0.9396926207859084, -0.3420201433256686)\n",
      "(0.984807753012208, -0.1736481776669304)\n"
     ]
    }
   ],
   "source": [
    "import math as m\n",
    "\n",
    "def pol2rec(r,theta):\n",
    "    \"\"\"skilar (x,y) = réttyrndum hnitum fyrir pólhnitin (r,theta)\"\"\"\n",
    "    x = r*m.cos(theta)\n",
    "    y = r*m.sin(theta)\n",
    "    return x,y\n",
    "\n",
    "for h in range(0,360,10):\n",
    "    print(pol2rec(1,m.radians(h)))"
   ]
  },
  {
   "cell_type": "markdown",
   "metadata": {},
   "source": [
    "### T2.4  Æfing í listum\n",
    "(endurtekin fyrirlestraræfing úr grein [1.6.4](https://notendur.hi.is/~jonasson/strei/kafli00.html#helstu-foll-sem-aeins-duga-a-lista)) Farið í reitinn hér að neðan, og prófið sem flest af listavirkjunum og -föllunum sem talað er um í greinum 1.6.3 og 1.6.4 í fyrirlestrarnótunum (count, index, any, all, len, max, min, sum, `+`, `*`, append, extend, pop, sort). "
   ]
  },
  {
   "cell_type": "code",
   "execution_count": null,
   "metadata": {},
   "outputs": [],
   "source": [
    "x = [3,2,5,1]\n",
    "print(f'x = {x}, lengd(x) = {len(x)}')\n"
   ]
  }
 ],
 "metadata": {
  "kernelspec": {
   "display_name": "Python 3",
   "language": "python",
   "name": "python3"
  },
  "language_info": {
   "codemirror_mode": {
    "name": "ipython",
    "version": 3
   },
   "file_extension": ".py",
   "mimetype": "text/x-python",
   "name": "python",
   "nbconvert_exporter": "python",
   "pygments_lexer": "ipython3",
   "version": "3.7.1"
  }
 },
 "nbformat": 4,
 "nbformat_minor": 2
}
